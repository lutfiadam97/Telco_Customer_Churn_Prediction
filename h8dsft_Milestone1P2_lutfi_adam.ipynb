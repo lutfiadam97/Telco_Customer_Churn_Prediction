{
  "cells": [
    {
      "cell_type": "markdown",
      "metadata": {
        "id": "tT8dyhYnjBOS"
      },
      "source": [
        "# Milestones 1\n",
        "\n",
        "---"
      ]
    },
    {
      "cell_type": "markdown",
      "metadata": {
        "id": "K3LsDLZtjBOX"
      },
      "source": [
        "# 1. Perkenalan\n",
        "\n",
        "Bab pengenalan harus diisi dengan identitas, gambaran besar dataset yang digunakan, dan objective yang ingin dicapai."
      ]
    },
    {
      "cell_type": "markdown",
      "metadata": {
        "id": "BC8XQ6GGjBOY"
      },
      "source": [
        "**Title** : Telco Customer Churn\n",
        "\n",
        "**Konteks** :\n",
        "\"Prediksi perilaku untuk mempertahankan pelanggan. Kami akan menganalisis semua data pelanggan yang relevan dan mengembangkan program retensi pelanggan yang terfokus\".\n",
        "\n",
        "**Konten** :\n",
        "Setiap baris mewakili pelanggan, setiap kolom berisi atribut pelanggan yang dijelaskan pada kolom Metadata.\n",
        "\n",
        "Dataset mencakup informasi tentang :\n",
        "- Pelanggan yang pergi dalam sebulan terakhir - Churn\n",
        "- Layanan yang telah didaftarkan oleh setiap pelanggan - Telepon, internet, multiple lines, online security, online backup, service protection, tech support dan streaming TV dan movie.\n",
        "- Informasi akun pelanggan - sudah berapa lama mereka menjadi pelanggan, kontrak, metode pembayaran, tagihan tanpa kertas, tagihan bulanan dan total tagihan.\n",
        "- Info demografis tentang pelanggan - Jenis kelamin, rentang usia, dan jika mereka berpasangan dan tanggungan.\n",
        "- Catatan : kolom SeniorCitizen adalah usia pelanggan diatas 65 tahun (Yes : 1, No : 0)."
      ]
    },
    {
      "cell_type": "markdown",
      "metadata": {
        "id": "gEDqqgnsjBOZ"
      },
      "source": [
        "Objective :\n",
        "- Mampu membuat model Machine Learning untuk memprediksi pelanggan yang akan tetap menggunakan produk dari Telco atau pergi (Churn)\n",
        "- Mampu membuat model Machine Learning dengan menggunakan Tensor-flow."
      ]
    },
    {
      "cell_type": "markdown",
      "metadata": {
        "id": "PAxHx_hUjBOZ"
      },
      "source": [
        "# 2. Import Pustaka\n",
        "Cell pertama pada notebook harus berisi dan hanya berisi semua library yang digunakan dalam project."
      ]
    },
    {
      "cell_type": "code",
      "execution_count": 1,
      "metadata": {
        "colab": {
          "base_uri": "https://localhost:8080/"
        },
        "id": "ON80V1rKj51s",
        "outputId": "f0eaffdd-c33f-470e-b310-35f859b4b3b3"
      },
      "outputs": [],
      "source": [
        "# !pip install feature_engine"
      ]
    },
    {
      "cell_type": "code",
      "execution_count": 2,
      "metadata": {
        "id": "i4eJp4tujBOa"
      },
      "outputs": [],
      "source": [
        "import pandas as pd\n",
        "import numpy as np\n",
        "import matplotlib.pyplot as plt\n",
        "import seaborn as sns\n",
        "\n",
        "import warnings\n",
        "warnings.filterwarnings('ignore')\n",
        "\n",
        "# Split Dataset Train and Test\n",
        "from sklearn.model_selection import train_test_split\n",
        "\n",
        "# Handling Outliers and Missing Values\n",
        "from feature_engine.outliers import Winsorizer\n",
        "from feature_engine.outliers import OutlierTrimmer\n",
        "from feature_engine.imputation import MeanMedianImputer, CategoricalImputer\n",
        "from sklearn.impute import SimpleImputer\n",
        "\n",
        "\n",
        "# Feature Scaling and Feature Encoding\n",
        "from sklearn.preprocessing import LabelEncoder, OrdinalEncoder\n",
        "from sklearn.preprocessing import OneHotEncoder\n",
        "from sklearn.preprocessing import StandardScaler, MinMaxScaler\n",
        "\n",
        "# Pipeline\n",
        "from sklearn.pipeline import Pipeline\n",
        "from sklearn.compose import ColumnTransformer\n",
        "\n",
        "# SMOTE\n",
        "from imblearn.over_sampling import SMOTE\n",
        "\n",
        "# Tensorflow\n",
        "from tensorflow.keras.models import Sequential\n",
        "from tensorflow.keras.layers import Dense, Input, Dropout\n",
        "from tensorflow.keras.initializers import GlorotNormal, GlorotUniform, RandomUniform, RandomNormal\n",
        "from tensorflow.keras.models import Model\n",
        "import tensorflow as tf\n",
        "\n",
        "# Model Evaluation\n",
        "from sklearn.metrics import classification_report, f1_score, confusion_matrix, accuracy_score\n"
      ]
    },
    {
      "cell_type": "markdown",
      "metadata": {
        "id": "XXAjgstCjBOc"
      },
      "source": [
        "# 3. Data Loading\n",
        "\n",
        "Bagian ini berisi proses penyiapan data sebelum dilakukan eksplorasi data lebih lanjut. Proses Data Loading dapat berupa memberi nama baru untuk setiap kolom, mengecek ukuran dataset, dll."
      ]
    },
    {
      "cell_type": "code",
      "execution_count": 3,
      "metadata": {
        "colab": {
          "base_uri": "https://localhost:8080/",
          "height": 661
        },
        "id": "7y6hPcM5jBOd",
        "outputId": "78fbfbf9-07fd-405c-98d1-a02dd43b279a"
      },
      "outputs": [
        {
          "data": {
            "text/html": [
              "<div>\n",
              "<style scoped>\n",
              "    .dataframe tbody tr th:only-of-type {\n",
              "        vertical-align: middle;\n",
              "    }\n",
              "\n",
              "    .dataframe tbody tr th {\n",
              "        vertical-align: top;\n",
              "    }\n",
              "\n",
              "    .dataframe thead th {\n",
              "        text-align: right;\n",
              "    }\n",
              "</style>\n",
              "<table border=\"1\" class=\"dataframe\">\n",
              "  <thead>\n",
              "    <tr style=\"text-align: right;\">\n",
              "      <th></th>\n",
              "      <th>customerID</th>\n",
              "      <th>gender</th>\n",
              "      <th>SeniorCitizen</th>\n",
              "      <th>Partner</th>\n",
              "      <th>Dependents</th>\n",
              "      <th>tenure</th>\n",
              "      <th>PhoneService</th>\n",
              "      <th>MultipleLines</th>\n",
              "      <th>InternetService</th>\n",
              "      <th>OnlineSecurity</th>\n",
              "      <th>OnlineBackup</th>\n",
              "      <th>DeviceProtection</th>\n",
              "      <th>TechSupport</th>\n",
              "      <th>StreamingTV</th>\n",
              "      <th>StreamingMovies</th>\n",
              "      <th>Contract</th>\n",
              "      <th>PaperlessBilling</th>\n",
              "      <th>PaymentMethod</th>\n",
              "      <th>MonthlyCharges</th>\n",
              "      <th>TotalCharges</th>\n",
              "      <th>Churn</th>\n",
              "    </tr>\n",
              "  </thead>\n",
              "  <tbody>\n",
              "    <tr>\n",
              "      <th>0</th>\n",
              "      <td>7590-VHVEG</td>\n",
              "      <td>Female</td>\n",
              "      <td>0</td>\n",
              "      <td>Yes</td>\n",
              "      <td>No</td>\n",
              "      <td>1</td>\n",
              "      <td>No</td>\n",
              "      <td>No phone service</td>\n",
              "      <td>DSL</td>\n",
              "      <td>No</td>\n",
              "      <td>Yes</td>\n",
              "      <td>No</td>\n",
              "      <td>No</td>\n",
              "      <td>No</td>\n",
              "      <td>No</td>\n",
              "      <td>Month-to-month</td>\n",
              "      <td>Yes</td>\n",
              "      <td>Electronic check</td>\n",
              "      <td>29.85</td>\n",
              "      <td>29.85</td>\n",
              "      <td>No</td>\n",
              "    </tr>\n",
              "    <tr>\n",
              "      <th>1</th>\n",
              "      <td>5575-GNVDE</td>\n",
              "      <td>Male</td>\n",
              "      <td>0</td>\n",
              "      <td>No</td>\n",
              "      <td>No</td>\n",
              "      <td>34</td>\n",
              "      <td>Yes</td>\n",
              "      <td>No</td>\n",
              "      <td>DSL</td>\n",
              "      <td>Yes</td>\n",
              "      <td>No</td>\n",
              "      <td>Yes</td>\n",
              "      <td>No</td>\n",
              "      <td>No</td>\n",
              "      <td>No</td>\n",
              "      <td>One year</td>\n",
              "      <td>No</td>\n",
              "      <td>Mailed check</td>\n",
              "      <td>56.95</td>\n",
              "      <td>1889.5</td>\n",
              "      <td>No</td>\n",
              "    </tr>\n",
              "    <tr>\n",
              "      <th>2</th>\n",
              "      <td>3668-QPYBK</td>\n",
              "      <td>Male</td>\n",
              "      <td>0</td>\n",
              "      <td>No</td>\n",
              "      <td>No</td>\n",
              "      <td>2</td>\n",
              "      <td>Yes</td>\n",
              "      <td>No</td>\n",
              "      <td>DSL</td>\n",
              "      <td>Yes</td>\n",
              "      <td>Yes</td>\n",
              "      <td>No</td>\n",
              "      <td>No</td>\n",
              "      <td>No</td>\n",
              "      <td>No</td>\n",
              "      <td>Month-to-month</td>\n",
              "      <td>Yes</td>\n",
              "      <td>Mailed check</td>\n",
              "      <td>53.85</td>\n",
              "      <td>108.15</td>\n",
              "      <td>Yes</td>\n",
              "    </tr>\n",
              "    <tr>\n",
              "      <th>3</th>\n",
              "      <td>7795-CFOCW</td>\n",
              "      <td>Male</td>\n",
              "      <td>0</td>\n",
              "      <td>No</td>\n",
              "      <td>No</td>\n",
              "      <td>45</td>\n",
              "      <td>No</td>\n",
              "      <td>No phone service</td>\n",
              "      <td>DSL</td>\n",
              "      <td>Yes</td>\n",
              "      <td>No</td>\n",
              "      <td>Yes</td>\n",
              "      <td>Yes</td>\n",
              "      <td>No</td>\n",
              "      <td>No</td>\n",
              "      <td>One year</td>\n",
              "      <td>No</td>\n",
              "      <td>Bank transfer (automatic)</td>\n",
              "      <td>42.30</td>\n",
              "      <td>1840.75</td>\n",
              "      <td>No</td>\n",
              "    </tr>\n",
              "    <tr>\n",
              "      <th>4</th>\n",
              "      <td>9237-HQITU</td>\n",
              "      <td>Female</td>\n",
              "      <td>0</td>\n",
              "      <td>No</td>\n",
              "      <td>No</td>\n",
              "      <td>2</td>\n",
              "      <td>Yes</td>\n",
              "      <td>No</td>\n",
              "      <td>Fiber optic</td>\n",
              "      <td>No</td>\n",
              "      <td>No</td>\n",
              "      <td>No</td>\n",
              "      <td>No</td>\n",
              "      <td>No</td>\n",
              "      <td>No</td>\n",
              "      <td>Month-to-month</td>\n",
              "      <td>Yes</td>\n",
              "      <td>Electronic check</td>\n",
              "      <td>70.70</td>\n",
              "      <td>151.65</td>\n",
              "      <td>Yes</td>\n",
              "    </tr>\n",
              "    <tr>\n",
              "      <th>...</th>\n",
              "      <td>...</td>\n",
              "      <td>...</td>\n",
              "      <td>...</td>\n",
              "      <td>...</td>\n",
              "      <td>...</td>\n",
              "      <td>...</td>\n",
              "      <td>...</td>\n",
              "      <td>...</td>\n",
              "      <td>...</td>\n",
              "      <td>...</td>\n",
              "      <td>...</td>\n",
              "      <td>...</td>\n",
              "      <td>...</td>\n",
              "      <td>...</td>\n",
              "      <td>...</td>\n",
              "      <td>...</td>\n",
              "      <td>...</td>\n",
              "      <td>...</td>\n",
              "      <td>...</td>\n",
              "      <td>...</td>\n",
              "      <td>...</td>\n",
              "    </tr>\n",
              "    <tr>\n",
              "      <th>7038</th>\n",
              "      <td>6840-RESVB</td>\n",
              "      <td>Male</td>\n",
              "      <td>0</td>\n",
              "      <td>Yes</td>\n",
              "      <td>Yes</td>\n",
              "      <td>24</td>\n",
              "      <td>Yes</td>\n",
              "      <td>Yes</td>\n",
              "      <td>DSL</td>\n",
              "      <td>Yes</td>\n",
              "      <td>No</td>\n",
              "      <td>Yes</td>\n",
              "      <td>Yes</td>\n",
              "      <td>Yes</td>\n",
              "      <td>Yes</td>\n",
              "      <td>One year</td>\n",
              "      <td>Yes</td>\n",
              "      <td>Mailed check</td>\n",
              "      <td>84.80</td>\n",
              "      <td>1990.5</td>\n",
              "      <td>No</td>\n",
              "    </tr>\n",
              "    <tr>\n",
              "      <th>7039</th>\n",
              "      <td>2234-XADUH</td>\n",
              "      <td>Female</td>\n",
              "      <td>0</td>\n",
              "      <td>Yes</td>\n",
              "      <td>Yes</td>\n",
              "      <td>72</td>\n",
              "      <td>Yes</td>\n",
              "      <td>Yes</td>\n",
              "      <td>Fiber optic</td>\n",
              "      <td>No</td>\n",
              "      <td>Yes</td>\n",
              "      <td>Yes</td>\n",
              "      <td>No</td>\n",
              "      <td>Yes</td>\n",
              "      <td>Yes</td>\n",
              "      <td>One year</td>\n",
              "      <td>Yes</td>\n",
              "      <td>Credit card (automatic)</td>\n",
              "      <td>103.20</td>\n",
              "      <td>7362.9</td>\n",
              "      <td>No</td>\n",
              "    </tr>\n",
              "    <tr>\n",
              "      <th>7040</th>\n",
              "      <td>4801-JZAZL</td>\n",
              "      <td>Female</td>\n",
              "      <td>0</td>\n",
              "      <td>Yes</td>\n",
              "      <td>Yes</td>\n",
              "      <td>11</td>\n",
              "      <td>No</td>\n",
              "      <td>No phone service</td>\n",
              "      <td>DSL</td>\n",
              "      <td>Yes</td>\n",
              "      <td>No</td>\n",
              "      <td>No</td>\n",
              "      <td>No</td>\n",
              "      <td>No</td>\n",
              "      <td>No</td>\n",
              "      <td>Month-to-month</td>\n",
              "      <td>Yes</td>\n",
              "      <td>Electronic check</td>\n",
              "      <td>29.60</td>\n",
              "      <td>346.45</td>\n",
              "      <td>No</td>\n",
              "    </tr>\n",
              "    <tr>\n",
              "      <th>7041</th>\n",
              "      <td>8361-LTMKD</td>\n",
              "      <td>Male</td>\n",
              "      <td>1</td>\n",
              "      <td>Yes</td>\n",
              "      <td>No</td>\n",
              "      <td>4</td>\n",
              "      <td>Yes</td>\n",
              "      <td>Yes</td>\n",
              "      <td>Fiber optic</td>\n",
              "      <td>No</td>\n",
              "      <td>No</td>\n",
              "      <td>No</td>\n",
              "      <td>No</td>\n",
              "      <td>No</td>\n",
              "      <td>No</td>\n",
              "      <td>Month-to-month</td>\n",
              "      <td>Yes</td>\n",
              "      <td>Mailed check</td>\n",
              "      <td>74.40</td>\n",
              "      <td>306.6</td>\n",
              "      <td>Yes</td>\n",
              "    </tr>\n",
              "    <tr>\n",
              "      <th>7042</th>\n",
              "      <td>3186-AJIEK</td>\n",
              "      <td>Male</td>\n",
              "      <td>0</td>\n",
              "      <td>No</td>\n",
              "      <td>No</td>\n",
              "      <td>66</td>\n",
              "      <td>Yes</td>\n",
              "      <td>No</td>\n",
              "      <td>Fiber optic</td>\n",
              "      <td>Yes</td>\n",
              "      <td>No</td>\n",
              "      <td>Yes</td>\n",
              "      <td>Yes</td>\n",
              "      <td>Yes</td>\n",
              "      <td>Yes</td>\n",
              "      <td>Two year</td>\n",
              "      <td>Yes</td>\n",
              "      <td>Bank transfer (automatic)</td>\n",
              "      <td>105.65</td>\n",
              "      <td>6844.5</td>\n",
              "      <td>No</td>\n",
              "    </tr>\n",
              "  </tbody>\n",
              "</table>\n",
              "<p>7043 rows × 21 columns</p>\n",
              "</div>"
            ],
            "text/plain": [
              "      customerID  gender  SeniorCitizen Partner Dependents  tenure  \\\n",
              "0     7590-VHVEG  Female              0     Yes         No       1   \n",
              "1     5575-GNVDE    Male              0      No         No      34   \n",
              "2     3668-QPYBK    Male              0      No         No       2   \n",
              "3     7795-CFOCW    Male              0      No         No      45   \n",
              "4     9237-HQITU  Female              0      No         No       2   \n",
              "...          ...     ...            ...     ...        ...     ...   \n",
              "7038  6840-RESVB    Male              0     Yes        Yes      24   \n",
              "7039  2234-XADUH  Female              0     Yes        Yes      72   \n",
              "7040  4801-JZAZL  Female              0     Yes        Yes      11   \n",
              "7041  8361-LTMKD    Male              1     Yes         No       4   \n",
              "7042  3186-AJIEK    Male              0      No         No      66   \n",
              "\n",
              "     PhoneService     MultipleLines InternetService OnlineSecurity  \\\n",
              "0              No  No phone service             DSL             No   \n",
              "1             Yes                No             DSL            Yes   \n",
              "2             Yes                No             DSL            Yes   \n",
              "3              No  No phone service             DSL            Yes   \n",
              "4             Yes                No     Fiber optic             No   \n",
              "...           ...               ...             ...            ...   \n",
              "7038          Yes               Yes             DSL            Yes   \n",
              "7039          Yes               Yes     Fiber optic             No   \n",
              "7040           No  No phone service             DSL            Yes   \n",
              "7041          Yes               Yes     Fiber optic             No   \n",
              "7042          Yes                No     Fiber optic            Yes   \n",
              "\n",
              "     OnlineBackup DeviceProtection TechSupport StreamingTV StreamingMovies  \\\n",
              "0             Yes               No          No          No              No   \n",
              "1              No              Yes          No          No              No   \n",
              "2             Yes               No          No          No              No   \n",
              "3              No              Yes         Yes          No              No   \n",
              "4              No               No          No          No              No   \n",
              "...           ...              ...         ...         ...             ...   \n",
              "7038           No              Yes         Yes         Yes             Yes   \n",
              "7039          Yes              Yes          No         Yes             Yes   \n",
              "7040           No               No          No          No              No   \n",
              "7041           No               No          No          No              No   \n",
              "7042           No              Yes         Yes         Yes             Yes   \n",
              "\n",
              "            Contract PaperlessBilling              PaymentMethod  \\\n",
              "0     Month-to-month              Yes           Electronic check   \n",
              "1           One year               No               Mailed check   \n",
              "2     Month-to-month              Yes               Mailed check   \n",
              "3           One year               No  Bank transfer (automatic)   \n",
              "4     Month-to-month              Yes           Electronic check   \n",
              "...              ...              ...                        ...   \n",
              "7038        One year              Yes               Mailed check   \n",
              "7039        One year              Yes    Credit card (automatic)   \n",
              "7040  Month-to-month              Yes           Electronic check   \n",
              "7041  Month-to-month              Yes               Mailed check   \n",
              "7042        Two year              Yes  Bank transfer (automatic)   \n",
              "\n",
              "      MonthlyCharges TotalCharges Churn  \n",
              "0              29.85        29.85    No  \n",
              "1              56.95       1889.5    No  \n",
              "2              53.85       108.15   Yes  \n",
              "3              42.30      1840.75    No  \n",
              "4              70.70       151.65   Yes  \n",
              "...              ...          ...   ...  \n",
              "7038           84.80       1990.5    No  \n",
              "7039          103.20       7362.9    No  \n",
              "7040           29.60       346.45    No  \n",
              "7041           74.40        306.6   Yes  \n",
              "7042          105.65       6844.5    No  \n",
              "\n",
              "[7043 rows x 21 columns]"
            ]
          },
          "execution_count": 3,
          "metadata": {},
          "output_type": "execute_result"
        }
      ],
      "source": [
        "# Dataset\n",
        "\n",
        "# df = pd.read_csv('Telco-Customer-Churn.csv')\n",
        "df = pd.read_csv('D:\\Project\\hacktiv8_project\\dataset\\milestone_dataset/Telco-Customer-Churn.csv')\n",
        "df_ori = df.copy()\n",
        "pd.set_option('display.max_columns', None)\n",
        "df"
      ]
    },
    {
      "cell_type": "code",
      "execution_count": 4,
      "metadata": {
        "colab": {
          "base_uri": "https://localhost:8080/"
        },
        "id": "NSyzO0CWjBOf",
        "outputId": "52ffe1c5-16a1-4bb7-a5fe-7b8c409da8bf"
      },
      "outputs": [
        {
          "data": {
            "text/plain": [
              "(7043, 21)"
            ]
          },
          "execution_count": 4,
          "metadata": {},
          "output_type": "execute_result"
        }
      ],
      "source": [
        "df.shape"
      ]
    },
    {
      "cell_type": "code",
      "execution_count": 5,
      "metadata": {
        "colab": {
          "base_uri": "https://localhost:8080/"
        },
        "id": "SX0xaJZOjBOg",
        "outputId": "8a59cd8c-91e2-44a9-f5f8-d83858c78635"
      },
      "outputs": [
        {
          "name": "stdout",
          "output_type": "stream",
          "text": [
            "<class 'pandas.core.frame.DataFrame'>\n",
            "RangeIndex: 7043 entries, 0 to 7042\n",
            "Data columns (total 21 columns):\n",
            " #   Column            Non-Null Count  Dtype  \n",
            "---  ------            --------------  -----  \n",
            " 0   customerID        7043 non-null   object \n",
            " 1   gender            7043 non-null   object \n",
            " 2   SeniorCitizen     7043 non-null   int64  \n",
            " 3   Partner           7043 non-null   object \n",
            " 4   Dependents        7043 non-null   object \n",
            " 5   tenure            7043 non-null   int64  \n",
            " 6   PhoneService      7043 non-null   object \n",
            " 7   MultipleLines     7043 non-null   object \n",
            " 8   InternetService   7043 non-null   object \n",
            " 9   OnlineSecurity    7043 non-null   object \n",
            " 10  OnlineBackup      7043 non-null   object \n",
            " 11  DeviceProtection  7043 non-null   object \n",
            " 12  TechSupport       7043 non-null   object \n",
            " 13  StreamingTV       7043 non-null   object \n",
            " 14  StreamingMovies   7043 non-null   object \n",
            " 15  Contract          7043 non-null   object \n",
            " 16  PaperlessBilling  7043 non-null   object \n",
            " 17  PaymentMethod     7043 non-null   object \n",
            " 18  MonthlyCharges    7043 non-null   float64\n",
            " 19  TotalCharges      7043 non-null   object \n",
            " 20  Churn             7043 non-null   object \n",
            "dtypes: float64(1), int64(2), object(18)\n",
            "memory usage: 1.1+ MB\n"
          ]
        }
      ],
      "source": [
        "df.info()"
      ]
    },
    {
      "cell_type": "code",
      "execution_count": 6,
      "metadata": {
        "colab": {
          "base_uri": "https://localhost:8080/"
        },
        "id": "nO-9IV3IjBOh",
        "outputId": "900654a3-73d4-4e37-9b20-efd446ce18bd"
      },
      "outputs": [
        {
          "data": {
            "text/plain": [
              "No     0.73463\n",
              "Yes    0.26537\n",
              "Name: Churn, dtype: float64"
            ]
          },
          "execution_count": 6,
          "metadata": {},
          "output_type": "execute_result"
        }
      ],
      "source": [
        "# cek jumlah angka distribusi di kolom Target\n",
        "df['Churn'].value_counts()/len(df)"
      ]
    },
    {
      "cell_type": "markdown",
      "metadata": {
        "id": "e8yOIl2fjBOh"
      },
      "source": [
        "Dataset ini termasuk **Imbalance Dataset**. Gunakan SMOTE untuk membuat dataset menjadi balance."
      ]
    },
    {
      "cell_type": "code",
      "execution_count": 7,
      "metadata": {
        "colab": {
          "base_uri": "https://localhost:8080/",
          "height": 300
        },
        "id": "mXDjKBxNjBOh",
        "outputId": "e95fe7c5-c89e-49f9-c2c0-81f171397ad1"
      },
      "outputs": [
        {
          "data": {
            "text/html": [
              "<div>\n",
              "<style scoped>\n",
              "    .dataframe tbody tr th:only-of-type {\n",
              "        vertical-align: middle;\n",
              "    }\n",
              "\n",
              "    .dataframe tbody tr th {\n",
              "        vertical-align: top;\n",
              "    }\n",
              "\n",
              "    .dataframe thead th {\n",
              "        text-align: right;\n",
              "    }\n",
              "</style>\n",
              "<table border=\"1\" class=\"dataframe\">\n",
              "  <thead>\n",
              "    <tr style=\"text-align: right;\">\n",
              "      <th></th>\n",
              "      <th>SeniorCitizen</th>\n",
              "      <th>tenure</th>\n",
              "      <th>MonthlyCharges</th>\n",
              "    </tr>\n",
              "  </thead>\n",
              "  <tbody>\n",
              "    <tr>\n",
              "      <th>count</th>\n",
              "      <td>7043.000000</td>\n",
              "      <td>7043.000000</td>\n",
              "      <td>7043.000000</td>\n",
              "    </tr>\n",
              "    <tr>\n",
              "      <th>mean</th>\n",
              "      <td>0.162147</td>\n",
              "      <td>32.371149</td>\n",
              "      <td>64.761692</td>\n",
              "    </tr>\n",
              "    <tr>\n",
              "      <th>std</th>\n",
              "      <td>0.368612</td>\n",
              "      <td>24.559481</td>\n",
              "      <td>30.090047</td>\n",
              "    </tr>\n",
              "    <tr>\n",
              "      <th>min</th>\n",
              "      <td>0.000000</td>\n",
              "      <td>0.000000</td>\n",
              "      <td>18.250000</td>\n",
              "    </tr>\n",
              "    <tr>\n",
              "      <th>25%</th>\n",
              "      <td>0.000000</td>\n",
              "      <td>9.000000</td>\n",
              "      <td>35.500000</td>\n",
              "    </tr>\n",
              "    <tr>\n",
              "      <th>50%</th>\n",
              "      <td>0.000000</td>\n",
              "      <td>29.000000</td>\n",
              "      <td>70.350000</td>\n",
              "    </tr>\n",
              "    <tr>\n",
              "      <th>75%</th>\n",
              "      <td>0.000000</td>\n",
              "      <td>55.000000</td>\n",
              "      <td>89.850000</td>\n",
              "    </tr>\n",
              "    <tr>\n",
              "      <th>max</th>\n",
              "      <td>1.000000</td>\n",
              "      <td>72.000000</td>\n",
              "      <td>118.750000</td>\n",
              "    </tr>\n",
              "  </tbody>\n",
              "</table>\n",
              "</div>"
            ],
            "text/plain": [
              "       SeniorCitizen       tenure  MonthlyCharges\n",
              "count    7043.000000  7043.000000     7043.000000\n",
              "mean        0.162147    32.371149       64.761692\n",
              "std         0.368612    24.559481       30.090047\n",
              "min         0.000000     0.000000       18.250000\n",
              "25%         0.000000     9.000000       35.500000\n",
              "50%         0.000000    29.000000       70.350000\n",
              "75%         0.000000    55.000000       89.850000\n",
              "max         1.000000    72.000000      118.750000"
            ]
          },
          "execution_count": 7,
          "metadata": {},
          "output_type": "execute_result"
        }
      ],
      "source": [
        "df.describe()"
      ]
    },
    {
      "cell_type": "markdown",
      "metadata": {
        "id": "PibotVVhjBOi"
      },
      "source": [
        "# 4. Exploratory Data Analysis (EDA)\n",
        "\n",
        "Bagian ini berisi eksplorasi data pada dataset diatas dengan menggunakan query, grouping, visualisasi sederhana, dan lain sebagainya."
      ]
    },
    {
      "cell_type": "code",
      "execution_count": 8,
      "metadata": {
        "colab": {
          "base_uri": "https://localhost:8080/"
        },
        "id": "GvxogIq9jBOi",
        "outputId": "ce4982ba-f4c6-4859-beff-783d11b2af85"
      },
      "outputs": [
        {
          "data": {
            "text/plain": [
              "customerID          0\n",
              "gender              0\n",
              "SeniorCitizen       0\n",
              "Partner             0\n",
              "Dependents          0\n",
              "tenure              0\n",
              "PhoneService        0\n",
              "MultipleLines       0\n",
              "InternetService     0\n",
              "OnlineSecurity      0\n",
              "OnlineBackup        0\n",
              "DeviceProtection    0\n",
              "TechSupport         0\n",
              "StreamingTV         0\n",
              "StreamingMovies     0\n",
              "Contract            0\n",
              "PaperlessBilling    0\n",
              "PaymentMethod       0\n",
              "MonthlyCharges      0\n",
              "TotalCharges        0\n",
              "Churn               0\n",
              "dtype: int64"
            ]
          },
          "execution_count": 8,
          "metadata": {},
          "output_type": "execute_result"
        }
      ],
      "source": [
        "# cek missing values\n",
        "df.isna().sum()"
      ]
    },
    {
      "cell_type": "markdown",
      "metadata": {
        "id": "qHAfMl8ajBOj"
      },
      "source": [
        "Tidak ada missing values pada dataset ini."
      ]
    },
    {
      "cell_type": "markdown",
      "metadata": {
        "id": "oGVllzA5jBOj"
      },
      "source": [
        "## 4.1. Mengetahui pelanggan yang pergi (Churn) berdasarkan gender."
      ]
    },
    {
      "cell_type": "code",
      "execution_count": 9,
      "metadata": {
        "colab": {
          "base_uri": "https://localhost:8080/",
          "height": 143
        },
        "id": "GbhpjncUjBOj",
        "outputId": "0c0db760-c8e5-4981-8a5d-93c05acba302"
      },
      "outputs": [
        {
          "data": {
            "text/html": [
              "<div>\n",
              "<style scoped>\n",
              "    .dataframe tbody tr th:only-of-type {\n",
              "        vertical-align: middle;\n",
              "    }\n",
              "\n",
              "    .dataframe tbody tr th {\n",
              "        vertical-align: top;\n",
              "    }\n",
              "\n",
              "    .dataframe thead th {\n",
              "        text-align: right;\n",
              "    }\n",
              "</style>\n",
              "<table border=\"1\" class=\"dataframe\">\n",
              "  <thead>\n",
              "    <tr style=\"text-align: right;\">\n",
              "      <th>Churn</th>\n",
              "      <th>No</th>\n",
              "      <th>Yes</th>\n",
              "    </tr>\n",
              "    <tr>\n",
              "      <th>gender</th>\n",
              "      <th></th>\n",
              "      <th></th>\n",
              "    </tr>\n",
              "  </thead>\n",
              "  <tbody>\n",
              "    <tr>\n",
              "      <th>Female</th>\n",
              "      <td>2549</td>\n",
              "      <td>939</td>\n",
              "    </tr>\n",
              "    <tr>\n",
              "      <th>Male</th>\n",
              "      <td>2625</td>\n",
              "      <td>930</td>\n",
              "    </tr>\n",
              "  </tbody>\n",
              "</table>\n",
              "</div>"
            ],
            "text/plain": [
              "Churn     No  Yes\n",
              "gender           \n",
              "Female  2549  939\n",
              "Male    2625  930"
            ]
          },
          "execution_count": 9,
          "metadata": {},
          "output_type": "execute_result"
        }
      ],
      "source": [
        "new_df = df.copy()\n",
        "gender_churn = pd.crosstab(new_df['gender'], new_df['Churn'])\n",
        "gender_churn"
      ]
    },
    {
      "cell_type": "code",
      "execution_count": 10,
      "metadata": {
        "colab": {
          "base_uri": "https://localhost:8080/",
          "height": 334
        },
        "id": "kjW2XiNljBOk",
        "outputId": "12a701f3-6cf1-4686-e000-5c3e720c02f4"
      },
      "outputs": [
        {
          "data": {
            "image/png": "[encoded data removed]",
            "text/plain": [
              "<Figure size 576x360 with 1 Axes>"
            ]
          },
          "metadata": {
            "needs_background": "light"
          },
          "output_type": "display_data"
        }
      ],
      "source": [
        "# new_df['Churn'] = new_df['Churn'].replace({'No' : 0, 'Yes' : 1})\n",
        "plt.figure(figsize=(8,5))\n",
        "ax = sns.countplot(x='Churn', hue='gender', data=new_df)"
      ]
    },
    {
      "cell_type": "markdown",
      "metadata": {
        "id": "w2QiGWIujBOk"
      },
      "source": [
        "Berdasarkan gambar diatas, terlihat bahwa kami masih bisa banyak mempertahankan pelanggan untuk tetap berlangganan pada produk kami dibanding dengan pelanggan yang pergi."
      ]
    },
    {
      "cell_type": "markdown",
      "metadata": {
        "id": "hxLGHMLfjBOl"
      },
      "source": [
        "## 4.2. Mengetahui Churn berdasarkan Total Charge (total tagihan yang harus dibayar oleh pelanggan)."
      ]
    },
    {
      "cell_type": "code",
      "execution_count": 11,
      "metadata": {
        "colab": {
          "base_uri": "https://localhost:8080/"
        },
        "id": "LTgQ3sy9jBOl",
        "outputId": "31ceca29-5d7b-41dc-824d-2ef50da09d5d"
      },
      "outputs": [
        {
          "data": {
            "text/plain": [
              "array(['29.85', '1889.5', '108.15', ..., '346.45', '306.6', '6844.5'],\n",
              "      dtype=object)"
            ]
          },
          "execution_count": 11,
          "metadata": {},
          "output_type": "execute_result"
        }
      ],
      "source": [
        "new_df['TotalCharges'].unique()"
      ]
    },
    {
      "cell_type": "markdown",
      "metadata": {
        "id": "tvdHJC0zjBOm"
      },
      "source": [
        "Tipe data pada kolom `TotalCharges` masih berbentuk string, harus diubah terlebih dahulu tipe datanya dari string ke numerik."
      ]
    },
    {
      "cell_type": "code",
      "execution_count": 12,
      "metadata": {
        "id": "gZVM62i5jBOm"
      },
      "outputs": [],
      "source": [
        "# total_charge = new_df.groupby('Churn').sum()[['TotalCharges']]\n",
        "new_df['TotalCharges'] = pd.to_numeric(new_df['TotalCharges'], errors='coerce')"
      ]
    },
    {
      "cell_type": "code",
      "execution_count": 13,
      "metadata": {
        "colab": {
          "base_uri": "https://localhost:8080/"
        },
        "id": "LAJRaCS8jBOm",
        "outputId": "8d234161-f323-4dd5-eaa4-376ca905588a"
      },
      "outputs": [
        {
          "name": "stdout",
          "output_type": "stream",
          "text": [
            "<class 'pandas.core.frame.DataFrame'>\n",
            "RangeIndex: 7043 entries, 0 to 7042\n",
            "Data columns (total 21 columns):\n",
            " #   Column            Non-Null Count  Dtype  \n",
            "---  ------            --------------  -----  \n",
            " 0   customerID        7043 non-null   object \n",
            " 1   gender            7043 non-null   object \n",
            " 2   SeniorCitizen     7043 non-null   int64  \n",
            " 3   Partner           7043 non-null   object \n",
            " 4   Dependents        7043 non-null   object \n",
            " 5   tenure            7043 non-null   int64  \n",
            " 6   PhoneService      7043 non-null   object \n",
            " 7   MultipleLines     7043 non-null   object \n",
            " 8   InternetService   7043 non-null   object \n",
            " 9   OnlineSecurity    7043 non-null   object \n",
            " 10  OnlineBackup      7043 non-null   object \n",
            " 11  DeviceProtection  7043 non-null   object \n",
            " 12  TechSupport       7043 non-null   object \n",
            " 13  StreamingTV       7043 non-null   object \n",
            " 14  StreamingMovies   7043 non-null   object \n",
            " 15  Contract          7043 non-null   object \n",
            " 16  PaperlessBilling  7043 non-null   object \n",
            " 17  PaymentMethod     7043 non-null   object \n",
            " 18  MonthlyCharges    7043 non-null   float64\n",
            " 19  TotalCharges      7032 non-null   float64\n",
            " 20  Churn             7043 non-null   object \n",
            "dtypes: float64(2), int64(2), object(17)\n",
            "memory usage: 1.1+ MB\n"
          ]
        }
      ],
      "source": [
        "new_df.info()"
      ]
    },
    {
      "cell_type": "code",
      "execution_count": 14,
      "metadata": {
        "colab": {
          "base_uri": "https://localhost:8080/",
          "height": 143
        },
        "id": "on14pRdcjBOn",
        "outputId": "0f9a9c4b-0cb6-4c26-b1f5-11fda873293f"
      },
      "outputs": [
        {
          "data": {
            "text/html": [
              "<div>\n",
              "<style scoped>\n",
              "    .dataframe tbody tr th:only-of-type {\n",
              "        vertical-align: middle;\n",
              "    }\n",
              "\n",
              "    .dataframe tbody tr th {\n",
              "        vertical-align: top;\n",
              "    }\n",
              "\n",
              "    .dataframe thead th {\n",
              "        text-align: right;\n",
              "    }\n",
              "</style>\n",
              "<table border=\"1\" class=\"dataframe\">\n",
              "  <thead>\n",
              "    <tr style=\"text-align: right;\">\n",
              "      <th></th>\n",
              "      <th>TotalCharges</th>\n",
              "    </tr>\n",
              "    <tr>\n",
              "      <th>Churn</th>\n",
              "      <th></th>\n",
              "    </tr>\n",
              "  </thead>\n",
              "  <tbody>\n",
              "    <tr>\n",
              "      <th>No</th>\n",
              "      <td>13193241.8</td>\n",
              "    </tr>\n",
              "    <tr>\n",
              "      <th>Yes</th>\n",
              "      <td>2862926.9</td>\n",
              "    </tr>\n",
              "  </tbody>\n",
              "</table>\n",
              "</div>"
            ],
            "text/plain": [
              "       TotalCharges\n",
              "Churn              \n",
              "No       13193241.8\n",
              "Yes       2862926.9"
            ]
          },
          "execution_count": 14,
          "metadata": {},
          "output_type": "execute_result"
        }
      ],
      "source": [
        "total_charge = new_df.groupby('Churn').sum()[['TotalCharges']]\n",
        "total_charge"
      ]
    },
    {
      "cell_type": "code",
      "execution_count": 15,
      "metadata": {
        "colab": {
          "base_uri": "https://localhost:8080/",
          "height": 410
        },
        "id": "b-XfaPsKjBOn",
        "outputId": "e5beb986-b5de-4f3b-cac2-9ac15411df53"
      },
      "outputs": [
        {
          "data": {
            "image/png": "[encoded data removed]",
            "text/plain": [
              "<Figure size 720x432 with 1 Axes>"
            ]
          },
          "metadata": {
            "needs_background": "light"
          },
          "output_type": "display_data"
        }
      ],
      "source": [
        "total_charge.plot(kind='bar', figsize=(10,6))\n",
        "plt.title('Total Charges Customer berdasarkan Churn')\n",
        "plt.ylabel('Total Charges')\n",
        "\n",
        "plt.show()"
      ]
    },
    {
      "cell_type": "markdown",
      "metadata": {
        "id": "JCB6vgqvjBOn"
      },
      "source": [
        "Berdasarkan grafik diatas, meskipun beberapa pelanggan sudah pergi atau tidak berlangganan sejak sebulan terakhir, terlihat hasil pendapatan dari customer yang membayar total charges dari customer yang tetap berlangganan pada produk kami masih terbilang besar, yaitu sebesar 13193241.8."
      ]
    },
    {
      "cell_type": "markdown",
      "metadata": {
        "id": "gCMlvgRNjBOo"
      },
      "source": [
        "## 4.3. Mengetahui Kontrak Pelanggan dalam menggunakan produk berdasarkan Churn."
      ]
    },
    {
      "cell_type": "code",
      "execution_count": 16,
      "metadata": {
        "colab": {
          "base_uri": "https://localhost:8080/"
        },
        "id": "3UBHN3j2jBOo",
        "outputId": "a8d8da57-e666-40f3-cec1-b8de9439f59a"
      },
      "outputs": [
        {
          "data": {
            "text/plain": [
              "array(['Month-to-month', 'One year', 'Two year'], dtype=object)"
            ]
          },
          "execution_count": 16,
          "metadata": {},
          "output_type": "execute_result"
        }
      ],
      "source": [
        "new_df['Contract'].unique()"
      ]
    },
    {
      "cell_type": "code",
      "execution_count": 17,
      "metadata": {
        "colab": {
          "base_uri": "https://localhost:8080/",
          "height": 174
        },
        "id": "I_qYx4tJjBOo",
        "outputId": "4295b667-9e39-4312-b007-9c930c145220"
      },
      "outputs": [
        {
          "data": {
            "text/html": [
              "<div>\n",
              "<style scoped>\n",
              "    .dataframe tbody tr th:only-of-type {\n",
              "        vertical-align: middle;\n",
              "    }\n",
              "\n",
              "    .dataframe tbody tr th {\n",
              "        vertical-align: top;\n",
              "    }\n",
              "\n",
              "    .dataframe thead th {\n",
              "        text-align: right;\n",
              "    }\n",
              "</style>\n",
              "<table border=\"1\" class=\"dataframe\">\n",
              "  <thead>\n",
              "    <tr style=\"text-align: right;\">\n",
              "      <th>Churn</th>\n",
              "      <th>No</th>\n",
              "      <th>Yes</th>\n",
              "    </tr>\n",
              "    <tr>\n",
              "      <th>Contract</th>\n",
              "      <th></th>\n",
              "      <th></th>\n",
              "    </tr>\n",
              "  </thead>\n",
              "  <tbody>\n",
              "    <tr>\n",
              "      <th>Month-to-month</th>\n",
              "      <td>2220</td>\n",
              "      <td>1655</td>\n",
              "    </tr>\n",
              "    <tr>\n",
              "      <th>One year</th>\n",
              "      <td>1307</td>\n",
              "      <td>166</td>\n",
              "    </tr>\n",
              "    <tr>\n",
              "      <th>Two year</th>\n",
              "      <td>1647</td>\n",
              "      <td>48</td>\n",
              "    </tr>\n",
              "  </tbody>\n",
              "</table>\n",
              "</div>"
            ],
            "text/plain": [
              "Churn             No   Yes\n",
              "Contract                  \n",
              "Month-to-month  2220  1655\n",
              "One year        1307   166\n",
              "Two year        1647    48"
            ]
          },
          "execution_count": 17,
          "metadata": {},
          "output_type": "execute_result"
        }
      ],
      "source": [
        "contract_churn = pd.crosstab(new_df['Contract'], new_df['Churn'])\n",
        "contract_churn"
      ]
    },
    {
      "cell_type": "code",
      "execution_count": 18,
      "metadata": {
        "colab": {
          "base_uri": "https://localhost:8080/",
          "height": 334
        },
        "id": "5WgRB7ejjBOo",
        "outputId": "b62c5ddf-e3a5-4106-ef7d-5d91dbcc6875"
      },
      "outputs": [
        {
          "data": {
            "image/png": "[encoded data removed]",
            "text/plain": [
              "<Figure size 576x360 with 1 Axes>"
            ]
          },
          "metadata": {
            "needs_background": "light"
          },
          "output_type": "display_data"
        }
      ],
      "source": [
        "plt.figure(figsize=(8,5))\n",
        "ax = sns.countplot(x='Churn', hue='Contract', data=new_df)"
      ]
    },
    {
      "cell_type": "markdown",
      "metadata": {
        "id": "DCAjWDf7jBOp"
      },
      "source": [
        "Berdasarkan gambar diatas, pelanggan baik itu masih tetap berlangganan maupun tidak, kontrak penggunaan produk yang dipakai oleh pelanggan lebih banyak melakukan kontrak secara perbulan dibanding dengan kontrak satu tahun maupun dua tahun."
      ]
    },
    {
      "cell_type": "code",
      "execution_count": 19,
      "metadata": {
        "colab": {
          "base_uri": "https://localhost:8080/",
          "height": 174
        },
        "id": "HCixwa1pjBOp",
        "outputId": "4838b4e1-d515-45bf-d487-112001a2d2d0"
      },
      "outputs": [
        {
          "data": {
            "text/html": [
              "<div>\n",
              "<style scoped>\n",
              "    .dataframe tbody tr th:only-of-type {\n",
              "        vertical-align: middle;\n",
              "    }\n",
              "\n",
              "    .dataframe tbody tr th {\n",
              "        vertical-align: top;\n",
              "    }\n",
              "\n",
              "    .dataframe thead th {\n",
              "        text-align: right;\n",
              "    }\n",
              "</style>\n",
              "<table border=\"1\" class=\"dataframe\">\n",
              "  <thead>\n",
              "    <tr style=\"text-align: right;\">\n",
              "      <th></th>\n",
              "      <th>MonthlyCharges</th>\n",
              "    </tr>\n",
              "    <tr>\n",
              "      <th>Contract</th>\n",
              "      <th></th>\n",
              "    </tr>\n",
              "  </thead>\n",
              "  <tbody>\n",
              "    <tr>\n",
              "      <th>Month-to-month</th>\n",
              "      <td>257294.15</td>\n",
              "    </tr>\n",
              "    <tr>\n",
              "      <th>One year</th>\n",
              "      <td>95816.60</td>\n",
              "    </tr>\n",
              "    <tr>\n",
              "      <th>Two year</th>\n",
              "      <td>103005.85</td>\n",
              "    </tr>\n",
              "  </tbody>\n",
              "</table>\n",
              "</div>"
            ],
            "text/plain": [
              "                MonthlyCharges\n",
              "Contract                      \n",
              "Month-to-month       257294.15\n",
              "One year              95816.60\n",
              "Two year             103005.85"
            ]
          },
          "execution_count": 19,
          "metadata": {},
          "output_type": "execute_result"
        }
      ],
      "source": [
        "contract_month_charges = new_df.groupby('Contract').sum()[['MonthlyCharges']]\n",
        "contract_month_charges"
      ]
    },
    {
      "cell_type": "markdown",
      "metadata": {
        "id": "S0xwLplbjBOp"
      },
      "source": [
        "Tagihan perbulan yang ditanggung oleh pelanggan yang mengambil kontrak perbulan lebih mahal dibandingkan dengan tagihan perbulan untuk pelanggan yang mengambil kontrak pertahun atau 2 tahun."
      ]
    },
    {
      "cell_type": "markdown",
      "metadata": {
        "id": "jU37GvjwXcZl"
      },
      "source": [
        "## 4.4. Mengetahui Churn berdasarkan pelanggan yang memiliki pasangan dan memiliki tangungan."
      ]
    },
    {
      "cell_type": "code",
      "execution_count": 20,
      "metadata": {
        "colab": {
          "base_uri": "https://localhost:8080/",
          "height": 661
        },
        "id": "GZ17bnKSX8o1",
        "outputId": "9eb78518-3f39-4c56-b891-26692d3703ff"
      },
      "outputs": [
        {
          "data": {
            "text/html": [
              "<div>\n",
              "<style scoped>\n",
              "    .dataframe tbody tr th:only-of-type {\n",
              "        vertical-align: middle;\n",
              "    }\n",
              "\n",
              "    .dataframe tbody tr th {\n",
              "        vertical-align: top;\n",
              "    }\n",
              "\n",
              "    .dataframe thead th {\n",
              "        text-align: right;\n",
              "    }\n",
              "</style>\n",
              "<table border=\"1\" class=\"dataframe\">\n",
              "  <thead>\n",
              "    <tr style=\"text-align: right;\">\n",
              "      <th></th>\n",
              "      <th>customerID</th>\n",
              "      <th>gender</th>\n",
              "      <th>SeniorCitizen</th>\n",
              "      <th>Partner</th>\n",
              "      <th>Dependents</th>\n",
              "      <th>tenure</th>\n",
              "      <th>PhoneService</th>\n",
              "      <th>MultipleLines</th>\n",
              "      <th>InternetService</th>\n",
              "      <th>OnlineSecurity</th>\n",
              "      <th>OnlineBackup</th>\n",
              "      <th>DeviceProtection</th>\n",
              "      <th>TechSupport</th>\n",
              "      <th>StreamingTV</th>\n",
              "      <th>StreamingMovies</th>\n",
              "      <th>Contract</th>\n",
              "      <th>PaperlessBilling</th>\n",
              "      <th>PaymentMethod</th>\n",
              "      <th>MonthlyCharges</th>\n",
              "      <th>TotalCharges</th>\n",
              "      <th>Churn</th>\n",
              "    </tr>\n",
              "  </thead>\n",
              "  <tbody>\n",
              "    <tr>\n",
              "      <th>10</th>\n",
              "      <td>9763-GRSKD</td>\n",
              "      <td>Male</td>\n",
              "      <td>0</td>\n",
              "      <td>Yes</td>\n",
              "      <td>Yes</td>\n",
              "      <td>13</td>\n",
              "      <td>Yes</td>\n",
              "      <td>No</td>\n",
              "      <td>DSL</td>\n",
              "      <td>Yes</td>\n",
              "      <td>No</td>\n",
              "      <td>No</td>\n",
              "      <td>No</td>\n",
              "      <td>No</td>\n",
              "      <td>No</td>\n",
              "      <td>Month-to-month</td>\n",
              "      <td>Yes</td>\n",
              "      <td>Mailed check</td>\n",
              "      <td>49.95</td>\n",
              "      <td>587.45</td>\n",
              "      <td>No</td>\n",
              "    </tr>\n",
              "    <tr>\n",
              "      <th>15</th>\n",
              "      <td>3655-SNQYZ</td>\n",
              "      <td>Female</td>\n",
              "      <td>0</td>\n",
              "      <td>Yes</td>\n",
              "      <td>Yes</td>\n",
              "      <td>69</td>\n",
              "      <td>Yes</td>\n",
              "      <td>Yes</td>\n",
              "      <td>Fiber optic</td>\n",
              "      <td>Yes</td>\n",
              "      <td>Yes</td>\n",
              "      <td>Yes</td>\n",
              "      <td>Yes</td>\n",
              "      <td>Yes</td>\n",
              "      <td>Yes</td>\n",
              "      <td>Two year</td>\n",
              "      <td>No</td>\n",
              "      <td>Credit card (automatic)</td>\n",
              "      <td>113.25</td>\n",
              "      <td>7895.15</td>\n",
              "      <td>No</td>\n",
              "    </tr>\n",
              "    <tr>\n",
              "      <th>18</th>\n",
              "      <td>4190-MFLUW</td>\n",
              "      <td>Female</td>\n",
              "      <td>0</td>\n",
              "      <td>Yes</td>\n",
              "      <td>Yes</td>\n",
              "      <td>10</td>\n",
              "      <td>Yes</td>\n",
              "      <td>No</td>\n",
              "      <td>DSL</td>\n",
              "      <td>No</td>\n",
              "      <td>No</td>\n",
              "      <td>Yes</td>\n",
              "      <td>Yes</td>\n",
              "      <td>No</td>\n",
              "      <td>No</td>\n",
              "      <td>Month-to-month</td>\n",
              "      <td>No</td>\n",
              "      <td>Credit card (automatic)</td>\n",
              "      <td>55.20</td>\n",
              "      <td>528.35</td>\n",
              "      <td>Yes</td>\n",
              "    </tr>\n",
              "    <tr>\n",
              "      <th>24</th>\n",
              "      <td>6322-HRPFA</td>\n",
              "      <td>Male</td>\n",
              "      <td>0</td>\n",
              "      <td>Yes</td>\n",
              "      <td>Yes</td>\n",
              "      <td>49</td>\n",
              "      <td>Yes</td>\n",
              "      <td>No</td>\n",
              "      <td>DSL</td>\n",
              "      <td>Yes</td>\n",
              "      <td>Yes</td>\n",
              "      <td>No</td>\n",
              "      <td>Yes</td>\n",
              "      <td>No</td>\n",
              "      <td>No</td>\n",
              "      <td>Month-to-month</td>\n",
              "      <td>No</td>\n",
              "      <td>Credit card (automatic)</td>\n",
              "      <td>59.60</td>\n",
              "      <td>2970.30</td>\n",
              "      <td>No</td>\n",
              "    </tr>\n",
              "    <tr>\n",
              "      <th>26</th>\n",
              "      <td>6467-CHFZW</td>\n",
              "      <td>Male</td>\n",
              "      <td>0</td>\n",
              "      <td>Yes</td>\n",
              "      <td>Yes</td>\n",
              "      <td>47</td>\n",
              "      <td>Yes</td>\n",
              "      <td>Yes</td>\n",
              "      <td>Fiber optic</td>\n",
              "      <td>No</td>\n",
              "      <td>Yes</td>\n",
              "      <td>No</td>\n",
              "      <td>No</td>\n",
              "      <td>Yes</td>\n",
              "      <td>Yes</td>\n",
              "      <td>Month-to-month</td>\n",
              "      <td>Yes</td>\n",
              "      <td>Electronic check</td>\n",
              "      <td>99.35</td>\n",
              "      <td>4749.15</td>\n",
              "      <td>Yes</td>\n",
              "    </tr>\n",
              "    <tr>\n",
              "      <th>...</th>\n",
              "      <td>...</td>\n",
              "      <td>...</td>\n",
              "      <td>...</td>\n",
              "      <td>...</td>\n",
              "      <td>...</td>\n",
              "      <td>...</td>\n",
              "      <td>...</td>\n",
              "      <td>...</td>\n",
              "      <td>...</td>\n",
              "      <td>...</td>\n",
              "      <td>...</td>\n",
              "      <td>...</td>\n",
              "      <td>...</td>\n",
              "      <td>...</td>\n",
              "      <td>...</td>\n",
              "      <td>...</td>\n",
              "      <td>...</td>\n",
              "      <td>...</td>\n",
              "      <td>...</td>\n",
              "      <td>...</td>\n",
              "      <td>...</td>\n",
              "    </tr>\n",
              "    <tr>\n",
              "      <th>7018</th>\n",
              "      <td>1122-JWTJW</td>\n",
              "      <td>Male</td>\n",
              "      <td>0</td>\n",
              "      <td>Yes</td>\n",
              "      <td>Yes</td>\n",
              "      <td>1</td>\n",
              "      <td>Yes</td>\n",
              "      <td>No</td>\n",
              "      <td>Fiber optic</td>\n",
              "      <td>No</td>\n",
              "      <td>No</td>\n",
              "      <td>No</td>\n",
              "      <td>No</td>\n",
              "      <td>No</td>\n",
              "      <td>No</td>\n",
              "      <td>Month-to-month</td>\n",
              "      <td>Yes</td>\n",
              "      <td>Mailed check</td>\n",
              "      <td>70.65</td>\n",
              "      <td>70.65</td>\n",
              "      <td>Yes</td>\n",
              "    </tr>\n",
              "    <tr>\n",
              "      <th>7020</th>\n",
              "      <td>9837-FWLCH</td>\n",
              "      <td>Male</td>\n",
              "      <td>0</td>\n",
              "      <td>Yes</td>\n",
              "      <td>Yes</td>\n",
              "      <td>12</td>\n",
              "      <td>Yes</td>\n",
              "      <td>No</td>\n",
              "      <td>No</td>\n",
              "      <td>No internet service</td>\n",
              "      <td>No internet service</td>\n",
              "      <td>No internet service</td>\n",
              "      <td>No internet service</td>\n",
              "      <td>No internet service</td>\n",
              "      <td>No internet service</td>\n",
              "      <td>Month-to-month</td>\n",
              "      <td>Yes</td>\n",
              "      <td>Electronic check</td>\n",
              "      <td>19.20</td>\n",
              "      <td>239.00</td>\n",
              "      <td>No</td>\n",
              "    </tr>\n",
              "    <tr>\n",
              "      <th>7038</th>\n",
              "      <td>6840-RESVB</td>\n",
              "      <td>Male</td>\n",
              "      <td>0</td>\n",
              "      <td>Yes</td>\n",
              "      <td>Yes</td>\n",
              "      <td>24</td>\n",
              "      <td>Yes</td>\n",
              "      <td>Yes</td>\n",
              "      <td>DSL</td>\n",
              "      <td>Yes</td>\n",
              "      <td>No</td>\n",
              "      <td>Yes</td>\n",
              "      <td>Yes</td>\n",
              "      <td>Yes</td>\n",
              "      <td>Yes</td>\n",
              "      <td>One year</td>\n",
              "      <td>Yes</td>\n",
              "      <td>Mailed check</td>\n",
              "      <td>84.80</td>\n",
              "      <td>1990.50</td>\n",
              "      <td>No</td>\n",
              "    </tr>\n",
              "    <tr>\n",
              "      <th>7039</th>\n",
              "      <td>2234-XADUH</td>\n",
              "      <td>Female</td>\n",
              "      <td>0</td>\n",
              "      <td>Yes</td>\n",
              "      <td>Yes</td>\n",
              "      <td>72</td>\n",
              "      <td>Yes</td>\n",
              "      <td>Yes</td>\n",
              "      <td>Fiber optic</td>\n",
              "      <td>No</td>\n",
              "      <td>Yes</td>\n",
              "      <td>Yes</td>\n",
              "      <td>No</td>\n",
              "      <td>Yes</td>\n",
              "      <td>Yes</td>\n",
              "      <td>One year</td>\n",
              "      <td>Yes</td>\n",
              "      <td>Credit card (automatic)</td>\n",
              "      <td>103.20</td>\n",
              "      <td>7362.90</td>\n",
              "      <td>No</td>\n",
              "    </tr>\n",
              "    <tr>\n",
              "      <th>7040</th>\n",
              "      <td>4801-JZAZL</td>\n",
              "      <td>Female</td>\n",
              "      <td>0</td>\n",
              "      <td>Yes</td>\n",
              "      <td>Yes</td>\n",
              "      <td>11</td>\n",
              "      <td>No</td>\n",
              "      <td>No phone service</td>\n",
              "      <td>DSL</td>\n",
              "      <td>Yes</td>\n",
              "      <td>No</td>\n",
              "      <td>No</td>\n",
              "      <td>No</td>\n",
              "      <td>No</td>\n",
              "      <td>No</td>\n",
              "      <td>Month-to-month</td>\n",
              "      <td>Yes</td>\n",
              "      <td>Electronic check</td>\n",
              "      <td>29.60</td>\n",
              "      <td>346.45</td>\n",
              "      <td>No</td>\n",
              "    </tr>\n",
              "  </tbody>\n",
              "</table>\n",
              "<p>1749 rows × 21 columns</p>\n",
              "</div>"
            ],
            "text/plain": [
              "      customerID  gender  SeniorCitizen Partner Dependents  tenure  \\\n",
              "10    9763-GRSKD    Male              0     Yes        Yes      13   \n",
              "15    3655-SNQYZ  Female              0     Yes        Yes      69   \n",
              "18    4190-MFLUW  Female              0     Yes        Yes      10   \n",
              "24    6322-HRPFA    Male              0     Yes        Yes      49   \n",
              "26    6467-CHFZW    Male              0     Yes        Yes      47   \n",
              "...          ...     ...            ...     ...        ...     ...   \n",
              "7018  1122-JWTJW    Male              0     Yes        Yes       1   \n",
              "7020  9837-FWLCH    Male              0     Yes        Yes      12   \n",
              "7038  6840-RESVB    Male              0     Yes        Yes      24   \n",
              "7039  2234-XADUH  Female              0     Yes        Yes      72   \n",
              "7040  4801-JZAZL  Female              0     Yes        Yes      11   \n",
              "\n",
              "     PhoneService     MultipleLines InternetService       OnlineSecurity  \\\n",
              "10            Yes                No             DSL                  Yes   \n",
              "15            Yes               Yes     Fiber optic                  Yes   \n",
              "18            Yes                No             DSL                   No   \n",
              "24            Yes                No             DSL                  Yes   \n",
              "26            Yes               Yes     Fiber optic                   No   \n",
              "...           ...               ...             ...                  ...   \n",
              "7018          Yes                No     Fiber optic                   No   \n",
              "7020          Yes                No              No  No internet service   \n",
              "7038          Yes               Yes             DSL                  Yes   \n",
              "7039          Yes               Yes     Fiber optic                   No   \n",
              "7040           No  No phone service             DSL                  Yes   \n",
              "\n",
              "             OnlineBackup     DeviceProtection          TechSupport  \\\n",
              "10                     No                   No                   No   \n",
              "15                    Yes                  Yes                  Yes   \n",
              "18                     No                  Yes                  Yes   \n",
              "24                    Yes                   No                  Yes   \n",
              "26                    Yes                   No                   No   \n",
              "...                   ...                  ...                  ...   \n",
              "7018                   No                   No                   No   \n",
              "7020  No internet service  No internet service  No internet service   \n",
              "7038                   No                  Yes                  Yes   \n",
              "7039                  Yes                  Yes                   No   \n",
              "7040                   No                   No                   No   \n",
              "\n",
              "              StreamingTV      StreamingMovies        Contract  \\\n",
              "10                     No                   No  Month-to-month   \n",
              "15                    Yes                  Yes        Two year   \n",
              "18                     No                   No  Month-to-month   \n",
              "24                     No                   No  Month-to-month   \n",
              "26                    Yes                  Yes  Month-to-month   \n",
              "...                   ...                  ...             ...   \n",
              "7018                   No                   No  Month-to-month   \n",
              "7020  No internet service  No internet service  Month-to-month   \n",
              "7038                  Yes                  Yes        One year   \n",
              "7039                  Yes                  Yes        One year   \n",
              "7040                   No                   No  Month-to-month   \n",
              "\n",
              "     PaperlessBilling            PaymentMethod  MonthlyCharges  TotalCharges  \\\n",
              "10                Yes             Mailed check           49.95        587.45   \n",
              "15                 No  Credit card (automatic)          113.25       7895.15   \n",
              "18                 No  Credit card (automatic)           55.20        528.35   \n",
              "24                 No  Credit card (automatic)           59.60       2970.30   \n",
              "26                Yes         Electronic check           99.35       4749.15   \n",
              "...               ...                      ...             ...           ...   \n",
              "7018              Yes             Mailed check           70.65         70.65   \n",
              "7020              Yes         Electronic check           19.20        239.00   \n",
              "7038              Yes             Mailed check           84.80       1990.50   \n",
              "7039              Yes  Credit card (automatic)          103.20       7362.90   \n",
              "7040              Yes         Electronic check           29.60        346.45   \n",
              "\n",
              "     Churn  \n",
              "10      No  \n",
              "15      No  \n",
              "18     Yes  \n",
              "24      No  \n",
              "26     Yes  \n",
              "...    ...  \n",
              "7018   Yes  \n",
              "7020    No  \n",
              "7038    No  \n",
              "7039    No  \n",
              "7040    No  \n",
              "\n",
              "[1749 rows x 21 columns]"
            ]
          },
          "execution_count": 20,
          "metadata": {},
          "output_type": "execute_result"
        }
      ],
      "source": [
        "part_depend_df = new_df[(new_df['Partner'] == 'Yes') & (new_df['Dependents'] == 'Yes')]\n",
        "part_depend_df"
      ]
    },
    {
      "cell_type": "code",
      "execution_count": 21,
      "metadata": {
        "colab": {
          "base_uri": "https://localhost:8080/",
          "height": 334
        },
        "id": "aH30_iy0YsHu",
        "outputId": "cd7a8f05-b226-4ad2-b093-37d30e913ee6"
      },
      "outputs": [
        {
          "data": {
            "image/png": "[encoded data removed]",
            "text/plain": [
              "<Figure size 576x360 with 1 Axes>"
            ]
          },
          "metadata": {
            "needs_background": "light"
          },
          "output_type": "display_data"
        }
      ],
      "source": [
        "plt.figure(figsize=(8,5))\n",
        "ax = sns.countplot(x='Churn', data=part_depend_df)"
      ]
    },
    {
      "cell_type": "markdown",
      "metadata": {
        "id": "V26Xx-qLb6a0"
      },
      "source": [
        "Berdasarkan gambar di atas, meskipun pelanggan kami mempunyai pasangan dan tanggungan, mereka lebih banyak tetap menggunakan layanan kami dibanding dengan pelanggan yang pergi."
      ]
    },
    {
      "cell_type": "markdown",
      "metadata": {
        "id": "7h74Eaf2jBOp"
      },
      "source": [
        "## 4.5. Cek korelasi"
      ]
    },
    {
      "cell_type": "code",
      "execution_count": 22,
      "metadata": {
        "colab": {
          "base_uri": "https://localhost:8080/",
          "height": 506
        },
        "id": "KsHf44sHjBOq",
        "outputId": "71bbd31d-3ff9-4577-cfd6-9321e907914e"
      },
      "outputs": [
        {
          "data": {
            "text/plain": [
              "<AxesSubplot:>"
            ]
          },
          "execution_count": 22,
          "metadata": {},
          "output_type": "execute_result"
        },
        {
          "data": {
            "image/png": "[encoded data removed]",
            "text/plain": [
              "<Figure size 1296x576 with 2 Axes>"
            ]
          },
          "metadata": {},
          "output_type": "display_data"
        }
      ],
      "source": [
        "new_df['Churn'] = new_df['Churn'].replace({'No' : 0, 'Yes' : 1})\n",
        "sns.set(rc={'figure.figsize':(18,8)})\n",
        "sns.heatmap(new_df.corr(), annot=True, cmap='Blues')"
      ]
    },
    {
      "cell_type": "markdown",
      "metadata": {
        "id": "tWkxq5mkjBOq"
      },
      "source": [
        "Analisis korelasi :\n",
        "- Nilai korelasi antara `tenure` dengan `TotalCharges` adalah 0.83. Bisa terbilang besar, yang artinya perubahan pada data kolom `TotalCharges` dipengaruhi oleh `tenure`.\n",
        "- Dilihat dari visualisasi korelasi kolom-kolom feature numerik terhadap kolom `Churn` masih kecil. Nilai korelasinya dibawah 0.5."
      ]
    },
    {
      "cell_type": "markdown",
      "metadata": {},
      "source": [
        "Karena kolom `SeniorCitizen` adalah tipe kolom kategorikal, nilainya akan diubah terlebih dahulu dari numerik menjadi string yang mana 0 = No, dan 1 = Yes."
      ]
    },
    {
      "cell_type": "code",
      "execution_count": 23,
      "metadata": {},
      "outputs": [],
      "source": [
        "new_df['SeniorCitizen'] = new_df['SeniorCitizen'].replace({ 0 : 'No', 1 : 'Yes'})"
      ]
    },
    {
      "cell_type": "markdown",
      "metadata": {
        "id": "BUxd7_owjBOq"
      },
      "source": [
        "# 5. Data Preprocessing\n",
        "\n",
        "Bagian ini berisi proses penyiapan data untuk proses pelatihan model, seperti pembagian data menjadi train-test-inference, transformasi data (normalisasi, encoding, dll.), dan proses-proses lain yang dibutuhkan.\n",
        "\n"
      ]
    },
    {
      "cell_type": "markdown",
      "metadata": {
        "id": "22517vf2jBOr"
      },
      "source": [
        "Kita akan membagi dataset menjadi dua, yaitu : Dataset Train-test sebagai membuat model dan Data Inference sebagai data diluar dari dataset yang digunakan untuk menguji model atau disebut juga sebagai data prediksi. Data Inference diambil 100 baris dari data original."
      ]
    },
    {
      "cell_type": "code",
      "execution_count": 24,
      "metadata": {
        "colab": {
          "base_uri": "https://localhost:8080/",
          "height": 661
        },
        "id": "2BoN8EwljBOr",
        "outputId": "fbadbb6a-ba48-468e-de16-5a5f8f8ba99d"
      },
      "outputs": [
        {
          "data": {
            "text/html": [
              "<div>\n",
              "<style scoped>\n",
              "    .dataframe tbody tr th:only-of-type {\n",
              "        vertical-align: middle;\n",
              "    }\n",
              "\n",
              "    .dataframe tbody tr th {\n",
              "        vertical-align: top;\n",
              "    }\n",
              "\n",
              "    .dataframe thead th {\n",
              "        text-align: right;\n",
              "    }\n",
              "</style>\n",
              "<table border=\"1\" class=\"dataframe\">\n",
              "  <thead>\n",
              "    <tr style=\"text-align: right;\">\n",
              "      <th></th>\n",
              "      <th>customerID</th>\n",
              "      <th>gender</th>\n",
              "      <th>SeniorCitizen</th>\n",
              "      <th>Partner</th>\n",
              "      <th>Dependents</th>\n",
              "      <th>tenure</th>\n",
              "      <th>PhoneService</th>\n",
              "      <th>MultipleLines</th>\n",
              "      <th>InternetService</th>\n",
              "      <th>OnlineSecurity</th>\n",
              "      <th>OnlineBackup</th>\n",
              "      <th>DeviceProtection</th>\n",
              "      <th>TechSupport</th>\n",
              "      <th>StreamingTV</th>\n",
              "      <th>StreamingMovies</th>\n",
              "      <th>Contract</th>\n",
              "      <th>PaperlessBilling</th>\n",
              "      <th>PaymentMethod</th>\n",
              "      <th>MonthlyCharges</th>\n",
              "      <th>TotalCharges</th>\n",
              "      <th>Churn</th>\n",
              "    </tr>\n",
              "  </thead>\n",
              "  <tbody>\n",
              "    <tr>\n",
              "      <th>3616</th>\n",
              "      <td>8707-RMEZH</td>\n",
              "      <td>Female</td>\n",
              "      <td>Yes</td>\n",
              "      <td>Yes</td>\n",
              "      <td>No</td>\n",
              "      <td>69</td>\n",
              "      <td>Yes</td>\n",
              "      <td>No</td>\n",
              "      <td>Fiber optic</td>\n",
              "      <td>Yes</td>\n",
              "      <td>Yes</td>\n",
              "      <td>No</td>\n",
              "      <td>No</td>\n",
              "      <td>No</td>\n",
              "      <td>Yes</td>\n",
              "      <td>One year</td>\n",
              "      <td>No</td>\n",
              "      <td>Credit card (automatic)</td>\n",
              "      <td>87.30</td>\n",
              "      <td>6055.55</td>\n",
              "      <td>0</td>\n",
              "    </tr>\n",
              "    <tr>\n",
              "      <th>2055</th>\n",
              "      <td>1216-BGTSP</td>\n",
              "      <td>Male</td>\n",
              "      <td>No</td>\n",
              "      <td>No</td>\n",
              "      <td>No</td>\n",
              "      <td>45</td>\n",
              "      <td>Yes</td>\n",
              "      <td>Yes</td>\n",
              "      <td>Fiber optic</td>\n",
              "      <td>Yes</td>\n",
              "      <td>No</td>\n",
              "      <td>Yes</td>\n",
              "      <td>Yes</td>\n",
              "      <td>Yes</td>\n",
              "      <td>Yes</td>\n",
              "      <td>Month-to-month</td>\n",
              "      <td>Yes</td>\n",
              "      <td>Credit card (automatic)</td>\n",
              "      <td>108.45</td>\n",
              "      <td>4964.70</td>\n",
              "      <td>0</td>\n",
              "    </tr>\n",
              "    <tr>\n",
              "      <th>5394</th>\n",
              "      <td>5118-MUEYH</td>\n",
              "      <td>Female</td>\n",
              "      <td>No</td>\n",
              "      <td>Yes</td>\n",
              "      <td>No</td>\n",
              "      <td>48</td>\n",
              "      <td>Yes</td>\n",
              "      <td>Yes</td>\n",
              "      <td>Fiber optic</td>\n",
              "      <td>No</td>\n",
              "      <td>Yes</td>\n",
              "      <td>No</td>\n",
              "      <td>Yes</td>\n",
              "      <td>Yes</td>\n",
              "      <td>Yes</td>\n",
              "      <td>Month-to-month</td>\n",
              "      <td>Yes</td>\n",
              "      <td>Credit card (automatic)</td>\n",
              "      <td>105.10</td>\n",
              "      <td>5083.55</td>\n",
              "      <td>0</td>\n",
              "    </tr>\n",
              "    <tr>\n",
              "      <th>3697</th>\n",
              "      <td>4821-SJHJV</td>\n",
              "      <td>Female</td>\n",
              "      <td>No</td>\n",
              "      <td>Yes</td>\n",
              "      <td>Yes</td>\n",
              "      <td>32</td>\n",
              "      <td>Yes</td>\n",
              "      <td>Yes</td>\n",
              "      <td>Fiber optic</td>\n",
              "      <td>Yes</td>\n",
              "      <td>No</td>\n",
              "      <td>No</td>\n",
              "      <td>No</td>\n",
              "      <td>Yes</td>\n",
              "      <td>No</td>\n",
              "      <td>Month-to-month</td>\n",
              "      <td>No</td>\n",
              "      <td>Electronic check</td>\n",
              "      <td>89.60</td>\n",
              "      <td>2901.80</td>\n",
              "      <td>0</td>\n",
              "    </tr>\n",
              "    <tr>\n",
              "      <th>2516</th>\n",
              "      <td>8245-UMPYT</td>\n",
              "      <td>Female</td>\n",
              "      <td>Yes</td>\n",
              "      <td>No</td>\n",
              "      <td>No</td>\n",
              "      <td>16</td>\n",
              "      <td>Yes</td>\n",
              "      <td>Yes</td>\n",
              "      <td>Fiber optic</td>\n",
              "      <td>No</td>\n",
              "      <td>No</td>\n",
              "      <td>No</td>\n",
              "      <td>No</td>\n",
              "      <td>Yes</td>\n",
              "      <td>Yes</td>\n",
              "      <td>Month-to-month</td>\n",
              "      <td>Yes</td>\n",
              "      <td>Electronic check</td>\n",
              "      <td>96.40</td>\n",
              "      <td>1581.20</td>\n",
              "      <td>1</td>\n",
              "    </tr>\n",
              "    <tr>\n",
              "      <th>...</th>\n",
              "      <td>...</td>\n",
              "      <td>...</td>\n",
              "      <td>...</td>\n",
              "      <td>...</td>\n",
              "      <td>...</td>\n",
              "      <td>...</td>\n",
              "      <td>...</td>\n",
              "      <td>...</td>\n",
              "      <td>...</td>\n",
              "      <td>...</td>\n",
              "      <td>...</td>\n",
              "      <td>...</td>\n",
              "      <td>...</td>\n",
              "      <td>...</td>\n",
              "      <td>...</td>\n",
              "      <td>...</td>\n",
              "      <td>...</td>\n",
              "      <td>...</td>\n",
              "      <td>...</td>\n",
              "      <td>...</td>\n",
              "      <td>...</td>\n",
              "    </tr>\n",
              "    <tr>\n",
              "      <th>2339</th>\n",
              "      <td>4094-NSEDU</td>\n",
              "      <td>Female</td>\n",
              "      <td>Yes</td>\n",
              "      <td>No</td>\n",
              "      <td>No</td>\n",
              "      <td>21</td>\n",
              "      <td>Yes</td>\n",
              "      <td>Yes</td>\n",
              "      <td>Fiber optic</td>\n",
              "      <td>No</td>\n",
              "      <td>No</td>\n",
              "      <td>No</td>\n",
              "      <td>No</td>\n",
              "      <td>Yes</td>\n",
              "      <td>Yes</td>\n",
              "      <td>Month-to-month</td>\n",
              "      <td>Yes</td>\n",
              "      <td>Electronic check</td>\n",
              "      <td>94.25</td>\n",
              "      <td>1973.75</td>\n",
              "      <td>1</td>\n",
              "    </tr>\n",
              "    <tr>\n",
              "      <th>919</th>\n",
              "      <td>5149-TGWDZ</td>\n",
              "      <td>Female</td>\n",
              "      <td>No</td>\n",
              "      <td>No</td>\n",
              "      <td>No</td>\n",
              "      <td>21</td>\n",
              "      <td>Yes</td>\n",
              "      <td>No</td>\n",
              "      <td>Fiber optic</td>\n",
              "      <td>No</td>\n",
              "      <td>Yes</td>\n",
              "      <td>Yes</td>\n",
              "      <td>Yes</td>\n",
              "      <td>Yes</td>\n",
              "      <td>Yes</td>\n",
              "      <td>One year</td>\n",
              "      <td>Yes</td>\n",
              "      <td>Mailed check</td>\n",
              "      <td>104.55</td>\n",
              "      <td>2239.40</td>\n",
              "      <td>0</td>\n",
              "    </tr>\n",
              "    <tr>\n",
              "      <th>3837</th>\n",
              "      <td>3932-CMDTD</td>\n",
              "      <td>Female</td>\n",
              "      <td>No</td>\n",
              "      <td>No</td>\n",
              "      <td>No</td>\n",
              "      <td>4</td>\n",
              "      <td>Yes</td>\n",
              "      <td>No</td>\n",
              "      <td>Fiber optic</td>\n",
              "      <td>No</td>\n",
              "      <td>Yes</td>\n",
              "      <td>Yes</td>\n",
              "      <td>Yes</td>\n",
              "      <td>Yes</td>\n",
              "      <td>Yes</td>\n",
              "      <td>One year</td>\n",
              "      <td>Yes</td>\n",
              "      <td>Electronic check</td>\n",
              "      <td>105.65</td>\n",
              "      <td>443.90</td>\n",
              "      <td>1</td>\n",
              "    </tr>\n",
              "    <tr>\n",
              "      <th>488</th>\n",
              "      <td>4472-LVYGI</td>\n",
              "      <td>Female</td>\n",
              "      <td>No</td>\n",
              "      <td>Yes</td>\n",
              "      <td>Yes</td>\n",
              "      <td>0</td>\n",
              "      <td>No</td>\n",
              "      <td>No phone service</td>\n",
              "      <td>DSL</td>\n",
              "      <td>Yes</td>\n",
              "      <td>No</td>\n",
              "      <td>Yes</td>\n",
              "      <td>Yes</td>\n",
              "      <td>Yes</td>\n",
              "      <td>No</td>\n",
              "      <td>Two year</td>\n",
              "      <td>Yes</td>\n",
              "      <td>Bank transfer (automatic)</td>\n",
              "      <td>52.55</td>\n",
              "      <td>NaN</td>\n",
              "      <td>0</td>\n",
              "    </tr>\n",
              "    <tr>\n",
              "      <th>1227</th>\n",
              "      <td>8496-DMZUK</td>\n",
              "      <td>Male</td>\n",
              "      <td>No</td>\n",
              "      <td>No</td>\n",
              "      <td>No</td>\n",
              "      <td>30</td>\n",
              "      <td>Yes</td>\n",
              "      <td>Yes</td>\n",
              "      <td>Fiber optic</td>\n",
              "      <td>Yes</td>\n",
              "      <td>Yes</td>\n",
              "      <td>Yes</td>\n",
              "      <td>No</td>\n",
              "      <td>No</td>\n",
              "      <td>No</td>\n",
              "      <td>One year</td>\n",
              "      <td>No</td>\n",
              "      <td>Bank transfer (automatic)</td>\n",
              "      <td>90.40</td>\n",
              "      <td>2820.65</td>\n",
              "      <td>0</td>\n",
              "    </tr>\n",
              "  </tbody>\n",
              "</table>\n",
              "<p>100 rows × 21 columns</p>\n",
              "</div>"
            ],
            "text/plain": [
              "      customerID  gender SeniorCitizen Partner Dependents  tenure  \\\n",
              "3616  8707-RMEZH  Female           Yes     Yes         No      69   \n",
              "2055  1216-BGTSP    Male            No      No         No      45   \n",
              "5394  5118-MUEYH  Female            No     Yes         No      48   \n",
              "3697  4821-SJHJV  Female            No     Yes        Yes      32   \n",
              "2516  8245-UMPYT  Female           Yes      No         No      16   \n",
              "...          ...     ...           ...     ...        ...     ...   \n",
              "2339  4094-NSEDU  Female           Yes      No         No      21   \n",
              "919   5149-TGWDZ  Female            No      No         No      21   \n",
              "3837  3932-CMDTD  Female            No      No         No       4   \n",
              "488   4472-LVYGI  Female            No     Yes        Yes       0   \n",
              "1227  8496-DMZUK    Male            No      No         No      30   \n",
              "\n",
              "     PhoneService     MultipleLines InternetService OnlineSecurity  \\\n",
              "3616          Yes                No     Fiber optic            Yes   \n",
              "2055          Yes               Yes     Fiber optic            Yes   \n",
              "5394          Yes               Yes     Fiber optic             No   \n",
              "3697          Yes               Yes     Fiber optic            Yes   \n",
              "2516          Yes               Yes     Fiber optic             No   \n",
              "...           ...               ...             ...            ...   \n",
              "2339          Yes               Yes     Fiber optic             No   \n",
              "919           Yes                No     Fiber optic             No   \n",
              "3837          Yes                No     Fiber optic             No   \n",
              "488            No  No phone service             DSL            Yes   \n",
              "1227          Yes               Yes     Fiber optic            Yes   \n",
              "\n",
              "     OnlineBackup DeviceProtection TechSupport StreamingTV StreamingMovies  \\\n",
              "3616          Yes               No          No          No             Yes   \n",
              "2055           No              Yes         Yes         Yes             Yes   \n",
              "5394          Yes               No         Yes         Yes             Yes   \n",
              "3697           No               No          No         Yes              No   \n",
              "2516           No               No          No         Yes             Yes   \n",
              "...           ...              ...         ...         ...             ...   \n",
              "2339           No               No          No         Yes             Yes   \n",
              "919           Yes              Yes         Yes         Yes             Yes   \n",
              "3837          Yes              Yes         Yes         Yes             Yes   \n",
              "488            No              Yes         Yes         Yes              No   \n",
              "1227          Yes              Yes          No          No              No   \n",
              "\n",
              "            Contract PaperlessBilling              PaymentMethod  \\\n",
              "3616        One year               No    Credit card (automatic)   \n",
              "2055  Month-to-month              Yes    Credit card (automatic)   \n",
              "5394  Month-to-month              Yes    Credit card (automatic)   \n",
              "3697  Month-to-month               No           Electronic check   \n",
              "2516  Month-to-month              Yes           Electronic check   \n",
              "...              ...              ...                        ...   \n",
              "2339  Month-to-month              Yes           Electronic check   \n",
              "919         One year              Yes               Mailed check   \n",
              "3837        One year              Yes           Electronic check   \n",
              "488         Two year              Yes  Bank transfer (automatic)   \n",
              "1227        One year               No  Bank transfer (automatic)   \n",
              "\n",
              "      MonthlyCharges  TotalCharges  Churn  \n",
              "3616           87.30       6055.55      0  \n",
              "2055          108.45       4964.70      0  \n",
              "5394          105.10       5083.55      0  \n",
              "3697           89.60       2901.80      0  \n",
              "2516           96.40       1581.20      1  \n",
              "...              ...           ...    ...  \n",
              "2339           94.25       1973.75      1  \n",
              "919           104.55       2239.40      0  \n",
              "3837          105.65        443.90      1  \n",
              "488            52.55           NaN      0  \n",
              "1227           90.40       2820.65      0  \n",
              "\n",
              "[100 rows x 21 columns]"
            ]
          },
          "execution_count": 24,
          "metadata": {},
          "output_type": "execute_result"
        }
      ],
      "source": [
        "df_inf = new_df.sample(100, random_state=17)\n",
        "df_inf"
      ]
    },
    {
      "cell_type": "code",
      "execution_count": 25,
      "metadata": {
        "colab": {
          "base_uri": "https://localhost:8080/",
          "height": 661
        },
        "id": "utS9Z32AjBOr",
        "outputId": "56a8f19c-1517-4b33-f372-f46f0fc0cdaf"
      },
      "outputs": [
        {
          "data": {
            "text/html": [
              "<div>\n",
              "<style scoped>\n",
              "    .dataframe tbody tr th:only-of-type {\n",
              "        vertical-align: middle;\n",
              "    }\n",
              "\n",
              "    .dataframe tbody tr th {\n",
              "        vertical-align: top;\n",
              "    }\n",
              "\n",
              "    .dataframe thead th {\n",
              "        text-align: right;\n",
              "    }\n",
              "</style>\n",
              "<table border=\"1\" class=\"dataframe\">\n",
              "  <thead>\n",
              "    <tr style=\"text-align: right;\">\n",
              "      <th></th>\n",
              "      <th>customerID</th>\n",
              "      <th>gender</th>\n",
              "      <th>SeniorCitizen</th>\n",
              "      <th>Partner</th>\n",
              "      <th>Dependents</th>\n",
              "      <th>tenure</th>\n",
              "      <th>PhoneService</th>\n",
              "      <th>MultipleLines</th>\n",
              "      <th>InternetService</th>\n",
              "      <th>OnlineSecurity</th>\n",
              "      <th>OnlineBackup</th>\n",
              "      <th>DeviceProtection</th>\n",
              "      <th>TechSupport</th>\n",
              "      <th>StreamingTV</th>\n",
              "      <th>StreamingMovies</th>\n",
              "      <th>Contract</th>\n",
              "      <th>PaperlessBilling</th>\n",
              "      <th>PaymentMethod</th>\n",
              "      <th>MonthlyCharges</th>\n",
              "      <th>TotalCharges</th>\n",
              "      <th>Churn</th>\n",
              "    </tr>\n",
              "  </thead>\n",
              "  <tbody>\n",
              "    <tr>\n",
              "      <th>0</th>\n",
              "      <td>7590-VHVEG</td>\n",
              "      <td>Female</td>\n",
              "      <td>No</td>\n",
              "      <td>Yes</td>\n",
              "      <td>No</td>\n",
              "      <td>1</td>\n",
              "      <td>No</td>\n",
              "      <td>No phone service</td>\n",
              "      <td>DSL</td>\n",
              "      <td>No</td>\n",
              "      <td>Yes</td>\n",
              "      <td>No</td>\n",
              "      <td>No</td>\n",
              "      <td>No</td>\n",
              "      <td>No</td>\n",
              "      <td>Month-to-month</td>\n",
              "      <td>Yes</td>\n",
              "      <td>Electronic check</td>\n",
              "      <td>29.85</td>\n",
              "      <td>29.85</td>\n",
              "      <td>0</td>\n",
              "    </tr>\n",
              "    <tr>\n",
              "      <th>1</th>\n",
              "      <td>5575-GNVDE</td>\n",
              "      <td>Male</td>\n",
              "      <td>No</td>\n",
              "      <td>No</td>\n",
              "      <td>No</td>\n",
              "      <td>34</td>\n",
              "      <td>Yes</td>\n",
              "      <td>No</td>\n",
              "      <td>DSL</td>\n",
              "      <td>Yes</td>\n",
              "      <td>No</td>\n",
              "      <td>Yes</td>\n",
              "      <td>No</td>\n",
              "      <td>No</td>\n",
              "      <td>No</td>\n",
              "      <td>One year</td>\n",
              "      <td>No</td>\n",
              "      <td>Mailed check</td>\n",
              "      <td>56.95</td>\n",
              "      <td>1889.50</td>\n",
              "      <td>0</td>\n",
              "    </tr>\n",
              "    <tr>\n",
              "      <th>2</th>\n",
              "      <td>3668-QPYBK</td>\n",
              "      <td>Male</td>\n",
              "      <td>No</td>\n",
              "      <td>No</td>\n",
              "      <td>No</td>\n",
              "      <td>2</td>\n",
              "      <td>Yes</td>\n",
              "      <td>No</td>\n",
              "      <td>DSL</td>\n",
              "      <td>Yes</td>\n",
              "      <td>Yes</td>\n",
              "      <td>No</td>\n",
              "      <td>No</td>\n",
              "      <td>No</td>\n",
              "      <td>No</td>\n",
              "      <td>Month-to-month</td>\n",
              "      <td>Yes</td>\n",
              "      <td>Mailed check</td>\n",
              "      <td>53.85</td>\n",
              "      <td>108.15</td>\n",
              "      <td>1</td>\n",
              "    </tr>\n",
              "    <tr>\n",
              "      <th>3</th>\n",
              "      <td>7795-CFOCW</td>\n",
              "      <td>Male</td>\n",
              "      <td>No</td>\n",
              "      <td>No</td>\n",
              "      <td>No</td>\n",
              "      <td>45</td>\n",
              "      <td>No</td>\n",
              "      <td>No phone service</td>\n",
              "      <td>DSL</td>\n",
              "      <td>Yes</td>\n",
              "      <td>No</td>\n",
              "      <td>Yes</td>\n",
              "      <td>Yes</td>\n",
              "      <td>No</td>\n",
              "      <td>No</td>\n",
              "      <td>One year</td>\n",
              "      <td>No</td>\n",
              "      <td>Bank transfer (automatic)</td>\n",
              "      <td>42.30</td>\n",
              "      <td>1840.75</td>\n",
              "      <td>0</td>\n",
              "    </tr>\n",
              "    <tr>\n",
              "      <th>4</th>\n",
              "      <td>9237-HQITU</td>\n",
              "      <td>Female</td>\n",
              "      <td>No</td>\n",
              "      <td>No</td>\n",
              "      <td>No</td>\n",
              "      <td>2</td>\n",
              "      <td>Yes</td>\n",
              "      <td>No</td>\n",
              "      <td>Fiber optic</td>\n",
              "      <td>No</td>\n",
              "      <td>No</td>\n",
              "      <td>No</td>\n",
              "      <td>No</td>\n",
              "      <td>No</td>\n",
              "      <td>No</td>\n",
              "      <td>Month-to-month</td>\n",
              "      <td>Yes</td>\n",
              "      <td>Electronic check</td>\n",
              "      <td>70.70</td>\n",
              "      <td>151.65</td>\n",
              "      <td>1</td>\n",
              "    </tr>\n",
              "    <tr>\n",
              "      <th>...</th>\n",
              "      <td>...</td>\n",
              "      <td>...</td>\n",
              "      <td>...</td>\n",
              "      <td>...</td>\n",
              "      <td>...</td>\n",
              "      <td>...</td>\n",
              "      <td>...</td>\n",
              "      <td>...</td>\n",
              "      <td>...</td>\n",
              "      <td>...</td>\n",
              "      <td>...</td>\n",
              "      <td>...</td>\n",
              "      <td>...</td>\n",
              "      <td>...</td>\n",
              "      <td>...</td>\n",
              "      <td>...</td>\n",
              "      <td>...</td>\n",
              "      <td>...</td>\n",
              "      <td>...</td>\n",
              "      <td>...</td>\n",
              "      <td>...</td>\n",
              "    </tr>\n",
              "    <tr>\n",
              "      <th>7038</th>\n",
              "      <td>6840-RESVB</td>\n",
              "      <td>Male</td>\n",
              "      <td>No</td>\n",
              "      <td>Yes</td>\n",
              "      <td>Yes</td>\n",
              "      <td>24</td>\n",
              "      <td>Yes</td>\n",
              "      <td>Yes</td>\n",
              "      <td>DSL</td>\n",
              "      <td>Yes</td>\n",
              "      <td>No</td>\n",
              "      <td>Yes</td>\n",
              "      <td>Yes</td>\n",
              "      <td>Yes</td>\n",
              "      <td>Yes</td>\n",
              "      <td>One year</td>\n",
              "      <td>Yes</td>\n",
              "      <td>Mailed check</td>\n",
              "      <td>84.80</td>\n",
              "      <td>1990.50</td>\n",
              "      <td>0</td>\n",
              "    </tr>\n",
              "    <tr>\n",
              "      <th>7039</th>\n",
              "      <td>2234-XADUH</td>\n",
              "      <td>Female</td>\n",
              "      <td>No</td>\n",
              "      <td>Yes</td>\n",
              "      <td>Yes</td>\n",
              "      <td>72</td>\n",
              "      <td>Yes</td>\n",
              "      <td>Yes</td>\n",
              "      <td>Fiber optic</td>\n",
              "      <td>No</td>\n",
              "      <td>Yes</td>\n",
              "      <td>Yes</td>\n",
              "      <td>No</td>\n",
              "      <td>Yes</td>\n",
              "      <td>Yes</td>\n",
              "      <td>One year</td>\n",
              "      <td>Yes</td>\n",
              "      <td>Credit card (automatic)</td>\n",
              "      <td>103.20</td>\n",
              "      <td>7362.90</td>\n",
              "      <td>0</td>\n",
              "    </tr>\n",
              "    <tr>\n",
              "      <th>7040</th>\n",
              "      <td>4801-JZAZL</td>\n",
              "      <td>Female</td>\n",
              "      <td>No</td>\n",
              "      <td>Yes</td>\n",
              "      <td>Yes</td>\n",
              "      <td>11</td>\n",
              "      <td>No</td>\n",
              "      <td>No phone service</td>\n",
              "      <td>DSL</td>\n",
              "      <td>Yes</td>\n",
              "      <td>No</td>\n",
              "      <td>No</td>\n",
              "      <td>No</td>\n",
              "      <td>No</td>\n",
              "      <td>No</td>\n",
              "      <td>Month-to-month</td>\n",
              "      <td>Yes</td>\n",
              "      <td>Electronic check</td>\n",
              "      <td>29.60</td>\n",
              "      <td>346.45</td>\n",
              "      <td>0</td>\n",
              "    </tr>\n",
              "    <tr>\n",
              "      <th>7041</th>\n",
              "      <td>8361-LTMKD</td>\n",
              "      <td>Male</td>\n",
              "      <td>Yes</td>\n",
              "      <td>Yes</td>\n",
              "      <td>No</td>\n",
              "      <td>4</td>\n",
              "      <td>Yes</td>\n",
              "      <td>Yes</td>\n",
              "      <td>Fiber optic</td>\n",
              "      <td>No</td>\n",
              "      <td>No</td>\n",
              "      <td>No</td>\n",
              "      <td>No</td>\n",
              "      <td>No</td>\n",
              "      <td>No</td>\n",
              "      <td>Month-to-month</td>\n",
              "      <td>Yes</td>\n",
              "      <td>Mailed check</td>\n",
              "      <td>74.40</td>\n",
              "      <td>306.60</td>\n",
              "      <td>1</td>\n",
              "    </tr>\n",
              "    <tr>\n",
              "      <th>7042</th>\n",
              "      <td>3186-AJIEK</td>\n",
              "      <td>Male</td>\n",
              "      <td>No</td>\n",
              "      <td>No</td>\n",
              "      <td>No</td>\n",
              "      <td>66</td>\n",
              "      <td>Yes</td>\n",
              "      <td>No</td>\n",
              "      <td>Fiber optic</td>\n",
              "      <td>Yes</td>\n",
              "      <td>No</td>\n",
              "      <td>Yes</td>\n",
              "      <td>Yes</td>\n",
              "      <td>Yes</td>\n",
              "      <td>Yes</td>\n",
              "      <td>Two year</td>\n",
              "      <td>Yes</td>\n",
              "      <td>Bank transfer (automatic)</td>\n",
              "      <td>105.65</td>\n",
              "      <td>6844.50</td>\n",
              "      <td>0</td>\n",
              "    </tr>\n",
              "  </tbody>\n",
              "</table>\n",
              "<p>6943 rows × 21 columns</p>\n",
              "</div>"
            ],
            "text/plain": [
              "      customerID  gender SeniorCitizen Partner Dependents  tenure  \\\n",
              "0     7590-VHVEG  Female            No     Yes         No       1   \n",
              "1     5575-GNVDE    Male            No      No         No      34   \n",
              "2     3668-QPYBK    Male            No      No         No       2   \n",
              "3     7795-CFOCW    Male            No      No         No      45   \n",
              "4     9237-HQITU  Female            No      No         No       2   \n",
              "...          ...     ...           ...     ...        ...     ...   \n",
              "7038  6840-RESVB    Male            No     Yes        Yes      24   \n",
              "7039  2234-XADUH  Female            No     Yes        Yes      72   \n",
              "7040  4801-JZAZL  Female            No     Yes        Yes      11   \n",
              "7041  8361-LTMKD    Male           Yes     Yes         No       4   \n",
              "7042  3186-AJIEK    Male            No      No         No      66   \n",
              "\n",
              "     PhoneService     MultipleLines InternetService OnlineSecurity  \\\n",
              "0              No  No phone service             DSL             No   \n",
              "1             Yes                No             DSL            Yes   \n",
              "2             Yes                No             DSL            Yes   \n",
              "3              No  No phone service             DSL            Yes   \n",
              "4             Yes                No     Fiber optic             No   \n",
              "...           ...               ...             ...            ...   \n",
              "7038          Yes               Yes             DSL            Yes   \n",
              "7039          Yes               Yes     Fiber optic             No   \n",
              "7040           No  No phone service             DSL            Yes   \n",
              "7041          Yes               Yes     Fiber optic             No   \n",
              "7042          Yes                No     Fiber optic            Yes   \n",
              "\n",
              "     OnlineBackup DeviceProtection TechSupport StreamingTV StreamingMovies  \\\n",
              "0             Yes               No          No          No              No   \n",
              "1              No              Yes          No          No              No   \n",
              "2             Yes               No          No          No              No   \n",
              "3              No              Yes         Yes          No              No   \n",
              "4              No               No          No          No              No   \n",
              "...           ...              ...         ...         ...             ...   \n",
              "7038           No              Yes         Yes         Yes             Yes   \n",
              "7039          Yes              Yes          No         Yes             Yes   \n",
              "7040           No               No          No          No              No   \n",
              "7041           No               No          No          No              No   \n",
              "7042           No              Yes         Yes         Yes             Yes   \n",
              "\n",
              "            Contract PaperlessBilling              PaymentMethod  \\\n",
              "0     Month-to-month              Yes           Electronic check   \n",
              "1           One year               No               Mailed check   \n",
              "2     Month-to-month              Yes               Mailed check   \n",
              "3           One year               No  Bank transfer (automatic)   \n",
              "4     Month-to-month              Yes           Electronic check   \n",
              "...              ...              ...                        ...   \n",
              "7038        One year              Yes               Mailed check   \n",
              "7039        One year              Yes    Credit card (automatic)   \n",
              "7040  Month-to-month              Yes           Electronic check   \n",
              "7041  Month-to-month              Yes               Mailed check   \n",
              "7042        Two year              Yes  Bank transfer (automatic)   \n",
              "\n",
              "      MonthlyCharges  TotalCharges  Churn  \n",
              "0              29.85         29.85      0  \n",
              "1              56.95       1889.50      0  \n",
              "2              53.85        108.15      1  \n",
              "3              42.30       1840.75      0  \n",
              "4              70.70        151.65      1  \n",
              "...              ...           ...    ...  \n",
              "7038           84.80       1990.50      0  \n",
              "7039          103.20       7362.90      0  \n",
              "7040           29.60        346.45      0  \n",
              "7041           74.40        306.60      1  \n",
              "7042          105.65       6844.50      0  \n",
              "\n",
              "[6943 rows x 21 columns]"
            ]
          },
          "execution_count": 25,
          "metadata": {},
          "output_type": "execute_result"
        }
      ],
      "source": [
        "df_train_test = new_df.drop(df_inf.index)\n",
        "df_train_test"
      ]
    },
    {
      "cell_type": "code",
      "execution_count": 26,
      "metadata": {
        "id": "iGRdpe8tjBOr"
      },
      "outputs": [],
      "source": [
        "# reset index\n",
        "df_train_test.reset_index(drop=True, inplace=True)\n",
        "df_inf.reset_index(drop=True, inplace=True)"
      ]
    },
    {
      "cell_type": "markdown",
      "metadata": {
        "id": "z8lsRqjsjBOs"
      },
      "source": [
        "## Split Dataset\n",
        "\n",
        "Definisikan variabel X sebagai data yang akan digunakan sebagai alat prediksi dan variabel y sebagai data yang akan diprediksi. "
      ]
    },
    {
      "cell_type": "markdown",
      "metadata": {
        "id": "Xy2jc7jxjBOs"
      },
      "source": [
        "Saya akan membuat sebuah model yang mana akan memprediksikan pelanggan tetap dan pelanggan yang pergi (Churn)."
      ]
    },
    {
      "cell_type": "code",
      "execution_count": 27,
      "metadata": {
        "id": "Kpq4Y2LWjBOs"
      },
      "outputs": [],
      "source": [
        "# Split X dan y\n",
        "\n",
        "X = df_train_test.drop(['Churn'], axis=1) # Features = alat/kolom untuk membuat prediksi\n",
        "y = df_train_test['Churn'] # target = sesuatu yang akan diprediksi"
      ]
    },
    {
      "cell_type": "code",
      "execution_count": 28,
      "metadata": {
        "colab": {
          "base_uri": "https://localhost:8080/"
        },
        "id": "4BzwWVXWjBOs",
        "outputId": "44bba1f5-44a9-4762-dcbc-ad92b5efddf7"
      },
      "outputs": [
        {
          "name": "stdout",
          "output_type": "stream",
          "text": [
            "(5554, 20)\n",
            "(1389, 20)\n",
            "(5554,)\n",
            "(1389,)\n"
          ]
        }
      ],
      "source": [
        "# split data train dan data test\n",
        "X_train, X_test, y_train, y_test = train_test_split(X, y, test_size=0.20, stratify=y, random_state=17) \n",
        "\n",
        "print(X_train.shape)\n",
        "print(X_test.shape)\n",
        "print(y_train.shape)\n",
        "print(y_test.shape)"
      ]
    },
    {
      "cell_type": "code",
      "execution_count": 29,
      "metadata": {
        "colab": {
          "base_uri": "https://localhost:8080/"
        },
        "id": "R8OLq1OJlYvs",
        "outputId": "026a85c7-2864-4574-96c5-68a71336d113"
      },
      "outputs": [
        {
          "name": "stdout",
          "output_type": "stream",
          "text": [
            "(4998, 20)\n",
            "(556, 20)\n",
            "(4998,)\n",
            "(556,)\n"
          ]
        }
      ],
      "source": [
        "# split data train dan data validasi\n",
        "X_train, X_val, y_train, y_val = train_test_split(X_train, y_train, test_size=0.1, random_state=17)\n",
        "\n",
        "print(X_train.shape)\n",
        "print(X_val.shape)\n",
        "print(y_train.shape)\n",
        "print(y_val.shape)"
      ]
    },
    {
      "cell_type": "markdown",
      "metadata": {
        "id": "piLXr184jBOt"
      },
      "source": [
        "## Outliers\n",
        "\n",
        "Mengecek outliers pada data Train"
      ]
    },
    {
      "cell_type": "code",
      "execution_count": 30,
      "metadata": {
        "id": "NqR3xR16jBOt"
      },
      "outputs": [],
      "source": [
        "# Buat fungsi untuk mencetak histogram dan boxplot\n",
        "def diagnostic_plots(df, variable):\n",
        "    # Define figure size\n",
        "    plt.figure(figsize=(16, 4))\n",
        "\n",
        "    # Histogram\n",
        "    plt.subplot(1, 2, 1)\n",
        "    sns.histplot(df[variable], bins=30)\n",
        "    plt.title('Histogram')\n",
        "\n",
        "    # Boxplot\n",
        "    plt.subplot(1, 2, 2)\n",
        "    sns.boxplot(y=df[variable])\n",
        "    plt.title('Boxplot')\n",
        "\n",
        "    plt.show()"
      ]
    },
    {
      "cell_type": "code",
      "execution_count": 31,
      "metadata": {
        "colab": {
          "base_uri": "https://localhost:8080/",
          "height": 1000
        },
        "id": "Zzjw_ZWHjBOt",
        "outputId": "3cb71b05-4d61-43c1-a5f7-25576cc3078c"
      },
      "outputs": [
        {
          "name": "stdout",
          "output_type": "stream",
          "text": [
            "Outliers sebelum di handling\n"
          ]
        },
        {
          "data": {
            "image/png": "[encoded data removed]",
            "text/plain": [
              "<Figure size 1152x288 with 2 Axes>"
            ]
          },
          "metadata": {},
          "output_type": "display_data"
        },
        {
          "name": "stdout",
          "output_type": "stream",
          "text": [
            "Skewness : 0.24839168191348943\n"
          ]
        },
        {
          "data": {
            "image/png": "[encoded data removed]",
            "text/plain": [
              "<Figure size 1152x288 with 2 Axes>"
            ]
          },
          "metadata": {},
          "output_type": "display_data"
        },
        {
          "name": "stdout",
          "output_type": "stream",
          "text": [
            "Skewness : -0.22432221427874138\n"
          ]
        },
        {
          "data": {
            "image/png": "[encoded data removed]",
            "text/plain": [
              "<Figure size 1152x288 with 2 Axes>"
            ]
          },
          "metadata": {},
          "output_type": "display_data"
        },
        {
          "name": "stdout",
          "output_type": "stream",
          "text": [
            "Skewness : 0.9663779392270336\n"
          ]
        }
      ],
      "source": [
        "print('Outliers sebelum di handling')\n",
        "for cols in X_train.describe().columns:\n",
        "    diagnostic_plots(X_train, cols)\n",
        "    print('Skewness :', X_train[cols].skew())"
      ]
    },
    {
      "cell_type": "code",
      "execution_count": 32,
      "metadata": {
        "colab": {
          "base_uri": "https://localhost:8080/",
          "height": 174
        },
        "id": "G8jccTVbjBOt",
        "outputId": "af487b67-23a5-45bf-a343-2ca4c7398f15"
      },
      "outputs": [
        {
          "data": {
            "text/html": [
              "<div>\n",
              "<style scoped>\n",
              "    .dataframe tbody tr th:only-of-type {\n",
              "        vertical-align: middle;\n",
              "    }\n",
              "\n",
              "    .dataframe tbody tr th {\n",
              "        vertical-align: top;\n",
              "    }\n",
              "\n",
              "    .dataframe thead th {\n",
              "        text-align: right;\n",
              "    }\n",
              "</style>\n",
              "<table border=\"1\" class=\"dataframe\">\n",
              "  <thead>\n",
              "    <tr style=\"text-align: right;\">\n",
              "      <th></th>\n",
              "      <th>column</th>\n",
              "      <th>skew</th>\n",
              "      <th>distribution</th>\n",
              "    </tr>\n",
              "  </thead>\n",
              "  <tbody>\n",
              "    <tr>\n",
              "      <th>0</th>\n",
              "      <td>tenure</td>\n",
              "      <td>0.248392</td>\n",
              "      <td>Normal</td>\n",
              "    </tr>\n",
              "    <tr>\n",
              "      <th>1</th>\n",
              "      <td>MonthlyCharges</td>\n",
              "      <td>-0.224322</td>\n",
              "      <td>Normal</td>\n",
              "    </tr>\n",
              "    <tr>\n",
              "      <th>2</th>\n",
              "      <td>TotalCharges</td>\n",
              "      <td>0.966378</td>\n",
              "      <td>Skew</td>\n",
              "    </tr>\n",
              "  </tbody>\n",
              "</table>\n",
              "</div>"
            ],
            "text/plain": [
              "           column      skew distribution\n",
              "0          tenure  0.248392       Normal\n",
              "1  MonthlyCharges -0.224322       Normal\n",
              "2    TotalCharges  0.966378         Skew"
            ]
          },
          "execution_count": 32,
          "metadata": {},
          "output_type": "execute_result"
        }
      ],
      "source": [
        "# cek semua distribusi dataset\n",
        "\n",
        "distribusi_data = pd.DataFrame({'column':X_train.describe().columns, 'skew' : X_train.skew(axis=0)})\n",
        "distribusi_data.reset_index(drop=True, inplace=True)\n",
        "distribusi_data['distribution'] = np.where((distribusi_data['skew'] < 0.5) & (distribusi_data['skew'] > - 0.5) , 'Normal', 'Skew')\n",
        "distribusi_data"
      ]
    },
    {
      "cell_type": "code",
      "execution_count": 33,
      "metadata": {
        "id": "xSPRz2VljBOt"
      },
      "outputs": [],
      "source": [
        "# pakai fungsi ini kalau distribusi datanya normal\n",
        "def find_normal_boundaries(df, variable):\n",
        "    upper_boundary = df[variable].mean() + 3 * df[variable].std()\n",
        "    lower_boundary = df[variable].mean() - 3 * df[variable].std()\n",
        "\n",
        "    return upper_boundary, lower_boundary"
      ]
    },
    {
      "cell_type": "code",
      "execution_count": 34,
      "metadata": {
        "id": "s-cJG_p1jBOu"
      },
      "outputs": [],
      "source": [
        "# pakai fungsi ini kalau distribusi datanya skewed\n",
        "\n",
        "def find_skewed_boundaries(df, variable):\n",
        "    IQR = df[variable].quantile(0.75) - df[variable].quantile(0.25)\n",
        "\n",
        "    lower = df[variable].quantile(0.25) - (1.5 * IQR)\n",
        "    upper = df[variable].quantile(0.75) + (1.5 * IQR)\n",
        "\n",
        "    return upper, lower"
      ]
    },
    {
      "cell_type": "code",
      "execution_count": 35,
      "metadata": {
        "colab": {
          "base_uri": "https://localhost:8080/",
          "height": 238
        },
        "id": "oSy8auwujBOu",
        "outputId": "fd4cf40d-0e14-459f-9f4f-9182b3d610df"
      },
      "outputs": [
        {
          "data": {
            "text/html": [
              "<div>\n",
              "<style scoped>\n",
              "    .dataframe tbody tr th:only-of-type {\n",
              "        vertical-align: middle;\n",
              "    }\n",
              "\n",
              "    .dataframe tbody tr th {\n",
              "        vertical-align: top;\n",
              "    }\n",
              "\n",
              "    .dataframe thead th {\n",
              "        text-align: right;\n",
              "    }\n",
              "</style>\n",
              "<table border=\"1\" class=\"dataframe\">\n",
              "  <thead>\n",
              "    <tr style=\"text-align: right;\">\n",
              "      <th></th>\n",
              "      <th>column</th>\n",
              "      <th>upper_boundary</th>\n",
              "      <th>lower_boundary</th>\n",
              "      <th>total_right_tail</th>\n",
              "      <th>total_left_tail</th>\n",
              "      <th>total_right_tail_percent</th>\n",
              "      <th>total_left_tail_percent</th>\n",
              "      <th>total_outlier</th>\n",
              "      <th>total_outlier_percent</th>\n",
              "    </tr>\n",
              "  </thead>\n",
              "  <tbody>\n",
              "    <tr>\n",
              "      <th>0</th>\n",
              "      <td>tenure</td>\n",
              "      <td>106.161415</td>\n",
              "      <td>-41.563176</td>\n",
              "      <td>0</td>\n",
              "      <td>0</td>\n",
              "      <td>0.0</td>\n",
              "      <td>0.0</td>\n",
              "      <td>0</td>\n",
              "      <td>0.0</td>\n",
              "    </tr>\n",
              "    <tr>\n",
              "      <th>1</th>\n",
              "      <td>MonthlyCharges</td>\n",
              "      <td>154.927360</td>\n",
              "      <td>-25.161194</td>\n",
              "      <td>0</td>\n",
              "      <td>0</td>\n",
              "      <td>0.0</td>\n",
              "      <td>0.0</td>\n",
              "      <td>0</td>\n",
              "      <td>0.0</td>\n",
              "    </tr>\n",
              "    <tr>\n",
              "      <th>2</th>\n",
              "      <td>TotalCharges</td>\n",
              "      <td>8911.350000</td>\n",
              "      <td>-4703.250000</td>\n",
              "      <td>0</td>\n",
              "      <td>0</td>\n",
              "      <td>0.0</td>\n",
              "      <td>0.0</td>\n",
              "      <td>0</td>\n",
              "      <td>0.0</td>\n",
              "    </tr>\n",
              "  </tbody>\n",
              "</table>\n",
              "</div>"
            ],
            "text/plain": [
              "           column  upper_boundary  lower_boundary  total_right_tail  \\\n",
              "0          tenure      106.161415      -41.563176                 0   \n",
              "1  MonthlyCharges      154.927360      -25.161194                 0   \n",
              "2    TotalCharges     8911.350000    -4703.250000                 0   \n",
              "\n",
              "   total_left_tail  total_right_tail_percent  total_left_tail_percent  \\\n",
              "0                0                       0.0                      0.0   \n",
              "1                0                       0.0                      0.0   \n",
              "2                0                       0.0                      0.0   \n",
              "\n",
              "   total_outlier  total_outlier_percent  \n",
              "0              0                    0.0  \n",
              "1              0                    0.0  \n",
              "2              0                    0.0  "
            ]
          },
          "execution_count": 35,
          "metadata": {},
          "output_type": "execute_result"
        }
      ],
      "source": [
        "# Atau\n",
        "\n",
        "X_train_outliers = {\n",
        "    'column' : [],\n",
        "    'upper_boundary' : [],\n",
        "    'lower_boundary' : [],\n",
        "    'total_right_tail' : [],\n",
        "    'total_left_tail' : [],\n",
        "    'total_right_tail_percent' : [],\n",
        "    'total_left_tail_percent' : [],\n",
        "    'total_outlier' : [],\n",
        "    'total_outlier_percent' :[]\n",
        "}\n",
        "\n",
        "for row in distribusi_data.index.tolist():\n",
        "    col = distribusi_data.iloc[row]['column']\n",
        "    dist = distribusi_data.iloc[row]['distribution']\n",
        "    if dist == 'Normal' :\n",
        "        upper_boundary, lower_boundary = find_normal_boundaries(X_train, col)\n",
        "    else:\n",
        "        upper_boundary, lower_boundary = find_skewed_boundaries(X_train, col)\n",
        "\n",
        "\n",
        "    total_right_tail = len(X_train[X_train[col] > upper_boundary])\n",
        "    total_left_tail = len(X_train[X_train[col] < lower_boundary])\n",
        "    total_right_tail_percent = total_right_tail/len(X_train)*100\n",
        "    total_left_tail_percent = total_left_tail/len(X_train)*100\n",
        "    total_outlier = total_left_tail + total_right_tail\n",
        "    total_outlier_percent = total_left_tail_percent + total_right_tail_percent\n",
        "\n",
        "    X_train_outliers['column'].append(col)\n",
        "    X_train_outliers['upper_boundary'].append(upper_boundary)\n",
        "    X_train_outliers['lower_boundary'].append(lower_boundary)\n",
        "    X_train_outliers['total_right_tail'].append(total_right_tail)\n",
        "    X_train_outliers['total_left_tail'].append(total_left_tail)\n",
        "    X_train_outliers['total_right_tail_percent'].append(total_right_tail_percent)\n",
        "    X_train_outliers['total_left_tail_percent'].append(total_left_tail_percent)\n",
        "    X_train_outliers['total_outlier'].append(total_outlier)\n",
        "    X_train_outliers['total_outlier_percent'].append(total_outlier_percent)\n",
        "\n",
        "X_train_outliers = pd.DataFrame(X_train_outliers)\n",
        "X_train_outliers"
      ]
    },
    {
      "cell_type": "code",
      "execution_count": 36,
      "metadata": {
        "colab": {
          "base_uri": "https://localhost:8080/",
          "height": 238
        },
        "id": "-N3CXxOrjBOu",
        "outputId": "4d833a7d-e894-4dbe-aaf2-5415f1f93eb2"
      },
      "outputs": [
        {
          "data": {
            "text/html": [
              "<div>\n",
              "<style scoped>\n",
              "    .dataframe tbody tr th:only-of-type {\n",
              "        vertical-align: middle;\n",
              "    }\n",
              "\n",
              "    .dataframe tbody tr th {\n",
              "        vertical-align: top;\n",
              "    }\n",
              "\n",
              "    .dataframe thead th {\n",
              "        text-align: right;\n",
              "    }\n",
              "</style>\n",
              "<table border=\"1\" class=\"dataframe\">\n",
              "  <thead>\n",
              "    <tr style=\"text-align: right;\">\n",
              "      <th></th>\n",
              "      <th>column</th>\n",
              "      <th>skew</th>\n",
              "      <th>distribution</th>\n",
              "      <th>upper_boundary</th>\n",
              "      <th>lower_boundary</th>\n",
              "      <th>total_right_tail</th>\n",
              "      <th>total_left_tail</th>\n",
              "      <th>total_right_tail_percent</th>\n",
              "      <th>total_left_tail_percent</th>\n",
              "      <th>total_outlier</th>\n",
              "      <th>total_outlier_percent</th>\n",
              "    </tr>\n",
              "  </thead>\n",
              "  <tbody>\n",
              "    <tr>\n",
              "      <th>0</th>\n",
              "      <td>tenure</td>\n",
              "      <td>0.248392</td>\n",
              "      <td>Normal</td>\n",
              "      <td>106.161415</td>\n",
              "      <td>-41.563176</td>\n",
              "      <td>0</td>\n",
              "      <td>0</td>\n",
              "      <td>0.0</td>\n",
              "      <td>0.0</td>\n",
              "      <td>0</td>\n",
              "      <td>0.0</td>\n",
              "    </tr>\n",
              "    <tr>\n",
              "      <th>1</th>\n",
              "      <td>MonthlyCharges</td>\n",
              "      <td>-0.224322</td>\n",
              "      <td>Normal</td>\n",
              "      <td>154.927360</td>\n",
              "      <td>-25.161194</td>\n",
              "      <td>0</td>\n",
              "      <td>0</td>\n",
              "      <td>0.0</td>\n",
              "      <td>0.0</td>\n",
              "      <td>0</td>\n",
              "      <td>0.0</td>\n",
              "    </tr>\n",
              "    <tr>\n",
              "      <th>2</th>\n",
              "      <td>TotalCharges</td>\n",
              "      <td>0.966378</td>\n",
              "      <td>Skew</td>\n",
              "      <td>8911.350000</td>\n",
              "      <td>-4703.250000</td>\n",
              "      <td>0</td>\n",
              "      <td>0</td>\n",
              "      <td>0.0</td>\n",
              "      <td>0.0</td>\n",
              "      <td>0</td>\n",
              "      <td>0.0</td>\n",
              "    </tr>\n",
              "  </tbody>\n",
              "</table>\n",
              "</div>"
            ],
            "text/plain": [
              "           column      skew distribution  upper_boundary  lower_boundary  \\\n",
              "0          tenure  0.248392       Normal      106.161415      -41.563176   \n",
              "1  MonthlyCharges -0.224322       Normal      154.927360      -25.161194   \n",
              "2    TotalCharges  0.966378         Skew     8911.350000    -4703.250000   \n",
              "\n",
              "   total_right_tail  total_left_tail  total_right_tail_percent  \\\n",
              "0                 0                0                       0.0   \n",
              "1                 0                0                       0.0   \n",
              "2                 0                0                       0.0   \n",
              "\n",
              "   total_left_tail_percent  total_outlier  total_outlier_percent  \n",
              "0                      0.0              0                    0.0  \n",
              "1                      0.0              0                    0.0  \n",
              "2                      0.0              0                    0.0  "
            ]
          },
          "execution_count": 36,
          "metadata": {},
          "output_type": "execute_result"
        }
      ],
      "source": [
        "# Merge Distribusi data dan X_train_outlier\n",
        "\n",
        "pd.merge(distribusi_data, X_train_outliers, on='column')"
      ]
    },
    {
      "cell_type": "markdown",
      "metadata": {
        "id": "DTi_oMK_jBOv"
      },
      "source": [
        "### Handling Outliers\n",
        "\n",
        "Kolom yang memiliki : \n",
        "- persentase outlier  < 5% : Trimming\n",
        "- 5% <= persentase outlier < 15% : Capping\n",
        "- persentase outlier => 15% : Biarkan"
      ]
    },
    {
      "cell_type": "markdown",
      "metadata": {
        "id": "5xm0Ir0gjBOw"
      },
      "source": [
        "## Missing Values\n",
        "\n",
        "Cek missing values di kedua dataset"
      ]
    },
    {
      "cell_type": "code",
      "execution_count": 37,
      "metadata": {
        "colab": {
          "base_uri": "https://localhost:8080/"
        },
        "id": "mGvJLwuSjBOw",
        "outputId": "18ffb952-dd7d-4758-fe4a-4bc072968f99"
      },
      "outputs": [
        {
          "data": {
            "text/plain": [
              "customerID          0\n",
              "gender              0\n",
              "SeniorCitizen       0\n",
              "Partner             0\n",
              "Dependents          0\n",
              "tenure              0\n",
              "PhoneService        0\n",
              "MultipleLines       0\n",
              "InternetService     0\n",
              "OnlineSecurity      0\n",
              "OnlineBackup        0\n",
              "DeviceProtection    0\n",
              "TechSupport         0\n",
              "StreamingTV         0\n",
              "StreamingMovies     0\n",
              "Contract            0\n",
              "PaperlessBilling    0\n",
              "PaymentMethod       0\n",
              "MonthlyCharges      0\n",
              "TotalCharges        7\n",
              "dtype: int64"
            ]
          },
          "execution_count": 37,
          "metadata": {},
          "output_type": "execute_result"
        }
      ],
      "source": [
        "# cek missing values dataset train, test, dan validasi\n",
        "X_train.isna().sum()"
      ]
    },
    {
      "cell_type": "code",
      "execution_count": 38,
      "metadata": {
        "colab": {
          "base_uri": "https://localhost:8080/"
        },
        "id": "SS8OZI5TjBOw",
        "outputId": "fb75bc84-9b88-4f97-8206-b74c30e3daf5"
      },
      "outputs": [
        {
          "data": {
            "text/plain": [
              "customerID          0\n",
              "gender              0\n",
              "SeniorCitizen       0\n",
              "Partner             0\n",
              "Dependents          0\n",
              "tenure              0\n",
              "PhoneService        0\n",
              "MultipleLines       0\n",
              "InternetService     0\n",
              "OnlineSecurity      0\n",
              "OnlineBackup        0\n",
              "DeviceProtection    0\n",
              "TechSupport         0\n",
              "StreamingTV         0\n",
              "StreamingMovies     0\n",
              "Contract            0\n",
              "PaperlessBilling    0\n",
              "PaymentMethod       0\n",
              "MonthlyCharges      0\n",
              "TotalCharges        2\n",
              "dtype: int64"
            ]
          },
          "execution_count": 38,
          "metadata": {},
          "output_type": "execute_result"
        }
      ],
      "source": [
        "X_test.isna().sum()"
      ]
    },
    {
      "cell_type": "code",
      "execution_count": 39,
      "metadata": {
        "colab": {
          "base_uri": "https://localhost:8080/"
        },
        "id": "0BHfQWI8n5YX",
        "outputId": "e1779abc-c370-4839-ee0f-85299b308702"
      },
      "outputs": [
        {
          "data": {
            "text/plain": [
              "customerID          0\n",
              "gender              0\n",
              "SeniorCitizen       0\n",
              "Partner             0\n",
              "Dependents          0\n",
              "tenure              0\n",
              "PhoneService        0\n",
              "MultipleLines       0\n",
              "InternetService     0\n",
              "OnlineSecurity      0\n",
              "OnlineBackup        0\n",
              "DeviceProtection    0\n",
              "TechSupport         0\n",
              "StreamingTV         0\n",
              "StreamingMovies     0\n",
              "Contract            0\n",
              "PaperlessBilling    0\n",
              "PaymentMethod       0\n",
              "MonthlyCharges      0\n",
              "TotalCharges        1\n",
              "dtype: int64"
            ]
          },
          "execution_count": 39,
          "metadata": {},
          "output_type": "execute_result"
        }
      ],
      "source": [
        "X_val.isna().sum()"
      ]
    },
    {
      "cell_type": "code",
      "execution_count": 40,
      "metadata": {
        "colab": {
          "base_uri": "https://localhost:8080/"
        },
        "id": "wL6XwlGejBOx",
        "outputId": "d5e1ee34-116f-41da-c8f7-a1dcf65b1c5c"
      },
      "outputs": [
        {
          "data": {
            "text/plain": [
              "0"
            ]
          },
          "execution_count": 40,
          "metadata": {},
          "output_type": "execute_result"
        }
      ],
      "source": [
        "y_train.isna().sum()"
      ]
    },
    {
      "cell_type": "code",
      "execution_count": 41,
      "metadata": {
        "colab": {
          "base_uri": "https://localhost:8080/"
        },
        "id": "6QtKzrIbjBOx",
        "outputId": "672437df-866e-4a6e-f406-28cf83aa307b"
      },
      "outputs": [
        {
          "data": {
            "text/plain": [
              "0"
            ]
          },
          "execution_count": 41,
          "metadata": {},
          "output_type": "execute_result"
        }
      ],
      "source": [
        "y_test.isna().sum()"
      ]
    },
    {
      "cell_type": "code",
      "execution_count": 42,
      "metadata": {
        "colab": {
          "base_uri": "https://localhost:8080/"
        },
        "id": "E85Qpnvmn9qQ",
        "outputId": "a8b8a20b-3f87-41fb-f24e-6bb71dbcc7ce"
      },
      "outputs": [
        {
          "data": {
            "text/plain": [
              "0"
            ]
          },
          "execution_count": 42,
          "metadata": {},
          "output_type": "execute_result"
        }
      ],
      "source": [
        "y_val.isna().sum()"
      ]
    },
    {
      "cell_type": "markdown",
      "metadata": {
        "id": "RCDRl0TyjBOx"
      },
      "source": [
        "Di X_train baik itu di dataset train, test dan val terdapat missing values pada kolom `TotalCharges`. Harus dihandling terlebih dahulu."
      ]
    },
    {
      "cell_type": "code",
      "execution_count": 44,
      "metadata": {
        "id": "NDtulNRFjBOy"
      },
      "outputs": [],
      "source": [
        "# metode handling missing values\n",
        "\n",
        "imputer_median = MeanMedianImputer(imputation_method='median', \n",
        "                variables=['TotalCharges'])\n",
        "imputer_median.fit(X_train)\n",
        "X_train_clean_final = imputer_median.transform(X_train)\n",
        "X_test_clean_final = imputer_median.transform(X_test)\n",
        "X_val_clean_final = imputer_median.transform(X_val)\n"
      ]
    },
    {
      "cell_type": "code",
      "execution_count": 45,
      "metadata": {
        "colab": {
          "base_uri": "https://localhost:8080/"
        },
        "id": "lUV6UPpWjBOy",
        "outputId": "0088c406-f3b4-4063-9ffe-26dcbf4dd900"
      },
      "outputs": [
        {
          "data": {
            "text/plain": [
              "customerID          0\n",
              "gender              0\n",
              "SeniorCitizen       0\n",
              "Partner             0\n",
              "Dependents          0\n",
              "tenure              0\n",
              "PhoneService        0\n",
              "MultipleLines       0\n",
              "InternetService     0\n",
              "OnlineSecurity      0\n",
              "OnlineBackup        0\n",
              "DeviceProtection    0\n",
              "TechSupport         0\n",
              "StreamingTV         0\n",
              "StreamingMovies     0\n",
              "Contract            0\n",
              "PaperlessBilling    0\n",
              "PaymentMethod       0\n",
              "MonthlyCharges      0\n",
              "TotalCharges        0\n",
              "dtype: int64"
            ]
          },
          "execution_count": 45,
          "metadata": {},
          "output_type": "execute_result"
        }
      ],
      "source": [
        "X_train_clean_final.isna().sum()"
      ]
    },
    {
      "cell_type": "code",
      "execution_count": 46,
      "metadata": {
        "colab": {
          "base_uri": "https://localhost:8080/"
        },
        "id": "3CNwo2QcjBOy",
        "outputId": "2259d46a-7669-4470-cde1-88113473c547"
      },
      "outputs": [
        {
          "data": {
            "text/plain": [
              "customerID          0\n",
              "gender              0\n",
              "SeniorCitizen       0\n",
              "Partner             0\n",
              "Dependents          0\n",
              "tenure              0\n",
              "PhoneService        0\n",
              "MultipleLines       0\n",
              "InternetService     0\n",
              "OnlineSecurity      0\n",
              "OnlineBackup        0\n",
              "DeviceProtection    0\n",
              "TechSupport         0\n",
              "StreamingTV         0\n",
              "StreamingMovies     0\n",
              "Contract            0\n",
              "PaperlessBilling    0\n",
              "PaymentMethod       0\n",
              "MonthlyCharges      0\n",
              "TotalCharges        0\n",
              "dtype: int64"
            ]
          },
          "execution_count": 46,
          "metadata": {},
          "output_type": "execute_result"
        }
      ],
      "source": [
        "X_test_clean_final.isna().sum()"
      ]
    },
    {
      "cell_type": "code",
      "execution_count": 47,
      "metadata": {
        "colab": {
          "base_uri": "https://localhost:8080/"
        },
        "id": "3eV7Y3Q5qyYN",
        "outputId": "19610e1e-39f5-4cf2-b13a-f01b3c546e0d"
      },
      "outputs": [
        {
          "data": {
            "text/plain": [
              "customerID          0\n",
              "gender              0\n",
              "SeniorCitizen       0\n",
              "Partner             0\n",
              "Dependents          0\n",
              "tenure              0\n",
              "PhoneService        0\n",
              "MultipleLines       0\n",
              "InternetService     0\n",
              "OnlineSecurity      0\n",
              "OnlineBackup        0\n",
              "DeviceProtection    0\n",
              "TechSupport         0\n",
              "StreamingTV         0\n",
              "StreamingMovies     0\n",
              "Contract            0\n",
              "PaperlessBilling    0\n",
              "PaymentMethod       0\n",
              "MonthlyCharges      0\n",
              "TotalCharges        0\n",
              "dtype: int64"
            ]
          },
          "execution_count": 47,
          "metadata": {},
          "output_type": "execute_result"
        }
      ],
      "source": [
        "X_val_clean_final.isna().sum()"
      ]
    },
    {
      "cell_type": "markdown",
      "metadata": {
        "id": "u7BOBGIbjBOy"
      },
      "source": [
        "## Features Selection"
      ]
    },
    {
      "cell_type": "code",
      "execution_count": 48,
      "metadata": {
        "colab": {
          "base_uri": "https://localhost:8080/"
        },
        "id": "001DnS6EjBOz",
        "outputId": "9ae0fe1a-e709-47b5-955f-3273951b89c5"
      },
      "outputs": [
        {
          "data": {
            "text/plain": [
              "Index(['customerID', 'gender', 'SeniorCitizen', 'Partner', 'Dependents',\n",
              "       'tenure', 'PhoneService', 'MultipleLines', 'InternetService',\n",
              "       'OnlineSecurity', 'OnlineBackup', 'DeviceProtection', 'TechSupport',\n",
              "       'StreamingTV', 'StreamingMovies', 'Contract', 'PaperlessBilling',\n",
              "       'PaymentMethod', 'MonthlyCharges', 'TotalCharges', 'Churn'],\n",
              "      dtype='object')"
            ]
          },
          "execution_count": 48,
          "metadata": {},
          "output_type": "execute_result"
        }
      ],
      "source": [
        "new_df.columns"
      ]
    },
    {
      "cell_type": "markdown",
      "metadata": {
        "id": "4vefGctLjBOz"
      },
      "source": [
        "Analisis feature selection :\n",
        "- kolom `customerID` tidak akan dipakai karena kolom tersebut hanya berisi nilai-nilai unik yang tidak ada pengaruhnya dengan label.\n",
        "- kolom `tenure` tidak dipakai sebagai feature karena korelasi dengan label kecil.\n",
        "- kolom `TotalCharges` tidak dipakai sebagai feature, karena sudah diwakilkan oleh kolom `MonthlyCharges`. Tiap pelanggan pasti membayar tagihan setiap bulannya baik itu kontrak perbulan, setahun atau 2 tahun.\n",
        "- kolom `PaperlessBilling` tidak dipakai sebagai feature, karena sudah diwakilkan oleh kolom `PaymentMethod`."
      ]
    },
    {
      "cell_type": "code",
      "execution_count": 49,
      "metadata": {
        "id": "iZt2-tpSzYAt"
      },
      "outputs": [],
      "source": [
        "X_train = X_train_clean_final.drop(['customerID','tenure','TotalCharges','PaperlessBilling'], axis=1)\n",
        "X_test = X_test_clean_final.drop(['customerID','tenure','TotalCharges','PaperlessBilling'], axis=1)\n",
        "X_val = X_val_clean_final.drop(['customerID','tenure','TotalCharges','PaperlessBilling'], axis=1)"
      ]
    },
    {
      "cell_type": "code",
      "execution_count": 50,
      "metadata": {
        "colab": {
          "base_uri": "https://localhost:8080/",
          "height": 661
        },
        "id": "VmLa7xSqRYZZ",
        "outputId": "3389e385-1409-488d-c1b3-98ece314e076"
      },
      "outputs": [
        {
          "data": {
            "text/html": [
              "<div>\n",
              "<style scoped>\n",
              "    .dataframe tbody tr th:only-of-type {\n",
              "        vertical-align: middle;\n",
              "    }\n",
              "\n",
              "    .dataframe tbody tr th {\n",
              "        vertical-align: top;\n",
              "    }\n",
              "\n",
              "    .dataframe thead th {\n",
              "        text-align: right;\n",
              "    }\n",
              "</style>\n",
              "<table border=\"1\" class=\"dataframe\">\n",
              "  <thead>\n",
              "    <tr style=\"text-align: right;\">\n",
              "      <th></th>\n",
              "      <th>gender</th>\n",
              "      <th>SeniorCitizen</th>\n",
              "      <th>Partner</th>\n",
              "      <th>Dependents</th>\n",
              "      <th>PhoneService</th>\n",
              "      <th>MultipleLines</th>\n",
              "      <th>InternetService</th>\n",
              "      <th>OnlineSecurity</th>\n",
              "      <th>OnlineBackup</th>\n",
              "      <th>DeviceProtection</th>\n",
              "      <th>TechSupport</th>\n",
              "      <th>StreamingTV</th>\n",
              "      <th>StreamingMovies</th>\n",
              "      <th>Contract</th>\n",
              "      <th>PaymentMethod</th>\n",
              "      <th>MonthlyCharges</th>\n",
              "    </tr>\n",
              "  </thead>\n",
              "  <tbody>\n",
              "    <tr>\n",
              "      <th>4322</th>\n",
              "      <td>Male</td>\n",
              "      <td>No</td>\n",
              "      <td>No</td>\n",
              "      <td>Yes</td>\n",
              "      <td>Yes</td>\n",
              "      <td>No</td>\n",
              "      <td>No</td>\n",
              "      <td>No internet service</td>\n",
              "      <td>No internet service</td>\n",
              "      <td>No internet service</td>\n",
              "      <td>No internet service</td>\n",
              "      <td>No internet service</td>\n",
              "      <td>No internet service</td>\n",
              "      <td>Month-to-month</td>\n",
              "      <td>Mailed check</td>\n",
              "      <td>20.25</td>\n",
              "    </tr>\n",
              "    <tr>\n",
              "      <th>1726</th>\n",
              "      <td>Male</td>\n",
              "      <td>Yes</td>\n",
              "      <td>No</td>\n",
              "      <td>No</td>\n",
              "      <td>Yes</td>\n",
              "      <td>Yes</td>\n",
              "      <td>Fiber optic</td>\n",
              "      <td>No</td>\n",
              "      <td>Yes</td>\n",
              "      <td>Yes</td>\n",
              "      <td>Yes</td>\n",
              "      <td>Yes</td>\n",
              "      <td>Yes</td>\n",
              "      <td>Month-to-month</td>\n",
              "      <td>Electronic check</td>\n",
              "      <td>110.75</td>\n",
              "    </tr>\n",
              "    <tr>\n",
              "      <th>183</th>\n",
              "      <td>Female</td>\n",
              "      <td>No</td>\n",
              "      <td>Yes</td>\n",
              "      <td>No</td>\n",
              "      <td>No</td>\n",
              "      <td>No phone service</td>\n",
              "      <td>DSL</td>\n",
              "      <td>No</td>\n",
              "      <td>No</td>\n",
              "      <td>No</td>\n",
              "      <td>No</td>\n",
              "      <td>No</td>\n",
              "      <td>No</td>\n",
              "      <td>Month-to-month</td>\n",
              "      <td>Electronic check</td>\n",
              "      <td>24.80</td>\n",
              "    </tr>\n",
              "    <tr>\n",
              "      <th>6591</th>\n",
              "      <td>Female</td>\n",
              "      <td>No</td>\n",
              "      <td>Yes</td>\n",
              "      <td>Yes</td>\n",
              "      <td>Yes</td>\n",
              "      <td>No</td>\n",
              "      <td>No</td>\n",
              "      <td>No internet service</td>\n",
              "      <td>No internet service</td>\n",
              "      <td>No internet service</td>\n",
              "      <td>No internet service</td>\n",
              "      <td>No internet service</td>\n",
              "      <td>No internet service</td>\n",
              "      <td>Two year</td>\n",
              "      <td>Bank transfer (automatic)</td>\n",
              "      <td>20.30</td>\n",
              "    </tr>\n",
              "    <tr>\n",
              "      <th>4154</th>\n",
              "      <td>Male</td>\n",
              "      <td>No</td>\n",
              "      <td>Yes</td>\n",
              "      <td>No</td>\n",
              "      <td>Yes</td>\n",
              "      <td>Yes</td>\n",
              "      <td>Fiber optic</td>\n",
              "      <td>No</td>\n",
              "      <td>Yes</td>\n",
              "      <td>Yes</td>\n",
              "      <td>Yes</td>\n",
              "      <td>Yes</td>\n",
              "      <td>Yes</td>\n",
              "      <td>Two year</td>\n",
              "      <td>Electronic check</td>\n",
              "      <td>108.20</td>\n",
              "    </tr>\n",
              "    <tr>\n",
              "      <th>...</th>\n",
              "      <td>...</td>\n",
              "      <td>...</td>\n",
              "      <td>...</td>\n",
              "      <td>...</td>\n",
              "      <td>...</td>\n",
              "      <td>...</td>\n",
              "      <td>...</td>\n",
              "      <td>...</td>\n",
              "      <td>...</td>\n",
              "      <td>...</td>\n",
              "      <td>...</td>\n",
              "      <td>...</td>\n",
              "      <td>...</td>\n",
              "      <td>...</td>\n",
              "      <td>...</td>\n",
              "      <td>...</td>\n",
              "    </tr>\n",
              "    <tr>\n",
              "      <th>6308</th>\n",
              "      <td>Female</td>\n",
              "      <td>No</td>\n",
              "      <td>Yes</td>\n",
              "      <td>Yes</td>\n",
              "      <td>Yes</td>\n",
              "      <td>Yes</td>\n",
              "      <td>DSL</td>\n",
              "      <td>No</td>\n",
              "      <td>Yes</td>\n",
              "      <td>Yes</td>\n",
              "      <td>No</td>\n",
              "      <td>No</td>\n",
              "      <td>No</td>\n",
              "      <td>Two year</td>\n",
              "      <td>Bank transfer (automatic)</td>\n",
              "      <td>59.80</td>\n",
              "    </tr>\n",
              "    <tr>\n",
              "      <th>2043</th>\n",
              "      <td>Male</td>\n",
              "      <td>Yes</td>\n",
              "      <td>No</td>\n",
              "      <td>No</td>\n",
              "      <td>Yes</td>\n",
              "      <td>Yes</td>\n",
              "      <td>Fiber optic</td>\n",
              "      <td>No</td>\n",
              "      <td>No</td>\n",
              "      <td>Yes</td>\n",
              "      <td>No</td>\n",
              "      <td>Yes</td>\n",
              "      <td>Yes</td>\n",
              "      <td>Month-to-month</td>\n",
              "      <td>Electronic check</td>\n",
              "      <td>101.05</td>\n",
              "    </tr>\n",
              "    <tr>\n",
              "      <th>344</th>\n",
              "      <td>Female</td>\n",
              "      <td>No</td>\n",
              "      <td>No</td>\n",
              "      <td>No</td>\n",
              "      <td>No</td>\n",
              "      <td>No phone service</td>\n",
              "      <td>DSL</td>\n",
              "      <td>No</td>\n",
              "      <td>No</td>\n",
              "      <td>No</td>\n",
              "      <td>No</td>\n",
              "      <td>Yes</td>\n",
              "      <td>Yes</td>\n",
              "      <td>Month-to-month</td>\n",
              "      <td>Electronic check</td>\n",
              "      <td>44.95</td>\n",
              "    </tr>\n",
              "    <tr>\n",
              "      <th>4823</th>\n",
              "      <td>Male</td>\n",
              "      <td>No</td>\n",
              "      <td>Yes</td>\n",
              "      <td>No</td>\n",
              "      <td>Yes</td>\n",
              "      <td>Yes</td>\n",
              "      <td>DSL</td>\n",
              "      <td>No</td>\n",
              "      <td>No</td>\n",
              "      <td>Yes</td>\n",
              "      <td>No</td>\n",
              "      <td>Yes</td>\n",
              "      <td>No</td>\n",
              "      <td>Month-to-month</td>\n",
              "      <td>Electronic check</td>\n",
              "      <td>65.60</td>\n",
              "    </tr>\n",
              "    <tr>\n",
              "      <th>6422</th>\n",
              "      <td>Male</td>\n",
              "      <td>No</td>\n",
              "      <td>No</td>\n",
              "      <td>No</td>\n",
              "      <td>Yes</td>\n",
              "      <td>No</td>\n",
              "      <td>DSL</td>\n",
              "      <td>No</td>\n",
              "      <td>No</td>\n",
              "      <td>No</td>\n",
              "      <td>No</td>\n",
              "      <td>No</td>\n",
              "      <td>No</td>\n",
              "      <td>Month-to-month</td>\n",
              "      <td>Electronic check</td>\n",
              "      <td>45.30</td>\n",
              "    </tr>\n",
              "  </tbody>\n",
              "</table>\n",
              "<p>4998 rows × 16 columns</p>\n",
              "</div>"
            ],
            "text/plain": [
              "      gender SeniorCitizen Partner Dependents PhoneService     MultipleLines  \\\n",
              "4322    Male            No      No        Yes          Yes                No   \n",
              "1726    Male           Yes      No         No          Yes               Yes   \n",
              "183   Female            No     Yes         No           No  No phone service   \n",
              "6591  Female            No     Yes        Yes          Yes                No   \n",
              "4154    Male            No     Yes         No          Yes               Yes   \n",
              "...      ...           ...     ...        ...          ...               ...   \n",
              "6308  Female            No     Yes        Yes          Yes               Yes   \n",
              "2043    Male           Yes      No         No          Yes               Yes   \n",
              "344   Female            No      No         No           No  No phone service   \n",
              "4823    Male            No     Yes         No          Yes               Yes   \n",
              "6422    Male            No      No         No          Yes                No   \n",
              "\n",
              "     InternetService       OnlineSecurity         OnlineBackup  \\\n",
              "4322              No  No internet service  No internet service   \n",
              "1726     Fiber optic                   No                  Yes   \n",
              "183              DSL                   No                   No   \n",
              "6591              No  No internet service  No internet service   \n",
              "4154     Fiber optic                   No                  Yes   \n",
              "...              ...                  ...                  ...   \n",
              "6308             DSL                   No                  Yes   \n",
              "2043     Fiber optic                   No                   No   \n",
              "344              DSL                   No                   No   \n",
              "4823             DSL                   No                   No   \n",
              "6422             DSL                   No                   No   \n",
              "\n",
              "         DeviceProtection          TechSupport          StreamingTV  \\\n",
              "4322  No internet service  No internet service  No internet service   \n",
              "1726                  Yes                  Yes                  Yes   \n",
              "183                    No                   No                   No   \n",
              "6591  No internet service  No internet service  No internet service   \n",
              "4154                  Yes                  Yes                  Yes   \n",
              "...                   ...                  ...                  ...   \n",
              "6308                  Yes                   No                   No   \n",
              "2043                  Yes                   No                  Yes   \n",
              "344                    No                   No                  Yes   \n",
              "4823                  Yes                   No                  Yes   \n",
              "6422                   No                   No                   No   \n",
              "\n",
              "          StreamingMovies        Contract              PaymentMethod  \\\n",
              "4322  No internet service  Month-to-month               Mailed check   \n",
              "1726                  Yes  Month-to-month           Electronic check   \n",
              "183                    No  Month-to-month           Electronic check   \n",
              "6591  No internet service        Two year  Bank transfer (automatic)   \n",
              "4154                  Yes        Two year           Electronic check   \n",
              "...                   ...             ...                        ...   \n",
              "6308                   No        Two year  Bank transfer (automatic)   \n",
              "2043                  Yes  Month-to-month           Electronic check   \n",
              "344                   Yes  Month-to-month           Electronic check   \n",
              "4823                   No  Month-to-month           Electronic check   \n",
              "6422                   No  Month-to-month           Electronic check   \n",
              "\n",
              "      MonthlyCharges  \n",
              "4322           20.25  \n",
              "1726          110.75  \n",
              "183            24.80  \n",
              "6591           20.30  \n",
              "4154          108.20  \n",
              "...              ...  \n",
              "6308           59.80  \n",
              "2043          101.05  \n",
              "344            44.95  \n",
              "4823           65.60  \n",
              "6422           45.30  \n",
              "\n",
              "[4998 rows x 16 columns]"
            ]
          },
          "execution_count": 50,
          "metadata": {},
          "output_type": "execute_result"
        }
      ],
      "source": [
        "X_train"
      ]
    },
    {
      "cell_type": "markdown",
      "metadata": {
        "id": "YNxVZCgSjBO0"
      },
      "source": [
        "## Feature Scaling dan Feature Encoding\n",
        "\n",
        "Feature Scaling untuk data numerik dan Feature Encoding untuk data kategorik. Ini berguna untuk memudahkan Machine Learning mempelajari data dan membuat model baru."
      ]
    },
    {
      "cell_type": "code",
      "execution_count": 51,
      "metadata": {
        "colab": {
          "base_uri": "https://localhost:8080/"
        },
        "id": "Ba15-eR5jBO0",
        "outputId": "c496c2fa-46fc-4de5-fd58-d6b5b2e4996a"
      },
      "outputs": [
        {
          "name": "stdout",
          "output_type": "stream",
          "text": [
            "Numerical Columns : ['MonthlyCharges']\n",
            "\n",
            "Categorical Columns : ['gender', 'SeniorCitizen', 'Partner', 'Dependents', 'PhoneService', 'MultipleLines', 'InternetService', 'OnlineSecurity', 'OnlineBackup', 'DeviceProtection', 'TechSupport', 'StreamingTV', 'StreamingMovies', 'Contract', 'PaymentMethod']\n"
          ]
        }
      ],
      "source": [
        "# split columns\n",
        "num_columns = X_train.select_dtypes(include=np.number).columns.tolist()\n",
        "cat_columns = X_train.select_dtypes(include=['object']).columns.tolist()\n",
        "\n",
        "print('Numerical Columns :',num_columns)\n",
        "print('\\nCategorical Columns :',cat_columns)"
      ]
    },
    {
      "cell_type": "markdown",
      "metadata": {},
      "source": [
        "Data numerikal harus di scaling terlebih dahulu."
      ]
    },
    {
      "cell_type": "code",
      "execution_count": 52,
      "metadata": {
        "id": "ywRF9oYfjBO0"
      },
      "outputs": [],
      "source": [
        "# Numerical Columns\n",
        "\n",
        "X_train_num = X_train[num_columns]\n",
        "X_test_num = X_test[num_columns]\n",
        "X_val_num = X_val[num_columns]\n",
        "\n",
        "# Feature Scaling\n",
        "scaler = StandardScaler()\n",
        "X_train_num = scaler.fit_transform(X_train_num)\n",
        "X_test_num = scaler.transform(X_test_num)\n",
        "X_val_num = scaler.transform(X_val_num)"
      ]
    },
    {
      "cell_type": "code",
      "execution_count": 53,
      "metadata": {
        "id": "wTeQhM0ojBO0"
      },
      "outputs": [],
      "source": [
        "# Categorical Columns\n",
        "\n",
        "cat_columns_ordi = ['Partner', 'Dependents', 'SeniorCitizen', 'PhoneService']\n",
        "cat_columns_ohe = ['gender', 'InternetService', 'Contract', 'PaymentMethod', 'OnlineSecurity', 'OnlineBackup', 'DeviceProtection', 'TechSupport', 'StreamingTV', 'StreamingMovies', 'MultipleLines']\n",
        "\n",
        "# Categorical with OrdinalEncoder\n",
        "X_train_cat_ordi = X_train[cat_columns_ordi]\n",
        "X_test_cat_ordi = X_test[cat_columns_ordi]\n",
        "X_val_cat_ordi = X_val[cat_columns_ordi]\n",
        "\n",
        "ordi = OrdinalEncoder()\n",
        "X_train_cat_ordi = ordi.fit_transform(X_train_cat_ordi)\n",
        "X_test_cat_ordi = ordi.transform(X_test_cat_ordi)\n",
        "X_val_cat_ordi = ordi.transform(X_val_cat_ordi)\n",
        "\n",
        "# Categorical with OneHotEncoder\n",
        "X_train_cat_ohe = X_train[cat_columns_ohe]\n",
        "X_test_cat_ohe = X_test[cat_columns_ohe]\n",
        "X_val_cat_ohe = X_val[cat_columns_ohe]\n",
        "\n",
        "ohe = OneHotEncoder()\n",
        "X_train_cat_ohe = ohe.fit_transform(X_train_cat_ohe)\n",
        "X_test_cat_ohe = ohe.transform(X_test_cat_ohe)\n",
        "X_val_cat_ohe = ohe.transform(X_val_cat_ohe)\n"
      ]
    },
    {
      "cell_type": "markdown",
      "metadata": {
        "id": "zreTo6zrjBO1"
      },
      "source": [
        "### Merge Result\n",
        "\n",
        "Gabungkan hasil dari feature scaling dan feature encoding"
      ]
    },
    {
      "cell_type": "code",
      "execution_count": 54,
      "metadata": {
        "id": "AQIcQo1VjBO1"
      },
      "outputs": [],
      "source": [
        "X_train_final = np.concatenate([X_train_num, X_train_cat_ohe.toarray(), X_train_cat_ordi], axis=1)\n",
        "X_test_final = np.concatenate([X_test_num, X_test_cat_ohe.toarray(), X_test_cat_ordi], axis=1)\n",
        "X_val_final = np.concatenate([X_val_num, X_val_cat_ohe.toarray(), X_val_cat_ordi], axis=1)"
      ]
    },
    {
      "cell_type": "markdown",
      "metadata": {},
      "source": [
        "### Pipeline Preprocessing"
      ]
    },
    {
      "cell_type": "code",
      "execution_count": 56,
      "metadata": {},
      "outputs": [],
      "source": [
        "# Pipeline\n",
        "\n",
        "num_pipe = Pipeline([\n",
        "    ('scaler', scaler)\n",
        "])\n",
        "\n",
        "cat_ordi_pipe = Pipeline([\n",
        "    ('ordinal', ordi)\n",
        "])\n",
        "\n",
        "cat_ohe_pipe = Pipeline([\n",
        "    ('ohe', ohe)\n",
        "])\n",
        "\n",
        "preprocessing = ColumnTransformer(\n",
        "    [('num', num_pipe, num_columns),\n",
        "    ('cat_ordi', cat_ordi_pipe, cat_columns_ordi),\n",
        "    ('cat_ohe', cat_ordi_pipe, cat_columns_ohe)]\n",
        ")"
      ]
    },
    {
      "cell_type": "code",
      "execution_count": 57,
      "metadata": {},
      "outputs": [],
      "source": [
        "pipeline = Pipeline([('processing', preprocessing)])"
      ]
    },
    {
      "cell_type": "code",
      "execution_count": 58,
      "metadata": {},
      "outputs": [
        {
          "data": {
            "text/plain": [
              "Pipeline(steps=[('processing',\n",
              "                 ColumnTransformer(transformers=[('num',\n",
              "                                                  Pipeline(steps=[('scaler',\n",
              "                                                                   StandardScaler())]),\n",
              "                                                  ['MonthlyCharges']),\n",
              "                                                 ('cat_ordi',\n",
              "                                                  Pipeline(steps=[('ordinal',\n",
              "                                                                   OrdinalEncoder())]),\n",
              "                                                  ['Partner', 'Dependents',\n",
              "                                                   'SeniorCitizen',\n",
              "                                                   'PhoneService']),\n",
              "                                                 ('cat_ohe',\n",
              "                                                  Pipeline(steps=[('ordinal',\n",
              "                                                                   OrdinalEncoder())]),\n",
              "                                                  ['gender', 'InternetService',\n",
              "                                                   'Contract', 'PaymentMethod',\n",
              "                                                   'OnlineSecurity',\n",
              "                                                   'OnlineBackup',\n",
              "                                                   'DeviceProtection',\n",
              "                                                   'TechSupport', 'StreamingTV',\n",
              "                                                   'StreamingMovies',\n",
              "                                                   'MultipleLines'])]))])"
            ]
          },
          "execution_count": 58,
          "metadata": {},
          "output_type": "execute_result"
        }
      ],
      "source": [
        "pipeline.fit(X_train, y_train)"
      ]
    },
    {
      "cell_type": "code",
      "execution_count": 59,
      "metadata": {},
      "outputs": [],
      "source": [
        "# Simpan file pipeline\n",
        "import pickle\n",
        "\n",
        "with open(\"pipe_process.pkl\", \"wb\") as pipe_file:\n",
        "    pickle.dump(pipeline, pipe_file)"
      ]
    },
    {
      "cell_type": "markdown",
      "metadata": {
        "id": "UWeea-ZijBO1"
      },
      "source": [
        "# 6. Model Definition\n",
        "\n",
        "Bagian ini berisi cell untuk mendefinisikan model. Jelaskan alasan menggunakan suatu algoritma/model, hyperparameter yang dipakai, jenis penggunaan metrics yang dipakai, dan hal lain yang terkait dengan model."
      ]
    },
    {
      "cell_type": "markdown",
      "metadata": {
        "id": "3v9Rq9ou4wiB"
      },
      "source": [
        "Membuat model dengan menggunakan Tensor-flow."
      ]
    },
    {
      "cell_type": "markdown",
      "metadata": {
        "id": "jSHPS1uOktyy"
      },
      "source": [
        "## 6.1. Sequential API"
      ]
    },
    {
      "cell_type": "code",
      "execution_count": 60,
      "metadata": {
        "id": "EZCsk9zq42Sx"
      },
      "outputs": [],
      "source": [
        "# Based Model\n",
        "\n",
        "model = Sequential()\n",
        "model.add(Dense(10, activation='relu', input_shape=(38,)))\n",
        "model.add(Dense(1, activation='sigmoid'))"
      ]
    },
    {
      "cell_type": "code",
      "execution_count": 61,
      "metadata": {
        "colab": {
          "base_uri": "https://localhost:8080/"
        },
        "id": "Bg1KtEcu-GSJ",
        "outputId": "606b07c0-4011-4abf-a265-a50729da4c76"
      },
      "outputs": [
        {
          "name": "stdout",
          "output_type": "stream",
          "text": [
            "Model: \"sequential\"\n",
            "_________________________________________________________________\n",
            " Layer (type)                Output Shape              Param #   \n",
            "=================================================================\n",
            " dense (Dense)               (None, 10)                390       \n",
            "                                                                 \n",
            " dense_1 (Dense)             (None, 1)                 11        \n",
            "                                                                 \n",
            "=================================================================\n",
            "Total params: 401\n",
            "Trainable params: 401\n",
            "Non-trainable params: 0\n",
            "_________________________________________________________________\n"
          ]
        }
      ],
      "source": [
        "model.summary()"
      ]
    },
    {
      "cell_type": "markdown",
      "metadata": {
        "id": "DhEdxKsZkzxD"
      },
      "source": [
        "## 6.2. Functional API"
      ]
    },
    {
      "cell_type": "code",
      "execution_count": 62,
      "metadata": {
        "id": "hx_HqVc2lCB6"
      },
      "outputs": [],
      "source": [
        "# Functional API\n",
        "data_input = Input(shape=(38,))\n",
        "hidden_1 = Dense(16, kernel_initializer='RandomNormal', activation='relu')(data_input)\n",
        "# drop_1 = Dropout(0.50)(hidden_1)\n",
        "hidden_2 = Dense(8, kernel_initializer='RandomUniform', activation='relu')(hidden_1)\n",
        "# drop_2 = Dropout(0.50)(hidden_2)\n",
        "output_layer = Dense(1, activation='sigmoid')(hidden_2)\n",
        "\n",
        "model_2 = Model(inputs=data_input, outputs=output_layer)"
      ]
    },
    {
      "cell_type": "code",
      "execution_count": 63,
      "metadata": {
        "colab": {
          "base_uri": "https://localhost:8080/"
        },
        "id": "kgv_tW9ymFgK",
        "outputId": "58c68e79-1ceb-4e27-d181-61481a9fb19e"
      },
      "outputs": [
        {
          "name": "stdout",
          "output_type": "stream",
          "text": [
            "Model: \"model\"\n",
            "_________________________________________________________________\n",
            " Layer (type)                Output Shape              Param #   \n",
            "=================================================================\n",
            " input_1 (InputLayer)        [(None, 38)]              0         \n",
            "                                                                 \n",
            " dense_2 (Dense)             (None, 16)                624       \n",
            "                                                                 \n",
            " dense_3 (Dense)             (None, 8)                 136       \n",
            "                                                                 \n",
            " dense_4 (Dense)             (None, 1)                 9         \n",
            "                                                                 \n",
            "=================================================================\n",
            "Total params: 769\n",
            "Trainable params: 769\n",
            "Non-trainable params: 0\n",
            "_________________________________________________________________\n"
          ]
        }
      ],
      "source": [
        "model_2.summary()"
      ]
    },
    {
      "cell_type": "markdown",
      "metadata": {
        "id": "kuhUecjMjBO3"
      },
      "source": [
        "# 7. Model Training\n",
        "\n",
        "Cell pada bagian ini hanya berisi code untuk melatih model dan output yang dihasilkan. Lakukan beberapa kali proses training dengan hyperparameter yang berbeda untuk melihat hasil yang didapatkan. Analisis dan narasikan hasil ini pada bagian Model Evaluation."
      ]
    },
    {
      "cell_type": "markdown",
      "metadata": {
        "id": "GPfm4xg9mL-w"
      },
      "source": [
        "## 7.1. Model dengan Sequential API"
      ]
    },
    {
      "cell_type": "code",
      "execution_count": 64,
      "metadata": {
        "id": "TIOlPFXN8R9o"
      },
      "outputs": [],
      "source": [
        "model.compile(loss='binary_crossentropy', optimizer='adam', metrics=['accuracy'])"
      ]
    },
    {
      "cell_type": "markdown",
      "metadata": {
        "id": "Y9rS74wCmV1h"
      },
      "source": [
        "## 7.2. Model dengan Functional API"
      ]
    },
    {
      "cell_type": "code",
      "execution_count": 65,
      "metadata": {
        "id": "NXb2kCQomZMh"
      },
      "outputs": [],
      "source": [
        "# opt_Adam = tf.keras.optimizers.Adam(learning_rate=0.01)\n",
        "model_2.compile(loss='binary_crossentropy', optimizer='Adam', metrics=['accuracy'])"
      ]
    },
    {
      "cell_type": "markdown",
      "metadata": {
        "id": "40p9cO8YjBO5"
      },
      "source": [
        "# 8. Model Evaluation\n",
        "\n",
        "Pada bagian ini, dilakukan evaluasi model yang harus menunjukkan bagaimana performa model berdasarkan metrics yang dipilih. Hal ini harus dibuktikan dengan visualisasi tren performa dan/atau tingkat kesalahan model. Lakukan analisis terkait dengan hasil pada model dan tuliskan hasil analisisnya.\n",
        "\n"
      ]
    },
    {
      "cell_type": "code",
      "execution_count": 66,
      "metadata": {},
      "outputs": [],
      "source": [
        "evaluate_metric = pd.DataFrame(columns=['Model', 'accuracy', 'recall (Class = No)'])"
      ]
    },
    {
      "cell_type": "markdown",
      "metadata": {
        "id": "Z6a5mVIJmq_Y"
      },
      "source": [
        "## 8.1. Model Evaluation dengan Sequential API"
      ]
    },
    {
      "cell_type": "code",
      "execution_count": 67,
      "metadata": {
        "colab": {
          "base_uri": "https://localhost:8080/"
        },
        "id": "cyg-GriQ8mEB",
        "outputId": "9320c381-f42b-462e-bda8-8848c61f6004"
      },
      "outputs": [
        {
          "name": "stdout",
          "output_type": "stream",
          "text": [
            "Epoch 1/100\n",
            "50/50 [==============================] - 1s 5ms/step - loss: 0.7720 - accuracy: 0.4646 - val_loss: 0.6385 - val_accuracy: 0.6187\n",
            "Epoch 2/100\n",
            "50/50 [==============================] - 0s 2ms/step - loss: 0.5833 - accuracy: 0.7001 - val_loss: 0.5302 - val_accuracy: 0.7266\n",
            "Epoch 3/100\n",
            "50/50 [==============================] - 0s 1ms/step - loss: 0.5171 - accuracy: 0.7345 - val_loss: 0.4838 - val_accuracy: 0.7410\n",
            "Epoch 4/100\n",
            "50/50 [==============================] - 0s 1ms/step - loss: 0.4826 - accuracy: 0.7473 - val_loss: 0.4557 - val_accuracy: 0.7572\n",
            "Epoch 5/100\n",
            "50/50 [==============================] - 0s 1ms/step - loss: 0.4615 - accuracy: 0.7761 - val_loss: 0.4413 - val_accuracy: 0.7770\n",
            "Epoch 6/100\n",
            "50/50 [==============================] - 0s 1ms/step - loss: 0.4501 - accuracy: 0.7817 - val_loss: 0.4350 - val_accuracy: 0.7788\n",
            "Epoch 7/100\n",
            "50/50 [==============================] - 0s 1ms/step - loss: 0.4434 - accuracy: 0.7821 - val_loss: 0.4320 - val_accuracy: 0.7842\n",
            "Epoch 8/100\n",
            "50/50 [==============================] - 0s 1ms/step - loss: 0.4395 - accuracy: 0.7849 - val_loss: 0.4322 - val_accuracy: 0.7842\n",
            "Epoch 9/100\n",
            "50/50 [==============================] - 0s 2ms/step - loss: 0.4366 - accuracy: 0.7873 - val_loss: 0.4312 - val_accuracy: 0.7824\n",
            "Epoch 10/100\n",
            "50/50 [==============================] - 0s 1ms/step - loss: 0.4346 - accuracy: 0.7859 - val_loss: 0.4344 - val_accuracy: 0.7806\n",
            "Epoch 11/100\n",
            "50/50 [==============================] - 0s 1ms/step - loss: 0.4337 - accuracy: 0.7891 - val_loss: 0.4333 - val_accuracy: 0.7842\n",
            "Epoch 12/100\n",
            "50/50 [==============================] - 0s 1ms/step - loss: 0.4329 - accuracy: 0.7885 - val_loss: 0.4333 - val_accuracy: 0.7824\n",
            "Epoch 13/100\n",
            "50/50 [==============================] - 0s 1ms/step - loss: 0.4319 - accuracy: 0.7859 - val_loss: 0.4322 - val_accuracy: 0.7806\n",
            "Epoch 14/100\n",
            "50/50 [==============================] - 0s 1ms/step - loss: 0.4311 - accuracy: 0.7883 - val_loss: 0.4330 - val_accuracy: 0.7788\n",
            "Epoch 15/100\n",
            "50/50 [==============================] - 0s 1ms/step - loss: 0.4307 - accuracy: 0.7897 - val_loss: 0.4331 - val_accuracy: 0.7806\n",
            "Epoch 16/100\n",
            "50/50 [==============================] - 0s 1ms/step - loss: 0.4301 - accuracy: 0.7905 - val_loss: 0.4326 - val_accuracy: 0.7770\n",
            "Epoch 17/100\n",
            "50/50 [==============================] - 0s 1ms/step - loss: 0.4299 - accuracy: 0.7895 - val_loss: 0.4321 - val_accuracy: 0.7842\n",
            "Epoch 18/100\n",
            "50/50 [==============================] - 0s 1ms/step - loss: 0.4290 - accuracy: 0.7899 - val_loss: 0.4325 - val_accuracy: 0.7788\n",
            "Epoch 19/100\n",
            "50/50 [==============================] - 0s 1ms/step - loss: 0.4287 - accuracy: 0.7907 - val_loss: 0.4324 - val_accuracy: 0.7770\n",
            "Epoch 20/100\n",
            "50/50 [==============================] - 0s 1ms/step - loss: 0.4284 - accuracy: 0.7909 - val_loss: 0.4324 - val_accuracy: 0.7806\n",
            "Epoch 21/100\n",
            "50/50 [==============================] - 0s 1ms/step - loss: 0.4283 - accuracy: 0.7933 - val_loss: 0.4320 - val_accuracy: 0.7824\n",
            "Epoch 22/100\n",
            "50/50 [==============================] - 0s 1ms/step - loss: 0.4281 - accuracy: 0.7895 - val_loss: 0.4322 - val_accuracy: 0.7806\n",
            "Epoch 23/100\n",
            "50/50 [==============================] - 0s 1ms/step - loss: 0.4273 - accuracy: 0.7899 - val_loss: 0.4334 - val_accuracy: 0.7770\n",
            "Epoch 24/100\n",
            "50/50 [==============================] - 0s 1ms/step - loss: 0.4275 - accuracy: 0.7909 - val_loss: 0.4333 - val_accuracy: 0.7734\n",
            "Epoch 25/100\n",
            "50/50 [==============================] - 0s 1ms/step - loss: 0.4269 - accuracy: 0.7913 - val_loss: 0.4321 - val_accuracy: 0.7770\n",
            "Epoch 26/100\n",
            "50/50 [==============================] - 0s 1ms/step - loss: 0.4270 - accuracy: 0.7905 - val_loss: 0.4324 - val_accuracy: 0.7806\n",
            "Epoch 27/100\n",
            "50/50 [==============================] - 0s 1ms/step - loss: 0.4266 - accuracy: 0.7915 - val_loss: 0.4326 - val_accuracy: 0.7770\n",
            "Epoch 28/100\n",
            "50/50 [==============================] - 0s 1ms/step - loss: 0.4267 - accuracy: 0.7925 - val_loss: 0.4329 - val_accuracy: 0.7788\n",
            "Epoch 29/100\n",
            "50/50 [==============================] - 0s 1ms/step - loss: 0.4264 - accuracy: 0.7905 - val_loss: 0.4333 - val_accuracy: 0.7752\n",
            "Epoch 30/100\n",
            "50/50 [==============================] - 0s 2ms/step - loss: 0.4263 - accuracy: 0.7909 - val_loss: 0.4335 - val_accuracy: 0.7770\n",
            "Epoch 31/100\n",
            "50/50 [==============================] - 0s 1ms/step - loss: 0.4265 - accuracy: 0.7913 - val_loss: 0.4329 - val_accuracy: 0.7770\n",
            "Epoch 32/100\n",
            "50/50 [==============================] - 0s 1ms/step - loss: 0.4258 - accuracy: 0.7921 - val_loss: 0.4339 - val_accuracy: 0.7752\n",
            "Epoch 33/100\n",
            "50/50 [==============================] - 0s 1ms/step - loss: 0.4256 - accuracy: 0.7929 - val_loss: 0.4320 - val_accuracy: 0.7806\n",
            "Epoch 34/100\n",
            "50/50 [==============================] - 0s 1ms/step - loss: 0.4253 - accuracy: 0.7927 - val_loss: 0.4320 - val_accuracy: 0.7806\n",
            "Epoch 35/100\n",
            "50/50 [==============================] - 0s 1ms/step - loss: 0.4250 - accuracy: 0.7915 - val_loss: 0.4330 - val_accuracy: 0.7734\n",
            "Epoch 36/100\n",
            "50/50 [==============================] - 0s 1ms/step - loss: 0.4249 - accuracy: 0.7907 - val_loss: 0.4334 - val_accuracy: 0.7752\n",
            "Epoch 37/100\n",
            "50/50 [==============================] - 0s 1ms/step - loss: 0.4246 - accuracy: 0.7927 - val_loss: 0.4316 - val_accuracy: 0.7824\n",
            "Epoch 38/100\n",
            "50/50 [==============================] - 0s 1ms/step - loss: 0.4245 - accuracy: 0.7933 - val_loss: 0.4331 - val_accuracy: 0.7788\n",
            "Epoch 39/100\n",
            "50/50 [==============================] - 0s 1ms/step - loss: 0.4246 - accuracy: 0.7899 - val_loss: 0.4315 - val_accuracy: 0.7842\n",
            "Epoch 40/100\n",
            "50/50 [==============================] - 0s 1ms/step - loss: 0.4240 - accuracy: 0.7915 - val_loss: 0.4325 - val_accuracy: 0.7734\n",
            "Epoch 41/100\n",
            "50/50 [==============================] - 0s 1ms/step - loss: 0.4239 - accuracy: 0.7919 - val_loss: 0.4322 - val_accuracy: 0.7806\n",
            "Epoch 42/100\n",
            "50/50 [==============================] - 0s 1ms/step - loss: 0.4238 - accuracy: 0.7931 - val_loss: 0.4323 - val_accuracy: 0.7806\n",
            "Epoch 43/100\n",
            "50/50 [==============================] - 0s 1ms/step - loss: 0.4234 - accuracy: 0.7921 - val_loss: 0.4330 - val_accuracy: 0.7752\n",
            "Epoch 44/100\n",
            "50/50 [==============================] - 0s 1ms/step - loss: 0.4235 - accuracy: 0.7931 - val_loss: 0.4337 - val_accuracy: 0.7752\n",
            "Epoch 45/100\n",
            "50/50 [==============================] - 0s 1ms/step - loss: 0.4232 - accuracy: 0.7925 - val_loss: 0.4325 - val_accuracy: 0.7752\n",
            "Epoch 46/100\n",
            "50/50 [==============================] - 0s 1ms/step - loss: 0.4228 - accuracy: 0.7925 - val_loss: 0.4320 - val_accuracy: 0.7842\n",
            "Epoch 47/100\n",
            "50/50 [==============================] - 0s 1ms/step - loss: 0.4226 - accuracy: 0.7937 - val_loss: 0.4333 - val_accuracy: 0.7734\n",
            "Epoch 48/100\n",
            "50/50 [==============================] - 0s 1ms/step - loss: 0.4227 - accuracy: 0.7927 - val_loss: 0.4315 - val_accuracy: 0.7878\n",
            "Epoch 49/100\n",
            "50/50 [==============================] - 0s 1ms/step - loss: 0.4232 - accuracy: 0.7909 - val_loss: 0.4317 - val_accuracy: 0.7842\n",
            "Epoch 50/100\n",
            "50/50 [==============================] - 0s 1ms/step - loss: 0.4223 - accuracy: 0.7929 - val_loss: 0.4320 - val_accuracy: 0.7878\n",
            "Epoch 51/100\n",
            "50/50 [==============================] - 0s 1ms/step - loss: 0.4225 - accuracy: 0.7937 - val_loss: 0.4318 - val_accuracy: 0.7878\n",
            "Epoch 52/100\n",
            "50/50 [==============================] - 0s 1ms/step - loss: 0.4219 - accuracy: 0.7913 - val_loss: 0.4330 - val_accuracy: 0.7752\n",
            "Epoch 53/100\n",
            "50/50 [==============================] - 0s 1ms/step - loss: 0.4220 - accuracy: 0.7945 - val_loss: 0.4339 - val_accuracy: 0.7734\n",
            "Epoch 54/100\n",
            "50/50 [==============================] - 0s 1ms/step - loss: 0.4223 - accuracy: 0.7917 - val_loss: 0.4322 - val_accuracy: 0.7806\n",
            "Epoch 55/100\n",
            "50/50 [==============================] - 0s 1ms/step - loss: 0.4216 - accuracy: 0.7907 - val_loss: 0.4334 - val_accuracy: 0.7734\n",
            "Epoch 56/100\n",
            "50/50 [==============================] - 0s 1ms/step - loss: 0.4218 - accuracy: 0.7925 - val_loss: 0.4334 - val_accuracy: 0.7770\n",
            "Epoch 57/100\n",
            "50/50 [==============================] - 0s 1ms/step - loss: 0.4212 - accuracy: 0.7917 - val_loss: 0.4314 - val_accuracy: 0.7878\n",
            "Epoch 58/100\n",
            "50/50 [==============================] - 0s 1ms/step - loss: 0.4211 - accuracy: 0.7931 - val_loss: 0.4320 - val_accuracy: 0.7824\n",
            "Epoch 59/100\n",
            "50/50 [==============================] - 0s 1ms/step - loss: 0.4212 - accuracy: 0.7943 - val_loss: 0.4328 - val_accuracy: 0.7788\n",
            "Epoch 60/100\n",
            "50/50 [==============================] - 0s 1ms/step - loss: 0.4209 - accuracy: 0.7939 - val_loss: 0.4311 - val_accuracy: 0.7860\n",
            "Epoch 61/100\n",
            "50/50 [==============================] - 0s 2ms/step - loss: 0.4205 - accuracy: 0.7923 - val_loss: 0.4328 - val_accuracy: 0.7788\n",
            "Epoch 62/100\n",
            "50/50 [==============================] - 0s 2ms/step - loss: 0.4208 - accuracy: 0.7933 - val_loss: 0.4331 - val_accuracy: 0.7788\n",
            "Epoch 63/100\n",
            "50/50 [==============================] - 0s 2ms/step - loss: 0.4205 - accuracy: 0.7913 - val_loss: 0.4330 - val_accuracy: 0.7788\n",
            "Epoch 64/100\n",
            "50/50 [==============================] - 0s 1ms/step - loss: 0.4200 - accuracy: 0.7947 - val_loss: 0.4318 - val_accuracy: 0.7878\n",
            "Epoch 65/100\n",
            "50/50 [==============================] - 0s 1ms/step - loss: 0.4210 - accuracy: 0.7923 - val_loss: 0.4315 - val_accuracy: 0.7842\n",
            "Epoch 66/100\n",
            "50/50 [==============================] - 0s 1ms/step - loss: 0.4195 - accuracy: 0.7943 - val_loss: 0.4345 - val_accuracy: 0.7752\n",
            "Epoch 67/100\n",
            "50/50 [==============================] - 0s 2ms/step - loss: 0.4201 - accuracy: 0.7921 - val_loss: 0.4321 - val_accuracy: 0.7824\n",
            "Epoch 68/100\n",
            "50/50 [==============================] - 0s 1ms/step - loss: 0.4196 - accuracy: 0.7923 - val_loss: 0.4332 - val_accuracy: 0.7770\n",
            "Epoch 69/100\n",
            "50/50 [==============================] - 0s 1ms/step - loss: 0.4198 - accuracy: 0.7925 - val_loss: 0.4320 - val_accuracy: 0.7824\n",
            "Epoch 70/100\n",
            "50/50 [==============================] - 0s 2ms/step - loss: 0.4196 - accuracy: 0.7899 - val_loss: 0.4319 - val_accuracy: 0.7806\n",
            "Epoch 71/100\n",
            "50/50 [==============================] - 0s 1ms/step - loss: 0.4198 - accuracy: 0.7925 - val_loss: 0.4325 - val_accuracy: 0.7806\n",
            "Epoch 72/100\n",
            "50/50 [==============================] - 0s 1ms/step - loss: 0.4191 - accuracy: 0.7935 - val_loss: 0.4329 - val_accuracy: 0.7824\n",
            "Epoch 73/100\n",
            "50/50 [==============================] - 0s 1ms/step - loss: 0.4189 - accuracy: 0.7919 - val_loss: 0.4326 - val_accuracy: 0.7806\n",
            "Epoch 74/100\n",
            "50/50 [==============================] - 0s 1ms/step - loss: 0.4188 - accuracy: 0.7957 - val_loss: 0.4350 - val_accuracy: 0.7752\n",
            "Epoch 75/100\n",
            "50/50 [==============================] - 0s 1ms/step - loss: 0.4190 - accuracy: 0.7931 - val_loss: 0.4329 - val_accuracy: 0.7860\n",
            "Epoch 76/100\n",
            "50/50 [==============================] - 0s 1ms/step - loss: 0.4185 - accuracy: 0.7951 - val_loss: 0.4322 - val_accuracy: 0.7806\n",
            "Epoch 77/100\n",
            "50/50 [==============================] - 0s 1ms/step - loss: 0.4193 - accuracy: 0.7917 - val_loss: 0.4320 - val_accuracy: 0.7878\n",
            "Epoch 78/100\n",
            "50/50 [==============================] - 0s 1ms/step - loss: 0.4187 - accuracy: 0.7923 - val_loss: 0.4340 - val_accuracy: 0.7824\n",
            "Epoch 79/100\n",
            "50/50 [==============================] - 0s 1ms/step - loss: 0.4183 - accuracy: 0.7947 - val_loss: 0.4329 - val_accuracy: 0.7806\n",
            "Epoch 80/100\n",
            "50/50 [==============================] - 0s 1ms/step - loss: 0.4180 - accuracy: 0.7939 - val_loss: 0.4356 - val_accuracy: 0.7752\n",
            "Epoch 81/100\n",
            "50/50 [==============================] - 0s 1ms/step - loss: 0.4186 - accuracy: 0.7945 - val_loss: 0.4341 - val_accuracy: 0.7770\n",
            "Epoch 82/100\n",
            "50/50 [==============================] - 0s 1ms/step - loss: 0.4183 - accuracy: 0.7903 - val_loss: 0.4333 - val_accuracy: 0.7806\n",
            "Epoch 83/100\n",
            "50/50 [==============================] - 0s 1ms/step - loss: 0.4182 - accuracy: 0.7945 - val_loss: 0.4340 - val_accuracy: 0.7806\n",
            "Epoch 84/100\n",
            "50/50 [==============================] - 0s 1ms/step - loss: 0.4183 - accuracy: 0.7951 - val_loss: 0.4335 - val_accuracy: 0.7788\n",
            "Epoch 85/100\n",
            "50/50 [==============================] - 0s 1ms/step - loss: 0.4180 - accuracy: 0.7959 - val_loss: 0.4324 - val_accuracy: 0.7806\n",
            "Epoch 86/100\n",
            "50/50 [==============================] - 0s 1ms/step - loss: 0.4178 - accuracy: 0.7923 - val_loss: 0.4334 - val_accuracy: 0.7788\n",
            "Epoch 87/100\n",
            "50/50 [==============================] - 0s 1ms/step - loss: 0.4180 - accuracy: 0.7951 - val_loss: 0.4352 - val_accuracy: 0.7788\n",
            "Epoch 88/100\n",
            "50/50 [==============================] - 0s 1ms/step - loss: 0.4179 - accuracy: 0.7911 - val_loss: 0.4350 - val_accuracy: 0.7788\n",
            "Epoch 89/100\n",
            "50/50 [==============================] - 0s 1ms/step - loss: 0.4176 - accuracy: 0.7945 - val_loss: 0.4329 - val_accuracy: 0.7896\n",
            "Epoch 90/100\n",
            "50/50 [==============================] - 0s 1ms/step - loss: 0.4173 - accuracy: 0.7933 - val_loss: 0.4331 - val_accuracy: 0.7842\n",
            "Epoch 91/100\n",
            "50/50 [==============================] - 0s 1ms/step - loss: 0.4175 - accuracy: 0.7943 - val_loss: 0.4330 - val_accuracy: 0.7860\n",
            "Epoch 92/100\n",
            "50/50 [==============================] - 0s 1ms/step - loss: 0.4174 - accuracy: 0.7915 - val_loss: 0.4344 - val_accuracy: 0.7770\n",
            "Epoch 93/100\n",
            "50/50 [==============================] - 0s 1ms/step - loss: 0.4167 - accuracy: 0.7965 - val_loss: 0.4341 - val_accuracy: 0.7878\n",
            "Epoch 94/100\n",
            "50/50 [==============================] - 0s 2ms/step - loss: 0.4180 - accuracy: 0.7933 - val_loss: 0.4335 - val_accuracy: 0.7842\n",
            "Epoch 95/100\n",
            "50/50 [==============================] - 0s 1ms/step - loss: 0.4177 - accuracy: 0.7943 - val_loss: 0.4325 - val_accuracy: 0.7824\n",
            "Epoch 96/100\n",
            "50/50 [==============================] - 0s 1ms/step - loss: 0.4170 - accuracy: 0.7949 - val_loss: 0.4338 - val_accuracy: 0.7824\n",
            "Epoch 97/100\n",
            "50/50 [==============================] - 0s 1ms/step - loss: 0.4167 - accuracy: 0.7951 - val_loss: 0.4344 - val_accuracy: 0.7752\n",
            "Epoch 98/100\n",
            "50/50 [==============================] - 0s 1ms/step - loss: 0.4166 - accuracy: 0.7957 - val_loss: 0.4339 - val_accuracy: 0.7806\n",
            "Epoch 99/100\n",
            "50/50 [==============================] - 0s 1ms/step - loss: 0.4166 - accuracy: 0.7937 - val_loss: 0.4344 - val_accuracy: 0.7788\n",
            "Epoch 100/100\n",
            "50/50 [==============================] - 0s 1ms/step - loss: 0.4166 - accuracy: 0.7939 - val_loss: 0.4340 - val_accuracy: 0.7842\n"
          ]
        }
      ],
      "source": [
        "history = model.fit(X_train_final, y_train, epochs=100, batch_size=100, validation_data=(X_val_final, y_val))"
      ]
    },
    {
      "cell_type": "code",
      "execution_count": 68,
      "metadata": {
        "colab": {
          "base_uri": "https://localhost:8080/",
          "height": 363
        },
        "id": "M2g6R9rs_uzK",
        "outputId": "a4905ea3-fa4a-43c6-b251-a30bb0f2ad95"
      },
      "outputs": [
        {
          "data": {
            "text/html": [
              "<div>\n",
              "<style scoped>\n",
              "    .dataframe tbody tr th:only-of-type {\n",
              "        vertical-align: middle;\n",
              "    }\n",
              "\n",
              "    .dataframe tbody tr th {\n",
              "        vertical-align: top;\n",
              "    }\n",
              "\n",
              "    .dataframe thead th {\n",
              "        text-align: right;\n",
              "    }\n",
              "</style>\n",
              "<table border=\"1\" class=\"dataframe\">\n",
              "  <thead>\n",
              "    <tr style=\"text-align: right;\">\n",
              "      <th></th>\n",
              "      <th>loss</th>\n",
              "      <th>accuracy</th>\n",
              "      <th>val_loss</th>\n",
              "      <th>val_accuracy</th>\n",
              "    </tr>\n",
              "  </thead>\n",
              "  <tbody>\n",
              "    <tr>\n",
              "      <th>0</th>\n",
              "      <td>0.772019</td>\n",
              "      <td>0.464586</td>\n",
              "      <td>0.638489</td>\n",
              "      <td>0.618705</td>\n",
              "    </tr>\n",
              "    <tr>\n",
              "      <th>1</th>\n",
              "      <td>0.583293</td>\n",
              "      <td>0.700080</td>\n",
              "      <td>0.530234</td>\n",
              "      <td>0.726619</td>\n",
              "    </tr>\n",
              "    <tr>\n",
              "      <th>2</th>\n",
              "      <td>0.517092</td>\n",
              "      <td>0.734494</td>\n",
              "      <td>0.483843</td>\n",
              "      <td>0.741007</td>\n",
              "    </tr>\n",
              "    <tr>\n",
              "      <th>3</th>\n",
              "      <td>0.482635</td>\n",
              "      <td>0.747299</td>\n",
              "      <td>0.455680</td>\n",
              "      <td>0.757194</td>\n",
              "    </tr>\n",
              "    <tr>\n",
              "      <th>4</th>\n",
              "      <td>0.461542</td>\n",
              "      <td>0.776110</td>\n",
              "      <td>0.441277</td>\n",
              "      <td>0.776978</td>\n",
              "    </tr>\n",
              "    <tr>\n",
              "      <th>5</th>\n",
              "      <td>0.450057</td>\n",
              "      <td>0.781713</td>\n",
              "      <td>0.434967</td>\n",
              "      <td>0.778777</td>\n",
              "    </tr>\n",
              "    <tr>\n",
              "      <th>6</th>\n",
              "      <td>0.443435</td>\n",
              "      <td>0.782113</td>\n",
              "      <td>0.431983</td>\n",
              "      <td>0.784173</td>\n",
              "    </tr>\n",
              "    <tr>\n",
              "      <th>7</th>\n",
              "      <td>0.439508</td>\n",
              "      <td>0.784914</td>\n",
              "      <td>0.432181</td>\n",
              "      <td>0.784173</td>\n",
              "    </tr>\n",
              "    <tr>\n",
              "      <th>8</th>\n",
              "      <td>0.436643</td>\n",
              "      <td>0.787315</td>\n",
              "      <td>0.431210</td>\n",
              "      <td>0.782374</td>\n",
              "    </tr>\n",
              "    <tr>\n",
              "      <th>9</th>\n",
              "      <td>0.434634</td>\n",
              "      <td>0.785914</td>\n",
              "      <td>0.434433</td>\n",
              "      <td>0.780576</td>\n",
              "    </tr>\n",
              "  </tbody>\n",
              "</table>\n",
              "</div>"
            ],
            "text/plain": [
              "       loss  accuracy  val_loss  val_accuracy\n",
              "0  0.772019  0.464586  0.638489      0.618705\n",
              "1  0.583293  0.700080  0.530234      0.726619\n",
              "2  0.517092  0.734494  0.483843      0.741007\n",
              "3  0.482635  0.747299  0.455680      0.757194\n",
              "4  0.461542  0.776110  0.441277      0.776978\n",
              "5  0.450057  0.781713  0.434967      0.778777\n",
              "6  0.443435  0.782113  0.431983      0.784173\n",
              "7  0.439508  0.784914  0.432181      0.784173\n",
              "8  0.436643  0.787315  0.431210      0.782374\n",
              "9  0.434634  0.785914  0.434433      0.780576"
            ]
          },
          "execution_count": 68,
          "metadata": {},
          "output_type": "execute_result"
        }
      ],
      "source": [
        "metrics = pd.DataFrame(history.history)\n",
        "metrics.head(10)"
      ]
    },
    {
      "cell_type": "code",
      "execution_count": 69,
      "metadata": {
        "colab": {
          "base_uri": "https://localhost:8080/",
          "height": 485
        },
        "id": "Fx7mun_1_-eu",
        "outputId": "58c09048-3341-49fd-fd0d-7c4145d0b158"
      },
      "outputs": [
        {
          "data": {
            "image/png": "[encoded data removed]",
            "text/plain": [
              "<Figure size 1296x576 with 1 Axes>"
            ]
          },
          "metadata": {},
          "output_type": "display_data"
        }
      ],
      "source": [
        "metrics[['loss','val_loss']].plot();"
      ]
    },
    {
      "cell_type": "code",
      "execution_count": 70,
      "metadata": {
        "id": "GlgpfXymB8dx"
      },
      "outputs": [],
      "source": [
        "y_pred = model.predict(X_test_final)\n",
        "y_pred = np.where(y_pred < 0.5, 0, 1).squeeze()"
      ]
    },
    {
      "cell_type": "code",
      "execution_count": 71,
      "metadata": {
        "colab": {
          "base_uri": "https://localhost:8080/"
        },
        "id": "s1JdERZmCiCI",
        "outputId": "47f14575-c7de-4b81-c683-ce85aef745af"
      },
      "outputs": [
        {
          "name": "stdout",
          "output_type": "stream",
          "text": [
            "              precision    recall  f1-score   support\n",
            "\n",
            "           0       0.84      0.87      0.85      1022\n",
            "           1       0.59      0.52      0.56       367\n",
            "\n",
            "    accuracy                           0.78      1389\n",
            "   macro avg       0.72      0.70      0.70      1389\n",
            "weighted avg       0.77      0.78      0.77      1389\n",
            "\n"
          ]
        }
      ],
      "source": [
        "print(classification_report(y_test, y_pred))"
      ]
    },
    {
      "cell_type": "code",
      "execution_count": 102,
      "metadata": {},
      "outputs": [],
      "source": [
        "evaluate_metric.loc[0] = ['Sequential Test', 0.78, 0.87]"
      ]
    },
    {
      "cell_type": "markdown",
      "metadata": {
        "id": "zcrsdE0Hm-4R"
      },
      "source": [
        "## 8.2. Model Evaluation dengan Functional API"
      ]
    },
    {
      "cell_type": "code",
      "execution_count": 73,
      "metadata": {
        "colab": {
          "base_uri": "https://localhost:8080/"
        },
        "id": "Mh8hc-ranERT",
        "outputId": "b118aaf4-590e-4906-ffd8-257bed867f32"
      },
      "outputs": [
        {
          "name": "stdout",
          "output_type": "stream",
          "text": [
            "Epoch 1/100\n",
            "50/50 [==============================] - 0s 3ms/step - loss: 0.6574 - accuracy: 0.7223 - val_loss: 0.5870 - val_accuracy: 0.7392\n",
            "Epoch 2/100\n",
            "50/50 [==============================] - 0s 1ms/step - loss: 0.5224 - accuracy: 0.7387 - val_loss: 0.4583 - val_accuracy: 0.7626\n",
            "Epoch 3/100\n",
            "50/50 [==============================] - 0s 1ms/step - loss: 0.4543 - accuracy: 0.7803 - val_loss: 0.4318 - val_accuracy: 0.7824\n",
            "Epoch 4/100\n",
            "50/50 [==============================] - 0s 1ms/step - loss: 0.4405 - accuracy: 0.7849 - val_loss: 0.4289 - val_accuracy: 0.7878\n",
            "Epoch 5/100\n",
            "50/50 [==============================] - 0s 1ms/step - loss: 0.4363 - accuracy: 0.7899 - val_loss: 0.4289 - val_accuracy: 0.7878\n",
            "Epoch 6/100\n",
            "50/50 [==============================] - 0s 1ms/step - loss: 0.4343 - accuracy: 0.7887 - val_loss: 0.4275 - val_accuracy: 0.7842\n",
            "Epoch 7/100\n",
            "50/50 [==============================] - 0s 1ms/step - loss: 0.4326 - accuracy: 0.7913 - val_loss: 0.4282 - val_accuracy: 0.7788\n",
            "Epoch 8/100\n",
            "50/50 [==============================] - 0s 1ms/step - loss: 0.4313 - accuracy: 0.7897 - val_loss: 0.4282 - val_accuracy: 0.7788\n",
            "Epoch 9/100\n",
            "50/50 [==============================] - 0s 1ms/step - loss: 0.4308 - accuracy: 0.7895 - val_loss: 0.4292 - val_accuracy: 0.7842\n",
            "Epoch 10/100\n",
            "50/50 [==============================] - 0s 1ms/step - loss: 0.4307 - accuracy: 0.7891 - val_loss: 0.4294 - val_accuracy: 0.7824\n",
            "Epoch 11/100\n",
            "50/50 [==============================] - 0s 1ms/step - loss: 0.4302 - accuracy: 0.7875 - val_loss: 0.4286 - val_accuracy: 0.7788\n",
            "Epoch 12/100\n",
            "50/50 [==============================] - 0s 1ms/step - loss: 0.4296 - accuracy: 0.7913 - val_loss: 0.4291 - val_accuracy: 0.7860\n",
            "Epoch 13/100\n",
            "50/50 [==============================] - 0s 1ms/step - loss: 0.4292 - accuracy: 0.7905 - val_loss: 0.4284 - val_accuracy: 0.7806\n",
            "Epoch 14/100\n",
            "50/50 [==============================] - 0s 1ms/step - loss: 0.4285 - accuracy: 0.7931 - val_loss: 0.4316 - val_accuracy: 0.7896\n",
            "Epoch 15/100\n",
            "50/50 [==============================] - 0s 1ms/step - loss: 0.4275 - accuracy: 0.7903 - val_loss: 0.4289 - val_accuracy: 0.7824\n",
            "Epoch 16/100\n",
            "50/50 [==============================] - 0s 1ms/step - loss: 0.4279 - accuracy: 0.7909 - val_loss: 0.4275 - val_accuracy: 0.7878\n",
            "Epoch 17/100\n",
            "50/50 [==============================] - 0s 1ms/step - loss: 0.4276 - accuracy: 0.7899 - val_loss: 0.4280 - val_accuracy: 0.7914\n",
            "Epoch 18/100\n",
            "50/50 [==============================] - 0s 1ms/step - loss: 0.4270 - accuracy: 0.7923 - val_loss: 0.4271 - val_accuracy: 0.7860\n",
            "Epoch 19/100\n",
            "50/50 [==============================] - 0s 1ms/step - loss: 0.4268 - accuracy: 0.7895 - val_loss: 0.4271 - val_accuracy: 0.7896\n",
            "Epoch 20/100\n",
            "50/50 [==============================] - 0s 1ms/step - loss: 0.4264 - accuracy: 0.7905 - val_loss: 0.4278 - val_accuracy: 0.7824\n",
            "Epoch 21/100\n",
            "50/50 [==============================] - 0s 1ms/step - loss: 0.4265 - accuracy: 0.7901 - val_loss: 0.4282 - val_accuracy: 0.7824\n",
            "Epoch 22/100\n",
            "50/50 [==============================] - 0s 1ms/step - loss: 0.4262 - accuracy: 0.7881 - val_loss: 0.4263 - val_accuracy: 0.7896\n",
            "Epoch 23/100\n",
            "50/50 [==============================] - 0s 1ms/step - loss: 0.4261 - accuracy: 0.7897 - val_loss: 0.4275 - val_accuracy: 0.7914\n",
            "Epoch 24/100\n",
            "50/50 [==============================] - 0s 1ms/step - loss: 0.4254 - accuracy: 0.7917 - val_loss: 0.4263 - val_accuracy: 0.7878\n",
            "Epoch 25/100\n",
            "50/50 [==============================] - 0s 1ms/step - loss: 0.4255 - accuracy: 0.7897 - val_loss: 0.4268 - val_accuracy: 0.7824\n",
            "Epoch 26/100\n",
            "50/50 [==============================] - 0s 1ms/step - loss: 0.4247 - accuracy: 0.7941 - val_loss: 0.4267 - val_accuracy: 0.7860\n",
            "Epoch 27/100\n",
            "50/50 [==============================] - 0s 1ms/step - loss: 0.4248 - accuracy: 0.7913 - val_loss: 0.4263 - val_accuracy: 0.7842\n",
            "Epoch 28/100\n",
            "50/50 [==============================] - 0s 1ms/step - loss: 0.4247 - accuracy: 0.7923 - val_loss: 0.4283 - val_accuracy: 0.7860\n",
            "Epoch 29/100\n",
            "50/50 [==============================] - 0s 1ms/step - loss: 0.4250 - accuracy: 0.7953 - val_loss: 0.4271 - val_accuracy: 0.7914\n",
            "Epoch 30/100\n",
            "50/50 [==============================] - 0s 1ms/step - loss: 0.4242 - accuracy: 0.7917 - val_loss: 0.4280 - val_accuracy: 0.7896\n",
            "Epoch 31/100\n",
            "50/50 [==============================] - 0s 1ms/step - loss: 0.4242 - accuracy: 0.7923 - val_loss: 0.4280 - val_accuracy: 0.7842\n",
            "Epoch 32/100\n",
            "50/50 [==============================] - 0s 1ms/step - loss: 0.4249 - accuracy: 0.7937 - val_loss: 0.4267 - val_accuracy: 0.7878\n",
            "Epoch 33/100\n",
            "50/50 [==============================] - 0s 2ms/step - loss: 0.4240 - accuracy: 0.7919 - val_loss: 0.4282 - val_accuracy: 0.7896\n",
            "Epoch 34/100\n",
            "50/50 [==============================] - 0s 2ms/step - loss: 0.4239 - accuracy: 0.7901 - val_loss: 0.4278 - val_accuracy: 0.7860\n",
            "Epoch 35/100\n",
            "50/50 [==============================] - 0s 2ms/step - loss: 0.4237 - accuracy: 0.7923 - val_loss: 0.4279 - val_accuracy: 0.7932\n",
            "Epoch 36/100\n",
            "50/50 [==============================] - 0s 2ms/step - loss: 0.4233 - accuracy: 0.7939 - val_loss: 0.4295 - val_accuracy: 0.7842\n",
            "Epoch 37/100\n",
            "50/50 [==============================] - 0s 1ms/step - loss: 0.4234 - accuracy: 0.7939 - val_loss: 0.4277 - val_accuracy: 0.7860\n",
            "Epoch 38/100\n",
            "50/50 [==============================] - 0s 1ms/step - loss: 0.4231 - accuracy: 0.7931 - val_loss: 0.4286 - val_accuracy: 0.7860\n",
            "Epoch 39/100\n",
            "50/50 [==============================] - 0s 1ms/step - loss: 0.4229 - accuracy: 0.7931 - val_loss: 0.4286 - val_accuracy: 0.7878\n",
            "Epoch 40/100\n",
            "50/50 [==============================] - 0s 1ms/step - loss: 0.4225 - accuracy: 0.7905 - val_loss: 0.4286 - val_accuracy: 0.7914\n",
            "Epoch 41/100\n",
            "50/50 [==============================] - 0s 2ms/step - loss: 0.4227 - accuracy: 0.7923 - val_loss: 0.4289 - val_accuracy: 0.7896\n",
            "Epoch 42/100\n",
            "50/50 [==============================] - 0s 1ms/step - loss: 0.4225 - accuracy: 0.7907 - val_loss: 0.4286 - val_accuracy: 0.7860\n",
            "Epoch 43/100\n",
            "50/50 [==============================] - 0s 1ms/step - loss: 0.4225 - accuracy: 0.7935 - val_loss: 0.4304 - val_accuracy: 0.7824\n",
            "Epoch 44/100\n",
            "50/50 [==============================] - 0s 1ms/step - loss: 0.4226 - accuracy: 0.7935 - val_loss: 0.4299 - val_accuracy: 0.7914\n",
            "Epoch 45/100\n",
            "50/50 [==============================] - 0s 1ms/step - loss: 0.4228 - accuracy: 0.7969 - val_loss: 0.4300 - val_accuracy: 0.7824\n",
            "Epoch 46/100\n",
            "50/50 [==============================] - 0s 2ms/step - loss: 0.4219 - accuracy: 0.7945 - val_loss: 0.4307 - val_accuracy: 0.7878\n",
            "Epoch 47/100\n",
            "50/50 [==============================] - 0s 1ms/step - loss: 0.4224 - accuracy: 0.7941 - val_loss: 0.4300 - val_accuracy: 0.7896\n",
            "Epoch 48/100\n",
            "50/50 [==============================] - 0s 2ms/step - loss: 0.4215 - accuracy: 0.7929 - val_loss: 0.4309 - val_accuracy: 0.7860\n",
            "Epoch 49/100\n",
            "50/50 [==============================] - 0s 2ms/step - loss: 0.4213 - accuracy: 0.7947 - val_loss: 0.4307 - val_accuracy: 0.7896\n",
            "Epoch 50/100\n",
            "50/50 [==============================] - 0s 2ms/step - loss: 0.4217 - accuracy: 0.7921 - val_loss: 0.4303 - val_accuracy: 0.7932\n",
            "Epoch 51/100\n",
            "50/50 [==============================] - 0s 2ms/step - loss: 0.4212 - accuracy: 0.7933 - val_loss: 0.4318 - val_accuracy: 0.7878\n",
            "Epoch 52/100\n",
            "50/50 [==============================] - 0s 2ms/step - loss: 0.4208 - accuracy: 0.7963 - val_loss: 0.4316 - val_accuracy: 0.7878\n",
            "Epoch 53/100\n",
            "50/50 [==============================] - 0s 1ms/step - loss: 0.4212 - accuracy: 0.7921 - val_loss: 0.4307 - val_accuracy: 0.7896\n",
            "Epoch 54/100\n",
            "50/50 [==============================] - 0s 2ms/step - loss: 0.4205 - accuracy: 0.7951 - val_loss: 0.4320 - val_accuracy: 0.7914\n",
            "Epoch 55/100\n",
            "50/50 [==============================] - 0s 2ms/step - loss: 0.4212 - accuracy: 0.7907 - val_loss: 0.4312 - val_accuracy: 0.7914\n",
            "Epoch 56/100\n",
            "50/50 [==============================] - 0s 2ms/step - loss: 0.4203 - accuracy: 0.7947 - val_loss: 0.4334 - val_accuracy: 0.7878\n",
            "Epoch 57/100\n",
            "50/50 [==============================] - 0s 2ms/step - loss: 0.4198 - accuracy: 0.7953 - val_loss: 0.4328 - val_accuracy: 0.7878\n",
            "Epoch 58/100\n",
            "50/50 [==============================] - 0s 2ms/step - loss: 0.4201 - accuracy: 0.7921 - val_loss: 0.4332 - val_accuracy: 0.7860\n",
            "Epoch 59/100\n",
            "50/50 [==============================] - 0s 1ms/step - loss: 0.4202 - accuracy: 0.7939 - val_loss: 0.4331 - val_accuracy: 0.7878\n",
            "Epoch 60/100\n",
            "50/50 [==============================] - 0s 1ms/step - loss: 0.4199 - accuracy: 0.7951 - val_loss: 0.4325 - val_accuracy: 0.7878\n",
            "Epoch 61/100\n",
            "50/50 [==============================] - 0s 2ms/step - loss: 0.4194 - accuracy: 0.7947 - val_loss: 0.4341 - val_accuracy: 0.7878\n",
            "Epoch 62/100\n",
            "50/50 [==============================] - 0s 1ms/step - loss: 0.4196 - accuracy: 0.7957 - val_loss: 0.4334 - val_accuracy: 0.7878\n",
            "Epoch 63/100\n",
            "50/50 [==============================] - 0s 1ms/step - loss: 0.4190 - accuracy: 0.7933 - val_loss: 0.4321 - val_accuracy: 0.7932\n",
            "Epoch 64/100\n",
            "50/50 [==============================] - 0s 1ms/step - loss: 0.4191 - accuracy: 0.7963 - val_loss: 0.4333 - val_accuracy: 0.7878\n",
            "Epoch 65/100\n",
            "50/50 [==============================] - 0s 1ms/step - loss: 0.4192 - accuracy: 0.7943 - val_loss: 0.4336 - val_accuracy: 0.7878\n",
            "Epoch 66/100\n",
            "50/50 [==============================] - 0s 1ms/step - loss: 0.4183 - accuracy: 0.7943 - val_loss: 0.4333 - val_accuracy: 0.7860\n",
            "Epoch 67/100\n",
            "50/50 [==============================] - 0s 1ms/step - loss: 0.4182 - accuracy: 0.7985 - val_loss: 0.4339 - val_accuracy: 0.7896\n",
            "Epoch 68/100\n",
            "50/50 [==============================] - 0s 1ms/step - loss: 0.4185 - accuracy: 0.7953 - val_loss: 0.4353 - val_accuracy: 0.7806\n",
            "Epoch 69/100\n",
            "50/50 [==============================] - 0s 1ms/step - loss: 0.4185 - accuracy: 0.7951 - val_loss: 0.4337 - val_accuracy: 0.7914\n",
            "Epoch 70/100\n",
            "50/50 [==============================] - 0s 1ms/step - loss: 0.4184 - accuracy: 0.7959 - val_loss: 0.4354 - val_accuracy: 0.7842\n",
            "Epoch 71/100\n",
            "50/50 [==============================] - 0s 2ms/step - loss: 0.4181 - accuracy: 0.7943 - val_loss: 0.4339 - val_accuracy: 0.7860\n",
            "Epoch 72/100\n",
            "50/50 [==============================] - 0s 2ms/step - loss: 0.4176 - accuracy: 0.7945 - val_loss: 0.4338 - val_accuracy: 0.7860\n",
            "Epoch 73/100\n",
            "50/50 [==============================] - 0s 2ms/step - loss: 0.4174 - accuracy: 0.7961 - val_loss: 0.4369 - val_accuracy: 0.7806\n",
            "Epoch 74/100\n",
            "50/50 [==============================] - 0s 2ms/step - loss: 0.4188 - accuracy: 0.7949 - val_loss: 0.4356 - val_accuracy: 0.7860\n",
            "Epoch 75/100\n",
            "50/50 [==============================] - 0s 2ms/step - loss: 0.4172 - accuracy: 0.7969 - val_loss: 0.4360 - val_accuracy: 0.7788\n",
            "Epoch 76/100\n",
            "50/50 [==============================] - 0s 2ms/step - loss: 0.4170 - accuracy: 0.7971 - val_loss: 0.4345 - val_accuracy: 0.7824\n",
            "Epoch 77/100\n",
            "50/50 [==============================] - 0s 2ms/step - loss: 0.4174 - accuracy: 0.7975 - val_loss: 0.4334 - val_accuracy: 0.7878\n",
            "Epoch 78/100\n",
            "50/50 [==============================] - 0s 2ms/step - loss: 0.4171 - accuracy: 0.7973 - val_loss: 0.4355 - val_accuracy: 0.7824\n",
            "Epoch 79/100\n",
            "50/50 [==============================] - 0s 2ms/step - loss: 0.4176 - accuracy: 0.7943 - val_loss: 0.4363 - val_accuracy: 0.7824\n",
            "Epoch 80/100\n",
            "50/50 [==============================] - 0s 2ms/step - loss: 0.4181 - accuracy: 0.7933 - val_loss: 0.4333 - val_accuracy: 0.7878\n",
            "Epoch 81/100\n",
            "50/50 [==============================] - 0s 2ms/step - loss: 0.4169 - accuracy: 0.7953 - val_loss: 0.4343 - val_accuracy: 0.7842\n",
            "Epoch 82/100\n",
            "50/50 [==============================] - 0s 1ms/step - loss: 0.4165 - accuracy: 0.7967 - val_loss: 0.4351 - val_accuracy: 0.7806\n",
            "Epoch 83/100\n",
            "50/50 [==============================] - 0s 1ms/step - loss: 0.4169 - accuracy: 0.7963 - val_loss: 0.4345 - val_accuracy: 0.7824\n",
            "Epoch 84/100\n",
            "50/50 [==============================] - 0s 1ms/step - loss: 0.4163 - accuracy: 0.7961 - val_loss: 0.4351 - val_accuracy: 0.7860\n",
            "Epoch 85/100\n",
            "50/50 [==============================] - 0s 1ms/step - loss: 0.4166 - accuracy: 0.7985 - val_loss: 0.4343 - val_accuracy: 0.7806\n",
            "Epoch 86/100\n",
            "50/50 [==============================] - 0s 1ms/step - loss: 0.4173 - accuracy: 0.7989 - val_loss: 0.4378 - val_accuracy: 0.7752\n",
            "Epoch 87/100\n",
            "50/50 [==============================] - 0s 1ms/step - loss: 0.4183 - accuracy: 0.7905 - val_loss: 0.4347 - val_accuracy: 0.7824\n",
            "Epoch 88/100\n",
            "50/50 [==============================] - 0s 1ms/step - loss: 0.4167 - accuracy: 0.7949 - val_loss: 0.4349 - val_accuracy: 0.7842\n",
            "Epoch 89/100\n",
            "50/50 [==============================] - 0s 1ms/step - loss: 0.4164 - accuracy: 0.7975 - val_loss: 0.4356 - val_accuracy: 0.7842\n",
            "Epoch 90/100\n",
            "50/50 [==============================] - 0s 1ms/step - loss: 0.4161 - accuracy: 0.7955 - val_loss: 0.4345 - val_accuracy: 0.7842\n",
            "Epoch 91/100\n",
            "50/50 [==============================] - 0s 1ms/step - loss: 0.4161 - accuracy: 0.7963 - val_loss: 0.4360 - val_accuracy: 0.7806\n",
            "Epoch 92/100\n",
            "50/50 [==============================] - 0s 1ms/step - loss: 0.4160 - accuracy: 0.7961 - val_loss: 0.4357 - val_accuracy: 0.7842\n",
            "Epoch 93/100\n",
            "50/50 [==============================] - 0s 1ms/step - loss: 0.4161 - accuracy: 0.7973 - val_loss: 0.4359 - val_accuracy: 0.7824\n",
            "Epoch 94/100\n",
            "50/50 [==============================] - 0s 1ms/step - loss: 0.4157 - accuracy: 0.7989 - val_loss: 0.4372 - val_accuracy: 0.7770\n",
            "Epoch 95/100\n",
            "50/50 [==============================] - 0s 1ms/step - loss: 0.4160 - accuracy: 0.7957 - val_loss: 0.4372 - val_accuracy: 0.7878\n",
            "Epoch 96/100\n",
            "50/50 [==============================] - 0s 1ms/step - loss: 0.4156 - accuracy: 0.7961 - val_loss: 0.4355 - val_accuracy: 0.7878\n",
            "Epoch 97/100\n",
            "50/50 [==============================] - 0s 1ms/step - loss: 0.4161 - accuracy: 0.7947 - val_loss: 0.4354 - val_accuracy: 0.7860\n",
            "Epoch 98/100\n",
            "50/50 [==============================] - 0s 1ms/step - loss: 0.4161 - accuracy: 0.7951 - val_loss: 0.4357 - val_accuracy: 0.7860\n",
            "Epoch 99/100\n",
            "50/50 [==============================] - 0s 1ms/step - loss: 0.4164 - accuracy: 0.7991 - val_loss: 0.4355 - val_accuracy: 0.7842\n",
            "Epoch 100/100\n",
            "50/50 [==============================] - 0s 1ms/step - loss: 0.4157 - accuracy: 0.7971 - val_loss: 0.4365 - val_accuracy: 0.7842\n"
          ]
        }
      ],
      "source": [
        "# Functional API\n",
        "history_2 = model_2.fit(X_train_final, y_train, epochs=100, batch_size=100, validation_data=(X_val_final, y_val))"
      ]
    },
    {
      "cell_type": "code",
      "execution_count": 74,
      "metadata": {
        "colab": {
          "base_uri": "https://localhost:8080/",
          "height": 363
        },
        "id": "GXLcNxj1ngii",
        "outputId": "8bce3a38-338b-4c70-e2de-29c32ffdcb12"
      },
      "outputs": [
        {
          "data": {
            "text/html": [
              "<div>\n",
              "<style scoped>\n",
              "    .dataframe tbody tr th:only-of-type {\n",
              "        vertical-align: middle;\n",
              "    }\n",
              "\n",
              "    .dataframe tbody tr th {\n",
              "        vertical-align: top;\n",
              "    }\n",
              "\n",
              "    .dataframe thead th {\n",
              "        text-align: right;\n",
              "    }\n",
              "</style>\n",
              "<table border=\"1\" class=\"dataframe\">\n",
              "  <thead>\n",
              "    <tr style=\"text-align: right;\">\n",
              "      <th></th>\n",
              "      <th>loss</th>\n",
              "      <th>accuracy</th>\n",
              "      <th>val_loss</th>\n",
              "      <th>val_accuracy</th>\n",
              "    </tr>\n",
              "  </thead>\n",
              "  <tbody>\n",
              "    <tr>\n",
              "      <th>0</th>\n",
              "      <td>0.657446</td>\n",
              "      <td>0.722289</td>\n",
              "      <td>0.586973</td>\n",
              "      <td>0.739209</td>\n",
              "    </tr>\n",
              "    <tr>\n",
              "      <th>1</th>\n",
              "      <td>0.522406</td>\n",
              "      <td>0.738696</td>\n",
              "      <td>0.458266</td>\n",
              "      <td>0.762590</td>\n",
              "    </tr>\n",
              "    <tr>\n",
              "      <th>2</th>\n",
              "      <td>0.454310</td>\n",
              "      <td>0.780312</td>\n",
              "      <td>0.431770</td>\n",
              "      <td>0.782374</td>\n",
              "    </tr>\n",
              "    <tr>\n",
              "      <th>3</th>\n",
              "      <td>0.440530</td>\n",
              "      <td>0.784914</td>\n",
              "      <td>0.428883</td>\n",
              "      <td>0.787770</td>\n",
              "    </tr>\n",
              "    <tr>\n",
              "      <th>4</th>\n",
              "      <td>0.436288</td>\n",
              "      <td>0.789916</td>\n",
              "      <td>0.428860</td>\n",
              "      <td>0.787770</td>\n",
              "    </tr>\n",
              "    <tr>\n",
              "      <th>5</th>\n",
              "      <td>0.434316</td>\n",
              "      <td>0.788715</td>\n",
              "      <td>0.427530</td>\n",
              "      <td>0.784173</td>\n",
              "    </tr>\n",
              "    <tr>\n",
              "      <th>6</th>\n",
              "      <td>0.432635</td>\n",
              "      <td>0.791317</td>\n",
              "      <td>0.428168</td>\n",
              "      <td>0.778777</td>\n",
              "    </tr>\n",
              "    <tr>\n",
              "      <th>7</th>\n",
              "      <td>0.431347</td>\n",
              "      <td>0.789716</td>\n",
              "      <td>0.428223</td>\n",
              "      <td>0.778777</td>\n",
              "    </tr>\n",
              "    <tr>\n",
              "      <th>8</th>\n",
              "      <td>0.430805</td>\n",
              "      <td>0.789516</td>\n",
              "      <td>0.429213</td>\n",
              "      <td>0.784173</td>\n",
              "    </tr>\n",
              "    <tr>\n",
              "      <th>9</th>\n",
              "      <td>0.430680</td>\n",
              "      <td>0.789116</td>\n",
              "      <td>0.429429</td>\n",
              "      <td>0.782374</td>\n",
              "    </tr>\n",
              "  </tbody>\n",
              "</table>\n",
              "</div>"
            ],
            "text/plain": [
              "       loss  accuracy  val_loss  val_accuracy\n",
              "0  0.657446  0.722289  0.586973      0.739209\n",
              "1  0.522406  0.738696  0.458266      0.762590\n",
              "2  0.454310  0.780312  0.431770      0.782374\n",
              "3  0.440530  0.784914  0.428883      0.787770\n",
              "4  0.436288  0.789916  0.428860      0.787770\n",
              "5  0.434316  0.788715  0.427530      0.784173\n",
              "6  0.432635  0.791317  0.428168      0.778777\n",
              "7  0.431347  0.789716  0.428223      0.778777\n",
              "8  0.430805  0.789516  0.429213      0.784173\n",
              "9  0.430680  0.789116  0.429429      0.782374"
            ]
          },
          "execution_count": 74,
          "metadata": {},
          "output_type": "execute_result"
        }
      ],
      "source": [
        "metrics_2 = pd.DataFrame(history_2.history)\n",
        "metrics_2.head(10)"
      ]
    },
    {
      "cell_type": "code",
      "execution_count": 75,
      "metadata": {
        "colab": {
          "base_uri": "https://localhost:8080/",
          "height": 485
        },
        "id": "8_lZljuaBai6",
        "outputId": "513eb890-3ba1-4288-b669-ada784addf6d"
      },
      "outputs": [
        {
          "data": {
            "image/png": "[encoded data removed]",
            "text/plain": [
              "<Figure size 1296x576 with 1 Axes>"
            ]
          },
          "metadata": {},
          "output_type": "display_data"
        }
      ],
      "source": [
        "metrics_2[['loss','val_loss']].plot();"
      ]
    },
    {
      "cell_type": "code",
      "execution_count": 76,
      "metadata": {
        "id": "-AbpWRuQnkYJ"
      },
      "outputs": [],
      "source": [
        "y_pred_2 = model_2.predict(X_test_final)\n",
        "y_pred_2 = np.where(y_pred_2 < 0.5, 0, 1).squeeze()"
      ]
    },
    {
      "cell_type": "code",
      "execution_count": 77,
      "metadata": {
        "colab": {
          "base_uri": "https://localhost:8080/"
        },
        "id": "i4f_H_hWnyKQ",
        "outputId": "1584959e-759a-45e7-da2f-cd3ac4a790a7"
      },
      "outputs": [
        {
          "name": "stdout",
          "output_type": "stream",
          "text": [
            "              precision    recall  f1-score   support\n",
            "\n",
            "           0       0.84      0.88      0.86      1022\n",
            "           1       0.62      0.53      0.57       367\n",
            "\n",
            "    accuracy                           0.79      1389\n",
            "   macro avg       0.73      0.71      0.72      1389\n",
            "weighted avg       0.78      0.79      0.78      1389\n",
            "\n"
          ]
        }
      ],
      "source": [
        "print(classification_report(y_test, y_pred_2))"
      ]
    },
    {
      "cell_type": "code",
      "execution_count": 103,
      "metadata": {},
      "outputs": [],
      "source": [
        "evaluate_metric.loc[1] = ['Functional Test', 0.79, 0.88]"
      ]
    },
    {
      "cell_type": "markdown",
      "metadata": {},
      "source": [
        "## 8.3. Using Data Pipeline in Model TensorFlow"
      ]
    },
    {
      "cell_type": "code",
      "execution_count": 79,
      "metadata": {},
      "outputs": [],
      "source": [
        "X_train_pipe = preprocessing.fit_transform(X_train)\n",
        "X_test_pipe = preprocessing.transform(X_test)\n",
        "X_val_pipe = preprocessing.transform(X_val)"
      ]
    },
    {
      "cell_type": "code",
      "execution_count": 80,
      "metadata": {},
      "outputs": [
        {
          "name": "stdout",
          "output_type": "stream",
          "text": [
            "Epoch 1/100\n",
            "50/50 [==============================] - 0s 3ms/step - loss: 0.6622 - accuracy: 0.7265 - val_loss: 0.6135 - val_accuracy: 0.7392\n",
            "Epoch 2/100\n",
            "50/50 [==============================] - 0s 1ms/step - loss: 0.5871 - accuracy: 0.7351 - val_loss: 0.5247 - val_accuracy: 0.7392\n",
            "Epoch 3/100\n",
            "50/50 [==============================] - 0s 1ms/step - loss: 0.5453 - accuracy: 0.7379 - val_loss: 0.4811 - val_accuracy: 0.7392\n",
            "Epoch 4/100\n",
            "50/50 [==============================] - 0s 1ms/step - loss: 0.5146 - accuracy: 0.7499 - val_loss: 0.4568 - val_accuracy: 0.7716\n",
            "Epoch 5/100\n",
            "50/50 [==============================] - 0s 1ms/step - loss: 0.4984 - accuracy: 0.7575 - val_loss: 0.4495 - val_accuracy: 0.7770\n",
            "Epoch 6/100\n",
            "50/50 [==============================] - 0s 2ms/step - loss: 0.4968 - accuracy: 0.7465 - val_loss: 0.4479 - val_accuracy: 0.7770\n",
            "Epoch 7/100\n",
            "50/50 [==============================] - 0s 1ms/step - loss: 0.4925 - accuracy: 0.7613 - val_loss: 0.4465 - val_accuracy: 0.7788\n",
            "Epoch 8/100\n",
            "50/50 [==============================] - 0s 1ms/step - loss: 0.4902 - accuracy: 0.7547 - val_loss: 0.4436 - val_accuracy: 0.7716\n",
            "Epoch 9/100\n",
            "50/50 [==============================] - 0s 2ms/step - loss: 0.4801 - accuracy: 0.7591 - val_loss: 0.4416 - val_accuracy: 0.7770\n",
            "Epoch 10/100\n",
            "50/50 [==============================] - 0s 2ms/step - loss: 0.4742 - accuracy: 0.7587 - val_loss: 0.4405 - val_accuracy: 0.7824\n",
            "Epoch 11/100\n",
            "50/50 [==============================] - 0s 1ms/step - loss: 0.4837 - accuracy: 0.7685 - val_loss: 0.4427 - val_accuracy: 0.7806\n",
            "Epoch 12/100\n",
            "50/50 [==============================] - 0s 1ms/step - loss: 0.4803 - accuracy: 0.7649 - val_loss: 0.4397 - val_accuracy: 0.7788\n",
            "Epoch 13/100\n",
            "50/50 [==============================] - 0s 2ms/step - loss: 0.4764 - accuracy: 0.7605 - val_loss: 0.4393 - val_accuracy: 0.7824\n",
            "Epoch 14/100\n",
            "50/50 [==============================] - 0s 1ms/step - loss: 0.4760 - accuracy: 0.7613 - val_loss: 0.4390 - val_accuracy: 0.7842\n",
            "Epoch 15/100\n",
            "50/50 [==============================] - 0s 1ms/step - loss: 0.4709 - accuracy: 0.7653 - val_loss: 0.4375 - val_accuracy: 0.7842\n",
            "Epoch 16/100\n",
            "50/50 [==============================] - 0s 1ms/step - loss: 0.4738 - accuracy: 0.7643 - val_loss: 0.4369 - val_accuracy: 0.7842\n",
            "Epoch 17/100\n",
            "50/50 [==============================] - 0s 1ms/step - loss: 0.4771 - accuracy: 0.7669 - val_loss: 0.4369 - val_accuracy: 0.7842\n",
            "Epoch 18/100\n",
            "50/50 [==============================] - 0s 1ms/step - loss: 0.4755 - accuracy: 0.7633 - val_loss: 0.4369 - val_accuracy: 0.7932\n",
            "Epoch 19/100\n",
            "50/50 [==============================] - 0s 3ms/step - loss: 0.4693 - accuracy: 0.7607 - val_loss: 0.4360 - val_accuracy: 0.7896\n",
            "Epoch 20/100\n",
            "50/50 [==============================] - 0s 3ms/step - loss: 0.4812 - accuracy: 0.7597 - val_loss: 0.4367 - val_accuracy: 0.7932\n",
            "Epoch 21/100\n",
            "50/50 [==============================] - 0s 3ms/step - loss: 0.4739 - accuracy: 0.7713 - val_loss: 0.4367 - val_accuracy: 0.7842\n",
            "Epoch 22/100\n",
            "50/50 [==============================] - 0s 1ms/step - loss: 0.4703 - accuracy: 0.7739 - val_loss: 0.4365 - val_accuracy: 0.7896\n",
            "Epoch 23/100\n",
            "50/50 [==============================] - 0s 1ms/step - loss: 0.4673 - accuracy: 0.7675 - val_loss: 0.4350 - val_accuracy: 0.7896\n",
            "Epoch 24/100\n",
            "50/50 [==============================] - 0s 1ms/step - loss: 0.4646 - accuracy: 0.7667 - val_loss: 0.4352 - val_accuracy: 0.7932\n",
            "Epoch 25/100\n",
            "50/50 [==============================] - 0s 3ms/step - loss: 0.4735 - accuracy: 0.7641 - val_loss: 0.4355 - val_accuracy: 0.7878\n",
            "Epoch 26/100\n",
            "50/50 [==============================] - 0s 2ms/step - loss: 0.4683 - accuracy: 0.7693 - val_loss: 0.4353 - val_accuracy: 0.7932\n",
            "Epoch 27/100\n",
            "50/50 [==============================] - 0s 1ms/step - loss: 0.4695 - accuracy: 0.7703 - val_loss: 0.4353 - val_accuracy: 0.7950\n",
            "Epoch 28/100\n",
            "50/50 [==============================] - 0s 2ms/step - loss: 0.4730 - accuracy: 0.7587 - val_loss: 0.4354 - val_accuracy: 0.7860\n",
            "Epoch 29/100\n",
            "50/50 [==============================] - 0s 1ms/step - loss: 0.4718 - accuracy: 0.7661 - val_loss: 0.4358 - val_accuracy: 0.7878\n",
            "Epoch 30/100\n",
            "50/50 [==============================] - 0s 1ms/step - loss: 0.4660 - accuracy: 0.7699 - val_loss: 0.4351 - val_accuracy: 0.7914\n",
            "Epoch 31/100\n",
            "50/50 [==============================] - 0s 1ms/step - loss: 0.4620 - accuracy: 0.7717 - val_loss: 0.4347 - val_accuracy: 0.7914\n",
            "Epoch 32/100\n",
            "50/50 [==============================] - 0s 1ms/step - loss: 0.4678 - accuracy: 0.7645 - val_loss: 0.4346 - val_accuracy: 0.7932\n",
            "Epoch 33/100\n",
            "50/50 [==============================] - 0s 1ms/step - loss: 0.4675 - accuracy: 0.7705 - val_loss: 0.4347 - val_accuracy: 0.7950\n",
            "Epoch 34/100\n",
            "50/50 [==============================] - 0s 2ms/step - loss: 0.4654 - accuracy: 0.7667 - val_loss: 0.4346 - val_accuracy: 0.7950\n",
            "Epoch 35/100\n",
            "50/50 [==============================] - 0s 2ms/step - loss: 0.4697 - accuracy: 0.7645 - val_loss: 0.4354 - val_accuracy: 0.7950\n",
            "Epoch 36/100\n",
            "50/50 [==============================] - 0s 1ms/step - loss: 0.4653 - accuracy: 0.7607 - val_loss: 0.4348 - val_accuracy: 0.7932\n",
            "Epoch 37/100\n",
            "50/50 [==============================] - 0s 1ms/step - loss: 0.4648 - accuracy: 0.7651 - val_loss: 0.4346 - val_accuracy: 0.7914\n",
            "Epoch 38/100\n",
            "50/50 [==============================] - 0s 1ms/step - loss: 0.4628 - accuracy: 0.7697 - val_loss: 0.4345 - val_accuracy: 0.7950\n",
            "Epoch 39/100\n",
            "50/50 [==============================] - 0s 1ms/step - loss: 0.4692 - accuracy: 0.7611 - val_loss: 0.4349 - val_accuracy: 0.7932\n",
            "Epoch 40/100\n",
            "50/50 [==============================] - 0s 1ms/step - loss: 0.4680 - accuracy: 0.7661 - val_loss: 0.4348 - val_accuracy: 0.7806\n",
            "Epoch 41/100\n",
            "50/50 [==============================] - 0s 1ms/step - loss: 0.4677 - accuracy: 0.7679 - val_loss: 0.4350 - val_accuracy: 0.7842\n",
            "Epoch 42/100\n",
            "50/50 [==============================] - 0s 1ms/step - loss: 0.4650 - accuracy: 0.7675 - val_loss: 0.4347 - val_accuracy: 0.7914\n",
            "Epoch 43/100\n",
            "50/50 [==============================] - 0s 2ms/step - loss: 0.4789 - accuracy: 0.7667 - val_loss: 0.4358 - val_accuracy: 0.7878\n",
            "Epoch 44/100\n",
            "50/50 [==============================] - 0s 1ms/step - loss: 0.4645 - accuracy: 0.7687 - val_loss: 0.4351 - val_accuracy: 0.7896\n",
            "Epoch 45/100\n",
            "50/50 [==============================] - 0s 1ms/step - loss: 0.4656 - accuracy: 0.7681 - val_loss: 0.4347 - val_accuracy: 0.7842\n",
            "Epoch 46/100\n",
            "50/50 [==============================] - 0s 1ms/step - loss: 0.4614 - accuracy: 0.7675 - val_loss: 0.4352 - val_accuracy: 0.7824\n",
            "Epoch 47/100\n",
            "50/50 [==============================] - 0s 1ms/step - loss: 0.4621 - accuracy: 0.7685 - val_loss: 0.4347 - val_accuracy: 0.7914\n",
            "Epoch 48/100\n",
            "50/50 [==============================] - 0s 1ms/step - loss: 0.4666 - accuracy: 0.7647 - val_loss: 0.4352 - val_accuracy: 0.7878\n",
            "Epoch 49/100\n",
            "50/50 [==============================] - 0s 1ms/step - loss: 0.4636 - accuracy: 0.7711 - val_loss: 0.4353 - val_accuracy: 0.7914\n",
            "Epoch 50/100\n",
            "50/50 [==============================] - 0s 3ms/step - loss: 0.4690 - accuracy: 0.7711 - val_loss: 0.4351 - val_accuracy: 0.7914\n",
            "Epoch 51/100\n",
            "50/50 [==============================] - 0s 3ms/step - loss: 0.4635 - accuracy: 0.7705 - val_loss: 0.4348 - val_accuracy: 0.7914\n",
            "Epoch 52/100\n",
            "50/50 [==============================] - 0s 2ms/step - loss: 0.4672 - accuracy: 0.7655 - val_loss: 0.4359 - val_accuracy: 0.7878\n",
            "Epoch 53/100\n",
            "50/50 [==============================] - 0s 1ms/step - loss: 0.4646 - accuracy: 0.7617 - val_loss: 0.4349 - val_accuracy: 0.7932\n",
            "Epoch 54/100\n",
            "50/50 [==============================] - 0s 1ms/step - loss: 0.4682 - accuracy: 0.7681 - val_loss: 0.4363 - val_accuracy: 0.7932\n",
            "Epoch 55/100\n",
            "50/50 [==============================] - 0s 1ms/step - loss: 0.4624 - accuracy: 0.7645 - val_loss: 0.4355 - val_accuracy: 0.7914\n",
            "Epoch 56/100\n",
            "50/50 [==============================] - 0s 1ms/step - loss: 0.4647 - accuracy: 0.7699 - val_loss: 0.4346 - val_accuracy: 0.7878\n",
            "Epoch 57/100\n",
            "50/50 [==============================] - 0s 2ms/step - loss: 0.4700 - accuracy: 0.7665 - val_loss: 0.4358 - val_accuracy: 0.7806\n",
            "Epoch 58/100\n",
            "50/50 [==============================] - 0s 1ms/step - loss: 0.4682 - accuracy: 0.7619 - val_loss: 0.4349 - val_accuracy: 0.7860\n",
            "Epoch 59/100\n",
            "50/50 [==============================] - 0s 1ms/step - loss: 0.4648 - accuracy: 0.7621 - val_loss: 0.4353 - val_accuracy: 0.7842\n",
            "Epoch 60/100\n",
            "50/50 [==============================] - 0s 1ms/step - loss: 0.4665 - accuracy: 0.7661 - val_loss: 0.4360 - val_accuracy: 0.7950\n",
            "Epoch 61/100\n",
            "50/50 [==============================] - 0s 1ms/step - loss: 0.4574 - accuracy: 0.7697 - val_loss: 0.4355 - val_accuracy: 0.7914\n",
            "Epoch 62/100\n",
            "50/50 [==============================] - 0s 1ms/step - loss: 0.4660 - accuracy: 0.7699 - val_loss: 0.4356 - val_accuracy: 0.7932\n",
            "Epoch 63/100\n",
            "50/50 [==============================] - 0s 1ms/step - loss: 0.4693 - accuracy: 0.7607 - val_loss: 0.4353 - val_accuracy: 0.7860\n",
            "Epoch 64/100\n",
            "50/50 [==============================] - 0s 1ms/step - loss: 0.4607 - accuracy: 0.7663 - val_loss: 0.4351 - val_accuracy: 0.7896\n",
            "Epoch 65/100\n",
            "50/50 [==============================] - 0s 1ms/step - loss: 0.4699 - accuracy: 0.7655 - val_loss: 0.4346 - val_accuracy: 0.7842\n",
            "Epoch 66/100\n",
            "50/50 [==============================] - 0s 1ms/step - loss: 0.4669 - accuracy: 0.7693 - val_loss: 0.4357 - val_accuracy: 0.7878\n",
            "Epoch 67/100\n",
            "50/50 [==============================] - 0s 1ms/step - loss: 0.4647 - accuracy: 0.7629 - val_loss: 0.4350 - val_accuracy: 0.7878\n",
            "Epoch 68/100\n",
            "50/50 [==============================] - 0s 1ms/step - loss: 0.4663 - accuracy: 0.7681 - val_loss: 0.4347 - val_accuracy: 0.7968\n",
            "Epoch 69/100\n",
            "50/50 [==============================] - 0s 1ms/step - loss: 0.4653 - accuracy: 0.7659 - val_loss: 0.4346 - val_accuracy: 0.7878\n",
            "Epoch 70/100\n",
            "50/50 [==============================] - 0s 1ms/step - loss: 0.4619 - accuracy: 0.7691 - val_loss: 0.4346 - val_accuracy: 0.7914\n",
            "Epoch 71/100\n",
            "50/50 [==============================] - 0s 2ms/step - loss: 0.4654 - accuracy: 0.7659 - val_loss: 0.4354 - val_accuracy: 0.7932\n",
            "Epoch 72/100\n",
            "50/50 [==============================] - 0s 2ms/step - loss: 0.4639 - accuracy: 0.7671 - val_loss: 0.4337 - val_accuracy: 0.7842\n",
            "Epoch 73/100\n",
            "50/50 [==============================] - 0s 2ms/step - loss: 0.4651 - accuracy: 0.7661 - val_loss: 0.4345 - val_accuracy: 0.7950\n",
            "Epoch 74/100\n",
            "50/50 [==============================] - 0s 1ms/step - loss: 0.4637 - accuracy: 0.7655 - val_loss: 0.4339 - val_accuracy: 0.7932\n",
            "Epoch 75/100\n",
            "50/50 [==============================] - 0s 1ms/step - loss: 0.4650 - accuracy: 0.7679 - val_loss: 0.4336 - val_accuracy: 0.7878\n",
            "Epoch 76/100\n",
            "50/50 [==============================] - 0s 3ms/step - loss: 0.4586 - accuracy: 0.7675 - val_loss: 0.4347 - val_accuracy: 0.7950\n",
            "Epoch 77/100\n",
            "50/50 [==============================] - 0s 3ms/step - loss: 0.4672 - accuracy: 0.7683 - val_loss: 0.4352 - val_accuracy: 0.7878\n",
            "Epoch 78/100\n",
            "50/50 [==============================] - 0s 2ms/step - loss: 0.4622 - accuracy: 0.7707 - val_loss: 0.4349 - val_accuracy: 0.7878\n",
            "Epoch 79/100\n",
            "50/50 [==============================] - 0s 1ms/step - loss: 0.4665 - accuracy: 0.7687 - val_loss: 0.4355 - val_accuracy: 0.7932\n",
            "Epoch 80/100\n",
            "50/50 [==============================] - 0s 1ms/step - loss: 0.4636 - accuracy: 0.7665 - val_loss: 0.4352 - val_accuracy: 0.7896\n",
            "Epoch 81/100\n",
            "50/50 [==============================] - 0s 1ms/step - loss: 0.4681 - accuracy: 0.7623 - val_loss: 0.4353 - val_accuracy: 0.7842\n",
            "Epoch 82/100\n",
            "50/50 [==============================] - 0s 2ms/step - loss: 0.4650 - accuracy: 0.7673 - val_loss: 0.4336 - val_accuracy: 0.7914\n",
            "Epoch 83/100\n",
            "50/50 [==============================] - 0s 2ms/step - loss: 0.4670 - accuracy: 0.7705 - val_loss: 0.4343 - val_accuracy: 0.7878\n",
            "Epoch 84/100\n",
            "50/50 [==============================] - 0s 2ms/step - loss: 0.4525 - accuracy: 0.7731 - val_loss: 0.4335 - val_accuracy: 0.7950\n",
            "Epoch 85/100\n",
            "50/50 [==============================] - 0s 1ms/step - loss: 0.4684 - accuracy: 0.7677 - val_loss: 0.4350 - val_accuracy: 0.7896\n",
            "Epoch 86/100\n",
            "50/50 [==============================] - 0s 1ms/step - loss: 0.4587 - accuracy: 0.7725 - val_loss: 0.4341 - val_accuracy: 0.7932\n",
            "Epoch 87/100\n",
            "50/50 [==============================] - 0s 1ms/step - loss: 0.4619 - accuracy: 0.7623 - val_loss: 0.4339 - val_accuracy: 0.7932\n",
            "Epoch 88/100\n",
            "50/50 [==============================] - 0s 1ms/step - loss: 0.4606 - accuracy: 0.7613 - val_loss: 0.4340 - val_accuracy: 0.7896\n",
            "Epoch 89/100\n",
            "50/50 [==============================] - 0s 1ms/step - loss: 0.4666 - accuracy: 0.7683 - val_loss: 0.4337 - val_accuracy: 0.7896\n",
            "Epoch 90/100\n",
            "50/50 [==============================] - 0s 1ms/step - loss: 0.4655 - accuracy: 0.7621 - val_loss: 0.4340 - val_accuracy: 0.7878\n",
            "Epoch 91/100\n",
            "50/50 [==============================] - 0s 1ms/step - loss: 0.4672 - accuracy: 0.7619 - val_loss: 0.4353 - val_accuracy: 0.7842\n",
            "Epoch 92/100\n",
            "50/50 [==============================] - 0s 1ms/step - loss: 0.4642 - accuracy: 0.7645 - val_loss: 0.4343 - val_accuracy: 0.7914\n",
            "Epoch 93/100\n",
            "50/50 [==============================] - 0s 1ms/step - loss: 0.4622 - accuracy: 0.7609 - val_loss: 0.4344 - val_accuracy: 0.7788\n",
            "Epoch 94/100\n",
            "50/50 [==============================] - 0s 1ms/step - loss: 0.4690 - accuracy: 0.7615 - val_loss: 0.4346 - val_accuracy: 0.7752\n",
            "Epoch 95/100\n",
            "50/50 [==============================] - 0s 1ms/step - loss: 0.4664 - accuracy: 0.7661 - val_loss: 0.4352 - val_accuracy: 0.7878\n",
            "Epoch 96/100\n",
            "50/50 [==============================] - 0s 1ms/step - loss: 0.4596 - accuracy: 0.7691 - val_loss: 0.4356 - val_accuracy: 0.7896\n",
            "Epoch 97/100\n",
            "50/50 [==============================] - 0s 1ms/step - loss: 0.4648 - accuracy: 0.7651 - val_loss: 0.4356 - val_accuracy: 0.7860\n",
            "Epoch 98/100\n",
            "50/50 [==============================] - 0s 2ms/step - loss: 0.4604 - accuracy: 0.7657 - val_loss: 0.4356 - val_accuracy: 0.7842\n",
            "Epoch 99/100\n",
            "50/50 [==============================] - 0s 1ms/step - loss: 0.4661 - accuracy: 0.7651 - val_loss: 0.4352 - val_accuracy: 0.7860\n",
            "Epoch 100/100\n",
            "50/50 [==============================] - 0s 1ms/step - loss: 0.4622 - accuracy: 0.7719 - val_loss: 0.4352 - val_accuracy: 0.7932\n",
            "\n",
            "Evaluate on test data\n",
            "14/14 [==============================] - 0s 921us/step - loss: 0.4498 - accuracy: 0.7703\n",
            "Test - Loss     :  0.4497565031051636\n",
            "Test - Accuracy :  0.7703383564949036\n",
            "\n"
          ]
        }
      ],
      "source": [
        "# Train-set\n",
        "train_df = tf.data.Dataset.from_tensor_slices((X_train_pipe, y_train))\n",
        "\n",
        "## Shuffle and slice train dataset\n",
        "train_df = train_df.shuffle(buffer_size=1024).batch(100)\n",
        "\n",
        "# Test-set\n",
        "test_df = tf.data.Dataset.from_tensor_slices((X_test_pipe, y_test))\n",
        "test_df = test_df.batch(100)\n",
        "\n",
        "# Validation-set\n",
        "val_df = tf.data.Dataset.from_tensor_slices((X_val_pipe, y_val))\n",
        "val_df = val_df.batch(100)\n",
        "\n",
        "# Create Model - using Sequential API\n",
        "model_pipe = Sequential()\n",
        "model_pipe.add(Dense(10, input_shape=(16,), kernel_initializer='RandomNormal', activation=\"relu\"))\n",
        "model_pipe.add(Dropout(0.5))\n",
        "model_pipe.add(Dense(10, kernel_initializer='RandomUniform', activation=\"relu\"))\n",
        "model_pipe.add(Dropout(0.5))\n",
        "model_pipe.add(Dense(1, activation=\"sigmoid\"))\n",
        "model_pipe.compile(optimizer = 'adam',\n",
        "              loss = 'binary_crossentropy',\n",
        "              metrics = ['accuracy'])\n",
        "\n",
        "# fit model\n",
        "history_pipe = model_pipe.fit(train_df,epochs=100, validation_data=val_df)\n",
        "\n",
        "## Evaluate on a dataset.\n",
        "print(\"\\nEvaluate on test data\")\n",
        "result = model_pipe.evaluate(test_df)\n",
        "print('Test - Loss     : ', result[0])\n",
        "print('Test - Accuracy : ', result[1])\n",
        "print('')"
      ]
    },
    {
      "cell_type": "code",
      "execution_count": 81,
      "metadata": {},
      "outputs": [
        {
          "data": {
            "text/html": [
              "<div>\n",
              "<style scoped>\n",
              "    .dataframe tbody tr th:only-of-type {\n",
              "        vertical-align: middle;\n",
              "    }\n",
              "\n",
              "    .dataframe tbody tr th {\n",
              "        vertical-align: top;\n",
              "    }\n",
              "\n",
              "    .dataframe thead th {\n",
              "        text-align: right;\n",
              "    }\n",
              "</style>\n",
              "<table border=\"1\" class=\"dataframe\">\n",
              "  <thead>\n",
              "    <tr style=\"text-align: right;\">\n",
              "      <th></th>\n",
              "      <th>loss</th>\n",
              "      <th>accuracy</th>\n",
              "      <th>val_loss</th>\n",
              "      <th>val_accuracy</th>\n",
              "    </tr>\n",
              "  </thead>\n",
              "  <tbody>\n",
              "    <tr>\n",
              "      <th>0</th>\n",
              "      <td>0.662187</td>\n",
              "      <td>0.726491</td>\n",
              "      <td>0.613499</td>\n",
              "      <td>0.739209</td>\n",
              "    </tr>\n",
              "    <tr>\n",
              "      <th>1</th>\n",
              "      <td>0.587145</td>\n",
              "      <td>0.735094</td>\n",
              "      <td>0.524670</td>\n",
              "      <td>0.739209</td>\n",
              "    </tr>\n",
              "    <tr>\n",
              "      <th>2</th>\n",
              "      <td>0.545259</td>\n",
              "      <td>0.737895</td>\n",
              "      <td>0.481112</td>\n",
              "      <td>0.739209</td>\n",
              "    </tr>\n",
              "    <tr>\n",
              "      <th>3</th>\n",
              "      <td>0.514633</td>\n",
              "      <td>0.749900</td>\n",
              "      <td>0.456781</td>\n",
              "      <td>0.771583</td>\n",
              "    </tr>\n",
              "    <tr>\n",
              "      <th>4</th>\n",
              "      <td>0.498374</td>\n",
              "      <td>0.757503</td>\n",
              "      <td>0.449523</td>\n",
              "      <td>0.776978</td>\n",
              "    </tr>\n",
              "    <tr>\n",
              "      <th>5</th>\n",
              "      <td>0.496826</td>\n",
              "      <td>0.746499</td>\n",
              "      <td>0.447899</td>\n",
              "      <td>0.776978</td>\n",
              "    </tr>\n",
              "    <tr>\n",
              "      <th>6</th>\n",
              "      <td>0.492545</td>\n",
              "      <td>0.761304</td>\n",
              "      <td>0.446469</td>\n",
              "      <td>0.778777</td>\n",
              "    </tr>\n",
              "    <tr>\n",
              "      <th>7</th>\n",
              "      <td>0.490171</td>\n",
              "      <td>0.754702</td>\n",
              "      <td>0.443650</td>\n",
              "      <td>0.771583</td>\n",
              "    </tr>\n",
              "    <tr>\n",
              "      <th>8</th>\n",
              "      <td>0.480077</td>\n",
              "      <td>0.759104</td>\n",
              "      <td>0.441613</td>\n",
              "      <td>0.776978</td>\n",
              "    </tr>\n",
              "    <tr>\n",
              "      <th>9</th>\n",
              "      <td>0.474249</td>\n",
              "      <td>0.758703</td>\n",
              "      <td>0.440509</td>\n",
              "      <td>0.782374</td>\n",
              "    </tr>\n",
              "  </tbody>\n",
              "</table>\n",
              "</div>"
            ],
            "text/plain": [
              "       loss  accuracy  val_loss  val_accuracy\n",
              "0  0.662187  0.726491  0.613499      0.739209\n",
              "1  0.587145  0.735094  0.524670      0.739209\n",
              "2  0.545259  0.737895  0.481112      0.739209\n",
              "3  0.514633  0.749900  0.456781      0.771583\n",
              "4  0.498374  0.757503  0.449523      0.776978\n",
              "5  0.496826  0.746499  0.447899      0.776978\n",
              "6  0.492545  0.761304  0.446469      0.778777\n",
              "7  0.490171  0.754702  0.443650      0.771583\n",
              "8  0.480077  0.759104  0.441613      0.776978\n",
              "9  0.474249  0.758703  0.440509      0.782374"
            ]
          },
          "execution_count": 81,
          "metadata": {},
          "output_type": "execute_result"
        }
      ],
      "source": [
        "metrics_pipe = pd.DataFrame(history_pipe.history)\n",
        "metrics_pipe.head(10)"
      ]
    },
    {
      "cell_type": "code",
      "execution_count": 82,
      "metadata": {},
      "outputs": [
        {
          "data": {
            "image/png": "[encoded data removed]",
            "text/plain": [
              "<Figure size 1296x576 with 1 Axes>"
            ]
          },
          "metadata": {},
          "output_type": "display_data"
        }
      ],
      "source": [
        "metrics_pipe[['loss', 'val_loss']].plot();"
      ]
    },
    {
      "cell_type": "code",
      "execution_count": 83,
      "metadata": {},
      "outputs": [],
      "source": [
        "y_pred_pipe = model_pipe.predict(X_test_pipe)\n",
        "y_pred_pipe = np.where(y_pred_pipe < 0.5, 0, 1).squeeze()"
      ]
    },
    {
      "cell_type": "code",
      "execution_count": 84,
      "metadata": {},
      "outputs": [
        {
          "name": "stdout",
          "output_type": "stream",
          "text": [
            "              precision    recall  f1-score   support\n",
            "\n",
            "           0       0.81      0.91      0.85      1022\n",
            "           1       0.60      0.39      0.47       367\n",
            "\n",
            "    accuracy                           0.77      1389\n",
            "   macro avg       0.70      0.65      0.66      1389\n",
            "weighted avg       0.75      0.77      0.75      1389\n",
            "\n"
          ]
        }
      ],
      "source": [
        "print(classification_report(y_test, y_pred_pipe))"
      ]
    },
    {
      "cell_type": "code",
      "execution_count": 104,
      "metadata": {},
      "outputs": [],
      "source": [
        "evaluate_metric.loc[2] = ['Sequential Test using Pipeline', 0.77, 0.91]"
      ]
    },
    {
      "cell_type": "code",
      "execution_count": 86,
      "metadata": {},
      "outputs": [
        {
          "data": {
            "image/png": "[encoded data removed]",
            "text/plain": [
              "<Figure size 1440x360 with 6 Axes>"
            ]
          },
          "metadata": {},
          "output_type": "display_data"
        }
      ],
      "source": [
        "plt.figure(figsize=(20,5))\n",
        "plt.subplot(1,3,1)\n",
        "test_matrix_1= confusion_matrix(y_test, y_pred)\n",
        "ax = sns.heatmap(test_matrix_1, annot=True, cmap='Blues', fmt='g', annot_kws={\"fontsize\":14})\n",
        "ax.set_xlabel('Predicted labels')\n",
        "ax.set_ylabel('Actual labels')\n",
        "ax.set_xticklabels([\"Negative\", \"Positive\"])\n",
        "ax.set_yticklabels([\"Negative\", \"Positive\"])\n",
        "plt.title(\"Sequential Improvement Test\")\n",
        "\n",
        "plt.subplot(1,3,2)\n",
        "test_matrix_2= confusion_matrix(y_test, y_pred_2)\n",
        "ax = sns.heatmap(test_matrix_2, annot=True, cmap='Blues', fmt='g', annot_kws={\"fontsize\":14})\n",
        "ax.set_xlabel('Predicted labels')\n",
        "ax.set_ylabel('Actual labels')\n",
        "ax.set_xticklabels([\"Negative\", \"Positive\"])\n",
        "ax.set_yticklabels([\"Negative\", \"Positive\"])\n",
        "plt.title(\"Functional Improvement Test\")\n",
        "\n",
        "plt.subplot(1,3,3)\n",
        "test_matrix_2= confusion_matrix(y_test, y_pred_pipe)\n",
        "ax = sns.heatmap(test_matrix_2, annot=True, cmap='Blues', fmt='g', annot_kws={\"fontsize\":14})\n",
        "ax.set_xlabel('Predicted labels')\n",
        "ax.set_ylabel('Actual labels')\n",
        "ax.set_xticklabels([\"Negative\", \"Positive\"])\n",
        "ax.set_yticklabels([\"Negative\", \"Positive\"])\n",
        "plt.title(\"Sequential Improvement Test Using Pipeline\")\n",
        "\n",
        "plt.show()"
      ]
    },
    {
      "cell_type": "code",
      "execution_count": 105,
      "metadata": {},
      "outputs": [
        {
          "data": {
            "text/html": [
              "<div>\n",
              "<style scoped>\n",
              "    .dataframe tbody tr th:only-of-type {\n",
              "        vertical-align: middle;\n",
              "    }\n",
              "\n",
              "    .dataframe tbody tr th {\n",
              "        vertical-align: top;\n",
              "    }\n",
              "\n",
              "    .dataframe thead th {\n",
              "        text-align: right;\n",
              "    }\n",
              "</style>\n",
              "<table border=\"1\" class=\"dataframe\">\n",
              "  <thead>\n",
              "    <tr style=\"text-align: right;\">\n",
              "      <th></th>\n",
              "      <th>Model</th>\n",
              "      <th>accuracy</th>\n",
              "      <th>recall (Class = No)</th>\n",
              "    </tr>\n",
              "  </thead>\n",
              "  <tbody>\n",
              "    <tr>\n",
              "      <th>0</th>\n",
              "      <td>Sequential Test</td>\n",
              "      <td>0.78</td>\n",
              "      <td>0.87</td>\n",
              "    </tr>\n",
              "    <tr>\n",
              "      <th>1</th>\n",
              "      <td>Functional Test</td>\n",
              "      <td>0.79</td>\n",
              "      <td>0.88</td>\n",
              "    </tr>\n",
              "    <tr>\n",
              "      <th>2</th>\n",
              "      <td>Sequential Test using Pipeline</td>\n",
              "      <td>0.77</td>\n",
              "      <td>0.91</td>\n",
              "    </tr>\n",
              "  </tbody>\n",
              "</table>\n",
              "</div>"
            ],
            "text/plain": [
              "                            Model  accuracy  recall (Class = No)\n",
              "0                 Sequential Test      0.78                 0.87\n",
              "1                 Functional Test      0.79                 0.88\n",
              "2  Sequential Test using Pipeline      0.77                 0.91"
            ]
          },
          "execution_count": 105,
          "metadata": {},
          "output_type": "execute_result"
        }
      ],
      "source": [
        "evaluate_metric"
      ]
    },
    {
      "cell_type": "markdown",
      "metadata": {},
      "source": [
        "Catatan : Tiap model memiliki perlakuan yang berbeda seperti menambahkan hidden layer, menambah hyperparameter, dll. Tidak ada perbedaan secara signifikan pada ketiga model yang telah dibuat, tujuannya hanya mencoba membuat model tensorflow dengan cara-cara yang berbeda (Sequential API dan Functional API)."
      ]
    },
    {
      "cell_type": "markdown",
      "metadata": {},
      "source": [
        "# 9. Model Saving\n",
        "Dengan melihat hasil evaluasi model, pilihlah model terbaik untuk disimpan. Model terbaik ini akan digunakan kembali dalam melakukan deployment di Heroku."
      ]
    },
    {
      "cell_type": "code",
      "execution_count": 88,
      "metadata": {},
      "outputs": [
        {
          "name": "stdout",
          "output_type": "stream",
          "text": [
            "Model saved!\n"
          ]
        }
      ],
      "source": [
        "# Simpan model tensorflow\n",
        "model_pipe.save('Model.h5')\n",
        "print('Model saved!')"
      ]
    },
    {
      "cell_type": "markdown",
      "metadata": {
        "id": "dJBBwnPNjBO8"
      },
      "source": [
        "# 10. Model Inference\n",
        "\n",
        "Model yang sudah dilatih akan dicoba pada data yang bukan termasuk ke dalam train-set ataupun test-set. Data ini harus dalam format yang asli, bukan data yang sudah di-scaled."
      ]
    },
    {
      "cell_type": "code",
      "execution_count": 89,
      "metadata": {
        "colab": {
          "base_uri": "https://localhost:8080/",
          "height": 661
        },
        "id": "pH7HBkJFZnaP",
        "outputId": "0c550964-3c1c-4dcc-b153-d14fed8e5ffe"
      },
      "outputs": [
        {
          "data": {
            "text/html": [
              "<div>\n",
              "<style scoped>\n",
              "    .dataframe tbody tr th:only-of-type {\n",
              "        vertical-align: middle;\n",
              "    }\n",
              "\n",
              "    .dataframe tbody tr th {\n",
              "        vertical-align: top;\n",
              "    }\n",
              "\n",
              "    .dataframe thead th {\n",
              "        text-align: right;\n",
              "    }\n",
              "</style>\n",
              "<table border=\"1\" class=\"dataframe\">\n",
              "  <thead>\n",
              "    <tr style=\"text-align: right;\">\n",
              "      <th></th>\n",
              "      <th>customerID</th>\n",
              "      <th>gender</th>\n",
              "      <th>SeniorCitizen</th>\n",
              "      <th>Partner</th>\n",
              "      <th>Dependents</th>\n",
              "      <th>tenure</th>\n",
              "      <th>PhoneService</th>\n",
              "      <th>MultipleLines</th>\n",
              "      <th>InternetService</th>\n",
              "      <th>OnlineSecurity</th>\n",
              "      <th>OnlineBackup</th>\n",
              "      <th>DeviceProtection</th>\n",
              "      <th>TechSupport</th>\n",
              "      <th>StreamingTV</th>\n",
              "      <th>StreamingMovies</th>\n",
              "      <th>Contract</th>\n",
              "      <th>PaperlessBilling</th>\n",
              "      <th>PaymentMethod</th>\n",
              "      <th>MonthlyCharges</th>\n",
              "      <th>TotalCharges</th>\n",
              "      <th>Churn</th>\n",
              "    </tr>\n",
              "  </thead>\n",
              "  <tbody>\n",
              "    <tr>\n",
              "      <th>0</th>\n",
              "      <td>8707-RMEZH</td>\n",
              "      <td>Female</td>\n",
              "      <td>Yes</td>\n",
              "      <td>Yes</td>\n",
              "      <td>No</td>\n",
              "      <td>69</td>\n",
              "      <td>Yes</td>\n",
              "      <td>No</td>\n",
              "      <td>Fiber optic</td>\n",
              "      <td>Yes</td>\n",
              "      <td>Yes</td>\n",
              "      <td>No</td>\n",
              "      <td>No</td>\n",
              "      <td>No</td>\n",
              "      <td>Yes</td>\n",
              "      <td>One year</td>\n",
              "      <td>No</td>\n",
              "      <td>Credit card (automatic)</td>\n",
              "      <td>87.30</td>\n",
              "      <td>6055.55</td>\n",
              "      <td>0</td>\n",
              "    </tr>\n",
              "    <tr>\n",
              "      <th>1</th>\n",
              "      <td>1216-BGTSP</td>\n",
              "      <td>Male</td>\n",
              "      <td>No</td>\n",
              "      <td>No</td>\n",
              "      <td>No</td>\n",
              "      <td>45</td>\n",
              "      <td>Yes</td>\n",
              "      <td>Yes</td>\n",
              "      <td>Fiber optic</td>\n",
              "      <td>Yes</td>\n",
              "      <td>No</td>\n",
              "      <td>Yes</td>\n",
              "      <td>Yes</td>\n",
              "      <td>Yes</td>\n",
              "      <td>Yes</td>\n",
              "      <td>Month-to-month</td>\n",
              "      <td>Yes</td>\n",
              "      <td>Credit card (automatic)</td>\n",
              "      <td>108.45</td>\n",
              "      <td>4964.70</td>\n",
              "      <td>0</td>\n",
              "    </tr>\n",
              "    <tr>\n",
              "      <th>2</th>\n",
              "      <td>5118-MUEYH</td>\n",
              "      <td>Female</td>\n",
              "      <td>No</td>\n",
              "      <td>Yes</td>\n",
              "      <td>No</td>\n",
              "      <td>48</td>\n",
              "      <td>Yes</td>\n",
              "      <td>Yes</td>\n",
              "      <td>Fiber optic</td>\n",
              "      <td>No</td>\n",
              "      <td>Yes</td>\n",
              "      <td>No</td>\n",
              "      <td>Yes</td>\n",
              "      <td>Yes</td>\n",
              "      <td>Yes</td>\n",
              "      <td>Month-to-month</td>\n",
              "      <td>Yes</td>\n",
              "      <td>Credit card (automatic)</td>\n",
              "      <td>105.10</td>\n",
              "      <td>5083.55</td>\n",
              "      <td>0</td>\n",
              "    </tr>\n",
              "    <tr>\n",
              "      <th>3</th>\n",
              "      <td>4821-SJHJV</td>\n",
              "      <td>Female</td>\n",
              "      <td>No</td>\n",
              "      <td>Yes</td>\n",
              "      <td>Yes</td>\n",
              "      <td>32</td>\n",
              "      <td>Yes</td>\n",
              "      <td>Yes</td>\n",
              "      <td>Fiber optic</td>\n",
              "      <td>Yes</td>\n",
              "      <td>No</td>\n",
              "      <td>No</td>\n",
              "      <td>No</td>\n",
              "      <td>Yes</td>\n",
              "      <td>No</td>\n",
              "      <td>Month-to-month</td>\n",
              "      <td>No</td>\n",
              "      <td>Electronic check</td>\n",
              "      <td>89.60</td>\n",
              "      <td>2901.80</td>\n",
              "      <td>0</td>\n",
              "    </tr>\n",
              "    <tr>\n",
              "      <th>4</th>\n",
              "      <td>8245-UMPYT</td>\n",
              "      <td>Female</td>\n",
              "      <td>Yes</td>\n",
              "      <td>No</td>\n",
              "      <td>No</td>\n",
              "      <td>16</td>\n",
              "      <td>Yes</td>\n",
              "      <td>Yes</td>\n",
              "      <td>Fiber optic</td>\n",
              "      <td>No</td>\n",
              "      <td>No</td>\n",
              "      <td>No</td>\n",
              "      <td>No</td>\n",
              "      <td>Yes</td>\n",
              "      <td>Yes</td>\n",
              "      <td>Month-to-month</td>\n",
              "      <td>Yes</td>\n",
              "      <td>Electronic check</td>\n",
              "      <td>96.40</td>\n",
              "      <td>1581.20</td>\n",
              "      <td>1</td>\n",
              "    </tr>\n",
              "    <tr>\n",
              "      <th>...</th>\n",
              "      <td>...</td>\n",
              "      <td>...</td>\n",
              "      <td>...</td>\n",
              "      <td>...</td>\n",
              "      <td>...</td>\n",
              "      <td>...</td>\n",
              "      <td>...</td>\n",
              "      <td>...</td>\n",
              "      <td>...</td>\n",
              "      <td>...</td>\n",
              "      <td>...</td>\n",
              "      <td>...</td>\n",
              "      <td>...</td>\n",
              "      <td>...</td>\n",
              "      <td>...</td>\n",
              "      <td>...</td>\n",
              "      <td>...</td>\n",
              "      <td>...</td>\n",
              "      <td>...</td>\n",
              "      <td>...</td>\n",
              "      <td>...</td>\n",
              "    </tr>\n",
              "    <tr>\n",
              "      <th>95</th>\n",
              "      <td>4094-NSEDU</td>\n",
              "      <td>Female</td>\n",
              "      <td>Yes</td>\n",
              "      <td>No</td>\n",
              "      <td>No</td>\n",
              "      <td>21</td>\n",
              "      <td>Yes</td>\n",
              "      <td>Yes</td>\n",
              "      <td>Fiber optic</td>\n",
              "      <td>No</td>\n",
              "      <td>No</td>\n",
              "      <td>No</td>\n",
              "      <td>No</td>\n",
              "      <td>Yes</td>\n",
              "      <td>Yes</td>\n",
              "      <td>Month-to-month</td>\n",
              "      <td>Yes</td>\n",
              "      <td>Electronic check</td>\n",
              "      <td>94.25</td>\n",
              "      <td>1973.75</td>\n",
              "      <td>1</td>\n",
              "    </tr>\n",
              "    <tr>\n",
              "      <th>96</th>\n",
              "      <td>5149-TGWDZ</td>\n",
              "      <td>Female</td>\n",
              "      <td>No</td>\n",
              "      <td>No</td>\n",
              "      <td>No</td>\n",
              "      <td>21</td>\n",
              "      <td>Yes</td>\n",
              "      <td>No</td>\n",
              "      <td>Fiber optic</td>\n",
              "      <td>No</td>\n",
              "      <td>Yes</td>\n",
              "      <td>Yes</td>\n",
              "      <td>Yes</td>\n",
              "      <td>Yes</td>\n",
              "      <td>Yes</td>\n",
              "      <td>One year</td>\n",
              "      <td>Yes</td>\n",
              "      <td>Mailed check</td>\n",
              "      <td>104.55</td>\n",
              "      <td>2239.40</td>\n",
              "      <td>0</td>\n",
              "    </tr>\n",
              "    <tr>\n",
              "      <th>97</th>\n",
              "      <td>3932-CMDTD</td>\n",
              "      <td>Female</td>\n",
              "      <td>No</td>\n",
              "      <td>No</td>\n",
              "      <td>No</td>\n",
              "      <td>4</td>\n",
              "      <td>Yes</td>\n",
              "      <td>No</td>\n",
              "      <td>Fiber optic</td>\n",
              "      <td>No</td>\n",
              "      <td>Yes</td>\n",
              "      <td>Yes</td>\n",
              "      <td>Yes</td>\n",
              "      <td>Yes</td>\n",
              "      <td>Yes</td>\n",
              "      <td>One year</td>\n",
              "      <td>Yes</td>\n",
              "      <td>Electronic check</td>\n",
              "      <td>105.65</td>\n",
              "      <td>443.90</td>\n",
              "      <td>1</td>\n",
              "    </tr>\n",
              "    <tr>\n",
              "      <th>98</th>\n",
              "      <td>4472-LVYGI</td>\n",
              "      <td>Female</td>\n",
              "      <td>No</td>\n",
              "      <td>Yes</td>\n",
              "      <td>Yes</td>\n",
              "      <td>0</td>\n",
              "      <td>No</td>\n",
              "      <td>No phone service</td>\n",
              "      <td>DSL</td>\n",
              "      <td>Yes</td>\n",
              "      <td>No</td>\n",
              "      <td>Yes</td>\n",
              "      <td>Yes</td>\n",
              "      <td>Yes</td>\n",
              "      <td>No</td>\n",
              "      <td>Two year</td>\n",
              "      <td>Yes</td>\n",
              "      <td>Bank transfer (automatic)</td>\n",
              "      <td>52.55</td>\n",
              "      <td>NaN</td>\n",
              "      <td>0</td>\n",
              "    </tr>\n",
              "    <tr>\n",
              "      <th>99</th>\n",
              "      <td>8496-DMZUK</td>\n",
              "      <td>Male</td>\n",
              "      <td>No</td>\n",
              "      <td>No</td>\n",
              "      <td>No</td>\n",
              "      <td>30</td>\n",
              "      <td>Yes</td>\n",
              "      <td>Yes</td>\n",
              "      <td>Fiber optic</td>\n",
              "      <td>Yes</td>\n",
              "      <td>Yes</td>\n",
              "      <td>Yes</td>\n",
              "      <td>No</td>\n",
              "      <td>No</td>\n",
              "      <td>No</td>\n",
              "      <td>One year</td>\n",
              "      <td>No</td>\n",
              "      <td>Bank transfer (automatic)</td>\n",
              "      <td>90.40</td>\n",
              "      <td>2820.65</td>\n",
              "      <td>0</td>\n",
              "    </tr>\n",
              "  </tbody>\n",
              "</table>\n",
              "<p>100 rows × 21 columns</p>\n",
              "</div>"
            ],
            "text/plain": [
              "    customerID  gender SeniorCitizen Partner Dependents  tenure PhoneService  \\\n",
              "0   8707-RMEZH  Female           Yes     Yes         No      69          Yes   \n",
              "1   1216-BGTSP    Male            No      No         No      45          Yes   \n",
              "2   5118-MUEYH  Female            No     Yes         No      48          Yes   \n",
              "3   4821-SJHJV  Female            No     Yes        Yes      32          Yes   \n",
              "4   8245-UMPYT  Female           Yes      No         No      16          Yes   \n",
              "..         ...     ...           ...     ...        ...     ...          ...   \n",
              "95  4094-NSEDU  Female           Yes      No         No      21          Yes   \n",
              "96  5149-TGWDZ  Female            No      No         No      21          Yes   \n",
              "97  3932-CMDTD  Female            No      No         No       4          Yes   \n",
              "98  4472-LVYGI  Female            No     Yes        Yes       0           No   \n",
              "99  8496-DMZUK    Male            No      No         No      30          Yes   \n",
              "\n",
              "       MultipleLines InternetService OnlineSecurity OnlineBackup  \\\n",
              "0                 No     Fiber optic            Yes          Yes   \n",
              "1                Yes     Fiber optic            Yes           No   \n",
              "2                Yes     Fiber optic             No          Yes   \n",
              "3                Yes     Fiber optic            Yes           No   \n",
              "4                Yes     Fiber optic             No           No   \n",
              "..               ...             ...            ...          ...   \n",
              "95               Yes     Fiber optic             No           No   \n",
              "96                No     Fiber optic             No          Yes   \n",
              "97                No     Fiber optic             No          Yes   \n",
              "98  No phone service             DSL            Yes           No   \n",
              "99               Yes     Fiber optic            Yes          Yes   \n",
              "\n",
              "   DeviceProtection TechSupport StreamingTV StreamingMovies        Contract  \\\n",
              "0                No          No          No             Yes        One year   \n",
              "1               Yes         Yes         Yes             Yes  Month-to-month   \n",
              "2                No         Yes         Yes             Yes  Month-to-month   \n",
              "3                No          No         Yes              No  Month-to-month   \n",
              "4                No          No         Yes             Yes  Month-to-month   \n",
              "..              ...         ...         ...             ...             ...   \n",
              "95               No          No         Yes             Yes  Month-to-month   \n",
              "96              Yes         Yes         Yes             Yes        One year   \n",
              "97              Yes         Yes         Yes             Yes        One year   \n",
              "98              Yes         Yes         Yes              No        Two year   \n",
              "99              Yes          No          No              No        One year   \n",
              "\n",
              "   PaperlessBilling              PaymentMethod  MonthlyCharges  TotalCharges  \\\n",
              "0                No    Credit card (automatic)           87.30       6055.55   \n",
              "1               Yes    Credit card (automatic)          108.45       4964.70   \n",
              "2               Yes    Credit card (automatic)          105.10       5083.55   \n",
              "3                No           Electronic check           89.60       2901.80   \n",
              "4               Yes           Electronic check           96.40       1581.20   \n",
              "..              ...                        ...             ...           ...   \n",
              "95              Yes           Electronic check           94.25       1973.75   \n",
              "96              Yes               Mailed check          104.55       2239.40   \n",
              "97              Yes           Electronic check          105.65        443.90   \n",
              "98              Yes  Bank transfer (automatic)           52.55           NaN   \n",
              "99               No  Bank transfer (automatic)           90.40       2820.65   \n",
              "\n",
              "    Churn  \n",
              "0       0  \n",
              "1       0  \n",
              "2       0  \n",
              "3       0  \n",
              "4       1  \n",
              "..    ...  \n",
              "95      1  \n",
              "96      0  \n",
              "97      1  \n",
              "98      0  \n",
              "99      0  \n",
              "\n",
              "[100 rows x 21 columns]"
            ]
          },
          "execution_count": 89,
          "metadata": {},
          "output_type": "execute_result"
        }
      ],
      "source": [
        "df_inf"
      ]
    },
    {
      "cell_type": "markdown",
      "metadata": {},
      "source": [
        "### Split Feature and Target - Inference dataset"
      ]
    },
    {
      "cell_type": "code",
      "execution_count": 90,
      "metadata": {},
      "outputs": [],
      "source": [
        "# Split X dan y\n",
        "X_inf = df_inf.drop(['Churn'], axis=1)\n",
        "y_inf = df_inf['Churn']"
      ]
    },
    {
      "cell_type": "markdown",
      "metadata": {},
      "source": [
        "### Missing Values - Inference dataset"
      ]
    },
    {
      "cell_type": "code",
      "execution_count": 91,
      "metadata": {},
      "outputs": [
        {
          "data": {
            "text/plain": [
              "customerID          0\n",
              "gender              0\n",
              "SeniorCitizen       0\n",
              "Partner             0\n",
              "Dependents          0\n",
              "tenure              0\n",
              "PhoneService        0\n",
              "MultipleLines       0\n",
              "InternetService     0\n",
              "OnlineSecurity      0\n",
              "OnlineBackup        0\n",
              "DeviceProtection    0\n",
              "TechSupport         0\n",
              "StreamingTV         0\n",
              "StreamingMovies     0\n",
              "Contract            0\n",
              "PaperlessBilling    0\n",
              "PaymentMethod       0\n",
              "MonthlyCharges      0\n",
              "TotalCharges        1\n",
              "dtype: int64"
            ]
          },
          "execution_count": 91,
          "metadata": {},
          "output_type": "execute_result"
        }
      ],
      "source": [
        "X_inf.isna().sum()"
      ]
    },
    {
      "cell_type": "code",
      "execution_count": 92,
      "metadata": {},
      "outputs": [],
      "source": [
        "# drop missing values\n",
        "X_inf.dropna(axis=0, inplace=True)"
      ]
    },
    {
      "cell_type": "markdown",
      "metadata": {},
      "source": [
        "### Feature Scaling and Encoding - Inference dataset"
      ]
    },
    {
      "cell_type": "code",
      "execution_count": 95,
      "metadata": {},
      "outputs": [],
      "source": [
        "X_inf_final = preprocessing.transform(X_inf)"
      ]
    },
    {
      "cell_type": "markdown",
      "metadata": {},
      "source": [
        "### Model Predict - Inference dataset"
      ]
    },
    {
      "cell_type": "markdown",
      "metadata": {},
      "source": [
        "Kami akan prediksi churn dengan menggunakan model dari data pipeline yang telah dibuat sebelumnya."
      ]
    },
    {
      "cell_type": "code",
      "execution_count": 96,
      "metadata": {},
      "outputs": [
        {
          "data": {
            "text/html": [
              "<div>\n",
              "<style scoped>\n",
              "    .dataframe tbody tr th:only-of-type {\n",
              "        vertical-align: middle;\n",
              "    }\n",
              "\n",
              "    .dataframe tbody tr th {\n",
              "        vertical-align: top;\n",
              "    }\n",
              "\n",
              "    .dataframe thead th {\n",
              "        text-align: right;\n",
              "    }\n",
              "</style>\n",
              "<table border=\"1\" class=\"dataframe\">\n",
              "  <thead>\n",
              "    <tr style=\"text-align: right;\">\n",
              "      <th></th>\n",
              "      <th>Churn - prediction</th>\n",
              "    </tr>\n",
              "  </thead>\n",
              "  <tbody>\n",
              "    <tr>\n",
              "      <th>0</th>\n",
              "      <td>No</td>\n",
              "    </tr>\n",
              "    <tr>\n",
              "      <th>1</th>\n",
              "      <td>No</td>\n",
              "    </tr>\n",
              "    <tr>\n",
              "      <th>2</th>\n",
              "      <td>No</td>\n",
              "    </tr>\n",
              "    <tr>\n",
              "      <th>3</th>\n",
              "      <td>No</td>\n",
              "    </tr>\n",
              "    <tr>\n",
              "      <th>4</th>\n",
              "      <td>Yes</td>\n",
              "    </tr>\n",
              "    <tr>\n",
              "      <th>...</th>\n",
              "      <td>...</td>\n",
              "    </tr>\n",
              "    <tr>\n",
              "      <th>94</th>\n",
              "      <td>No</td>\n",
              "    </tr>\n",
              "    <tr>\n",
              "      <th>95</th>\n",
              "      <td>Yes</td>\n",
              "    </tr>\n",
              "    <tr>\n",
              "      <th>96</th>\n",
              "      <td>No</td>\n",
              "    </tr>\n",
              "    <tr>\n",
              "      <th>97</th>\n",
              "      <td>No</td>\n",
              "    </tr>\n",
              "    <tr>\n",
              "      <th>98</th>\n",
              "      <td>No</td>\n",
              "    </tr>\n",
              "  </tbody>\n",
              "</table>\n",
              "<p>99 rows × 1 columns</p>\n",
              "</div>"
            ],
            "text/plain": [
              "   Churn - prediction\n",
              "0                  No\n",
              "1                  No\n",
              "2                  No\n",
              "3                  No\n",
              "4                 Yes\n",
              "..                ...\n",
              "94                 No\n",
              "95                Yes\n",
              "96                 No\n",
              "97                 No\n",
              "98                 No\n",
              "\n",
              "[99 rows x 1 columns]"
            ]
          },
          "execution_count": 96,
          "metadata": {},
          "output_type": "execute_result"
        }
      ],
      "source": [
        "# Predict\n",
        "\n",
        "y_pred_inf = model_pipe.predict(X_inf_final)\n",
        "y_pred_inf = np.where(y_pred_inf < 0.5, 0, 1).squeeze()\n",
        "y_pred_inf = pd.DataFrame(y_pred_inf, columns=['Churn - prediction'])\n",
        "y_pred_inf.replace({0 : 'No', 1 :'Yes'}, inplace=True)\n",
        "y_pred_inf"
      ]
    },
    {
      "cell_type": "code",
      "execution_count": 97,
      "metadata": {},
      "outputs": [
        {
          "data": {
            "text/html": [
              "<div>\n",
              "<style scoped>\n",
              "    .dataframe tbody tr th:only-of-type {\n",
              "        vertical-align: middle;\n",
              "    }\n",
              "\n",
              "    .dataframe tbody tr th {\n",
              "        vertical-align: top;\n",
              "    }\n",
              "\n",
              "    .dataframe thead th {\n",
              "        text-align: right;\n",
              "    }\n",
              "</style>\n",
              "<table border=\"1\" class=\"dataframe\">\n",
              "  <thead>\n",
              "    <tr style=\"text-align: right;\">\n",
              "      <th></th>\n",
              "      <th>customerID</th>\n",
              "      <th>gender</th>\n",
              "      <th>SeniorCitizen</th>\n",
              "      <th>Partner</th>\n",
              "      <th>Dependents</th>\n",
              "      <th>tenure</th>\n",
              "      <th>PhoneService</th>\n",
              "      <th>MultipleLines</th>\n",
              "      <th>InternetService</th>\n",
              "      <th>OnlineSecurity</th>\n",
              "      <th>OnlineBackup</th>\n",
              "      <th>DeviceProtection</th>\n",
              "      <th>TechSupport</th>\n",
              "      <th>StreamingTV</th>\n",
              "      <th>StreamingMovies</th>\n",
              "      <th>Contract</th>\n",
              "      <th>PaperlessBilling</th>\n",
              "      <th>PaymentMethod</th>\n",
              "      <th>MonthlyCharges</th>\n",
              "      <th>TotalCharges</th>\n",
              "      <th>Churn - prediction</th>\n",
              "    </tr>\n",
              "  </thead>\n",
              "  <tbody>\n",
              "    <tr>\n",
              "      <th>0</th>\n",
              "      <td>8707-RMEZH</td>\n",
              "      <td>Female</td>\n",
              "      <td>Yes</td>\n",
              "      <td>Yes</td>\n",
              "      <td>No</td>\n",
              "      <td>69.0</td>\n",
              "      <td>Yes</td>\n",
              "      <td>No</td>\n",
              "      <td>Fiber optic</td>\n",
              "      <td>Yes</td>\n",
              "      <td>Yes</td>\n",
              "      <td>No</td>\n",
              "      <td>No</td>\n",
              "      <td>No</td>\n",
              "      <td>Yes</td>\n",
              "      <td>One year</td>\n",
              "      <td>No</td>\n",
              "      <td>Credit card (automatic)</td>\n",
              "      <td>87.30</td>\n",
              "      <td>6055.55</td>\n",
              "      <td>No</td>\n",
              "    </tr>\n",
              "    <tr>\n",
              "      <th>1</th>\n",
              "      <td>1216-BGTSP</td>\n",
              "      <td>Male</td>\n",
              "      <td>No</td>\n",
              "      <td>No</td>\n",
              "      <td>No</td>\n",
              "      <td>45.0</td>\n",
              "      <td>Yes</td>\n",
              "      <td>Yes</td>\n",
              "      <td>Fiber optic</td>\n",
              "      <td>Yes</td>\n",
              "      <td>No</td>\n",
              "      <td>Yes</td>\n",
              "      <td>Yes</td>\n",
              "      <td>Yes</td>\n",
              "      <td>Yes</td>\n",
              "      <td>Month-to-month</td>\n",
              "      <td>Yes</td>\n",
              "      <td>Credit card (automatic)</td>\n",
              "      <td>108.45</td>\n",
              "      <td>4964.70</td>\n",
              "      <td>No</td>\n",
              "    </tr>\n",
              "    <tr>\n",
              "      <th>2</th>\n",
              "      <td>5118-MUEYH</td>\n",
              "      <td>Female</td>\n",
              "      <td>No</td>\n",
              "      <td>Yes</td>\n",
              "      <td>No</td>\n",
              "      <td>48.0</td>\n",
              "      <td>Yes</td>\n",
              "      <td>Yes</td>\n",
              "      <td>Fiber optic</td>\n",
              "      <td>No</td>\n",
              "      <td>Yes</td>\n",
              "      <td>No</td>\n",
              "      <td>Yes</td>\n",
              "      <td>Yes</td>\n",
              "      <td>Yes</td>\n",
              "      <td>Month-to-month</td>\n",
              "      <td>Yes</td>\n",
              "      <td>Credit card (automatic)</td>\n",
              "      <td>105.10</td>\n",
              "      <td>5083.55</td>\n",
              "      <td>No</td>\n",
              "    </tr>\n",
              "    <tr>\n",
              "      <th>3</th>\n",
              "      <td>4821-SJHJV</td>\n",
              "      <td>Female</td>\n",
              "      <td>No</td>\n",
              "      <td>Yes</td>\n",
              "      <td>Yes</td>\n",
              "      <td>32.0</td>\n",
              "      <td>Yes</td>\n",
              "      <td>Yes</td>\n",
              "      <td>Fiber optic</td>\n",
              "      <td>Yes</td>\n",
              "      <td>No</td>\n",
              "      <td>No</td>\n",
              "      <td>No</td>\n",
              "      <td>Yes</td>\n",
              "      <td>No</td>\n",
              "      <td>Month-to-month</td>\n",
              "      <td>No</td>\n",
              "      <td>Electronic check</td>\n",
              "      <td>89.60</td>\n",
              "      <td>2901.80</td>\n",
              "      <td>No</td>\n",
              "    </tr>\n",
              "    <tr>\n",
              "      <th>4</th>\n",
              "      <td>8245-UMPYT</td>\n",
              "      <td>Female</td>\n",
              "      <td>Yes</td>\n",
              "      <td>No</td>\n",
              "      <td>No</td>\n",
              "      <td>16.0</td>\n",
              "      <td>Yes</td>\n",
              "      <td>Yes</td>\n",
              "      <td>Fiber optic</td>\n",
              "      <td>No</td>\n",
              "      <td>No</td>\n",
              "      <td>No</td>\n",
              "      <td>No</td>\n",
              "      <td>Yes</td>\n",
              "      <td>Yes</td>\n",
              "      <td>Month-to-month</td>\n",
              "      <td>Yes</td>\n",
              "      <td>Electronic check</td>\n",
              "      <td>96.40</td>\n",
              "      <td>1581.20</td>\n",
              "      <td>Yes</td>\n",
              "    </tr>\n",
              "    <tr>\n",
              "      <th>...</th>\n",
              "      <td>...</td>\n",
              "      <td>...</td>\n",
              "      <td>...</td>\n",
              "      <td>...</td>\n",
              "      <td>...</td>\n",
              "      <td>...</td>\n",
              "      <td>...</td>\n",
              "      <td>...</td>\n",
              "      <td>...</td>\n",
              "      <td>...</td>\n",
              "      <td>...</td>\n",
              "      <td>...</td>\n",
              "      <td>...</td>\n",
              "      <td>...</td>\n",
              "      <td>...</td>\n",
              "      <td>...</td>\n",
              "      <td>...</td>\n",
              "      <td>...</td>\n",
              "      <td>...</td>\n",
              "      <td>...</td>\n",
              "      <td>...</td>\n",
              "    </tr>\n",
              "    <tr>\n",
              "      <th>93</th>\n",
              "      <td>0277-ORXQS</td>\n",
              "      <td>Male</td>\n",
              "      <td>No</td>\n",
              "      <td>Yes</td>\n",
              "      <td>Yes</td>\n",
              "      <td>66.0</td>\n",
              "      <td>No</td>\n",
              "      <td>No phone service</td>\n",
              "      <td>DSL</td>\n",
              "      <td>No</td>\n",
              "      <td>No</td>\n",
              "      <td>No</td>\n",
              "      <td>Yes</td>\n",
              "      <td>Yes</td>\n",
              "      <td>Yes</td>\n",
              "      <td>Two year</td>\n",
              "      <td>No</td>\n",
              "      <td>Bank transfer (automatic)</td>\n",
              "      <td>50.55</td>\n",
              "      <td>3364.55</td>\n",
              "      <td>No</td>\n",
              "    </tr>\n",
              "    <tr>\n",
              "      <th>94</th>\n",
              "      <td>0572-ZJKLT</td>\n",
              "      <td>Female</td>\n",
              "      <td>No</td>\n",
              "      <td>Yes</td>\n",
              "      <td>Yes</td>\n",
              "      <td>46.0</td>\n",
              "      <td>Yes</td>\n",
              "      <td>Yes</td>\n",
              "      <td>Fiber optic</td>\n",
              "      <td>Yes</td>\n",
              "      <td>No</td>\n",
              "      <td>Yes</td>\n",
              "      <td>Yes</td>\n",
              "      <td>No</td>\n",
              "      <td>Yes</td>\n",
              "      <td>Two year</td>\n",
              "      <td>No</td>\n",
              "      <td>Mailed check</td>\n",
              "      <td>99.65</td>\n",
              "      <td>4630.20</td>\n",
              "      <td>No</td>\n",
              "    </tr>\n",
              "    <tr>\n",
              "      <th>95</th>\n",
              "      <td>4094-NSEDU</td>\n",
              "      <td>Female</td>\n",
              "      <td>Yes</td>\n",
              "      <td>No</td>\n",
              "      <td>No</td>\n",
              "      <td>21.0</td>\n",
              "      <td>Yes</td>\n",
              "      <td>Yes</td>\n",
              "      <td>Fiber optic</td>\n",
              "      <td>No</td>\n",
              "      <td>No</td>\n",
              "      <td>No</td>\n",
              "      <td>No</td>\n",
              "      <td>Yes</td>\n",
              "      <td>Yes</td>\n",
              "      <td>Month-to-month</td>\n",
              "      <td>Yes</td>\n",
              "      <td>Electronic check</td>\n",
              "      <td>94.25</td>\n",
              "      <td>1973.75</td>\n",
              "      <td>Yes</td>\n",
              "    </tr>\n",
              "    <tr>\n",
              "      <th>96</th>\n",
              "      <td>5149-TGWDZ</td>\n",
              "      <td>Female</td>\n",
              "      <td>No</td>\n",
              "      <td>No</td>\n",
              "      <td>No</td>\n",
              "      <td>21.0</td>\n",
              "      <td>Yes</td>\n",
              "      <td>No</td>\n",
              "      <td>Fiber optic</td>\n",
              "      <td>No</td>\n",
              "      <td>Yes</td>\n",
              "      <td>Yes</td>\n",
              "      <td>Yes</td>\n",
              "      <td>Yes</td>\n",
              "      <td>Yes</td>\n",
              "      <td>One year</td>\n",
              "      <td>Yes</td>\n",
              "      <td>Mailed check</td>\n",
              "      <td>104.55</td>\n",
              "      <td>2239.40</td>\n",
              "      <td>No</td>\n",
              "    </tr>\n",
              "    <tr>\n",
              "      <th>97</th>\n",
              "      <td>3932-CMDTD</td>\n",
              "      <td>Female</td>\n",
              "      <td>No</td>\n",
              "      <td>No</td>\n",
              "      <td>No</td>\n",
              "      <td>4.0</td>\n",
              "      <td>Yes</td>\n",
              "      <td>No</td>\n",
              "      <td>Fiber optic</td>\n",
              "      <td>No</td>\n",
              "      <td>Yes</td>\n",
              "      <td>Yes</td>\n",
              "      <td>Yes</td>\n",
              "      <td>Yes</td>\n",
              "      <td>Yes</td>\n",
              "      <td>One year</td>\n",
              "      <td>Yes</td>\n",
              "      <td>Electronic check</td>\n",
              "      <td>105.65</td>\n",
              "      <td>443.90</td>\n",
              "      <td>No</td>\n",
              "    </tr>\n",
              "  </tbody>\n",
              "</table>\n",
              "<p>98 rows × 21 columns</p>\n",
              "</div>"
            ],
            "text/plain": [
              "    customerID  gender SeniorCitizen Partner Dependents  tenure PhoneService  \\\n",
              "0   8707-RMEZH  Female           Yes     Yes         No    69.0          Yes   \n",
              "1   1216-BGTSP    Male            No      No         No    45.0          Yes   \n",
              "2   5118-MUEYH  Female            No     Yes         No    48.0          Yes   \n",
              "3   4821-SJHJV  Female            No     Yes        Yes    32.0          Yes   \n",
              "4   8245-UMPYT  Female           Yes      No         No    16.0          Yes   \n",
              "..         ...     ...           ...     ...        ...     ...          ...   \n",
              "93  0277-ORXQS    Male            No     Yes        Yes    66.0           No   \n",
              "94  0572-ZJKLT  Female            No     Yes        Yes    46.0          Yes   \n",
              "95  4094-NSEDU  Female           Yes      No         No    21.0          Yes   \n",
              "96  5149-TGWDZ  Female            No      No         No    21.0          Yes   \n",
              "97  3932-CMDTD  Female            No      No         No     4.0          Yes   \n",
              "\n",
              "       MultipleLines InternetService OnlineSecurity OnlineBackup  \\\n",
              "0                 No     Fiber optic            Yes          Yes   \n",
              "1                Yes     Fiber optic            Yes           No   \n",
              "2                Yes     Fiber optic             No          Yes   \n",
              "3                Yes     Fiber optic            Yes           No   \n",
              "4                Yes     Fiber optic             No           No   \n",
              "..               ...             ...            ...          ...   \n",
              "93  No phone service             DSL             No           No   \n",
              "94               Yes     Fiber optic            Yes           No   \n",
              "95               Yes     Fiber optic             No           No   \n",
              "96                No     Fiber optic             No          Yes   \n",
              "97                No     Fiber optic             No          Yes   \n",
              "\n",
              "   DeviceProtection TechSupport StreamingTV StreamingMovies        Contract  \\\n",
              "0                No          No          No             Yes        One year   \n",
              "1               Yes         Yes         Yes             Yes  Month-to-month   \n",
              "2                No         Yes         Yes             Yes  Month-to-month   \n",
              "3                No          No         Yes              No  Month-to-month   \n",
              "4                No          No         Yes             Yes  Month-to-month   \n",
              "..              ...         ...         ...             ...             ...   \n",
              "93               No         Yes         Yes             Yes        Two year   \n",
              "94              Yes         Yes          No             Yes        Two year   \n",
              "95               No          No         Yes             Yes  Month-to-month   \n",
              "96              Yes         Yes         Yes             Yes        One year   \n",
              "97              Yes         Yes         Yes             Yes        One year   \n",
              "\n",
              "   PaperlessBilling              PaymentMethod  MonthlyCharges  TotalCharges  \\\n",
              "0                No    Credit card (automatic)           87.30       6055.55   \n",
              "1               Yes    Credit card (automatic)          108.45       4964.70   \n",
              "2               Yes    Credit card (automatic)          105.10       5083.55   \n",
              "3                No           Electronic check           89.60       2901.80   \n",
              "4               Yes           Electronic check           96.40       1581.20   \n",
              "..              ...                        ...             ...           ...   \n",
              "93               No  Bank transfer (automatic)           50.55       3364.55   \n",
              "94               No               Mailed check           99.65       4630.20   \n",
              "95              Yes           Electronic check           94.25       1973.75   \n",
              "96              Yes               Mailed check          104.55       2239.40   \n",
              "97              Yes           Electronic check          105.65        443.90   \n",
              "\n",
              "   Churn - prediction  \n",
              "0                  No  \n",
              "1                  No  \n",
              "2                  No  \n",
              "3                  No  \n",
              "4                 Yes  \n",
              "..                ...  \n",
              "93                 No  \n",
              "94                 No  \n",
              "95                Yes  \n",
              "96                 No  \n",
              "97                 No  \n",
              "\n",
              "[98 rows x 21 columns]"
            ]
          },
          "execution_count": 97,
          "metadata": {},
          "output_type": "execute_result"
        }
      ],
      "source": [
        "df_inf_all = pd.concat([X_inf, y_pred_inf], axis=1)\n",
        "df_inf_all.dropna(axis=0, inplace=True)\n",
        "df_inf_all"
      ]
    },
    {
      "cell_type": "markdown",
      "metadata": {
        "id": "CsCbQhcojBO_"
      },
      "source": [
        "# 11. Kesimpulan\n",
        "\n",
        "Pada bagian terakhir ini, harus berisi kesimpulan yang mencerminkan hasil yang didapat dengan objective yang sudah ditulis di bagian pengenalan."
      ]
    },
    {
      "cell_type": "markdown",
      "metadata": {
        "id": "emF6WtYbCFC6"
      },
      "source": [
        "1. Berdasarkan EDA :\n",
        "  - Pelanggan yang paling banyak pergi atau meninggalkan langganan produk selama setahun terakhir adalah pelanggan berjenis kelamin perempuan. Laki-laki juga terbilang banyak hanya selisih 9 orang. Meskipun begitu, kami masih bisa mempertahankan pelanggan kami untuk menggunakan produk layanan Telco.\n",
        "  - Meskipun beberapa pelanggan sudah pergi atau tidak berlangganan sejak sebulan terakhir, terlihat hasil pendapatan kami dari customer yang membayar total charges (total tagihan) dari customer yang tetap berlangganan pada produk kami masih terbilang besar, yaitu sebesar 13193241.8 (13 juta dollars).\n",
        "  - Pelanggan kami lebih banyak mengambil kontrak penggunaan produk layanan Telco secara Month-to-month dibanding per satu tahun atau dua tahun. \n",
        "  - Tagihan perbulan untuk kontrak Month-to-month lebih mahal dibanding dengan kontrak pertahun dan dua tahun.\n",
        "  - Kebanyakan pelanggan yang memiliki pasangan dan tangungan masih setia memakai layanan kami. Sehingga tidak terlalu mempengaruhi pelanggan tersebut pergi dari layanan Telco.\n",
        "\n",
        "2. Berdasarkan Model Evaluasi :\n",
        "  - Berdasarkan akurasi diantara 3 model yang sudah dibuat, rata-rata model menghasilkan akurasi sekitar 78%.\n",
        "  - Saat beberapa kali di training ulang, hasil `classificaton report` dan grafik loss selalu berubah-ubah. Ini wajar karena data yang kami pakai kecil, sedangkan model yang dibuat sangat Powerful.\n",
        "  - Karena kasus kami adalah mempertahankan pelanggan agar tetap menggunakan produk kami, kami akan membuat sebisa mungkin prediksi pelanggan yang tidak berlangganan yang harusnya berlangganan kecil. Ini bisa berbahaya jika pelanggan tidak mendapatkan layanan produk kami yang baru karena dideteksi pelanggan tersebut tidak berlangganan lagi.\n",
        "  -  Kami anggap pelanggan tetap adalah positif dan pelanggan pergi adalah negatif. Maka dari itu, menurut kami hal yang paling berbahaya adalah `false negatif`. Kami harus melihat nilai recall-nya. Jika nilai recall tinggi, maka `false negatif` kecil."
      ]
    }
  ],
  "metadata": {
    "accelerator": "GPU",
    "colab": {
      "collapsed_sections": [],
      "name": "h8dsft_Milestone1P2_lutfi_adam.ipynb",
      "provenance": []
    },
    "interpreter": {
      "hash": "d1eb415d2423691ab8033da02aac34a6b832aa094a09316f8fa35d1fd611d4d8"
    },
    "kernelspec": {
      "display_name": "Python 3 (ipykernel)",
      "language": "python",
      "name": "python3"
    },
    "language_info": {
      "codemirror_mode": {
        "name": "ipython",
        "version": 3
      },
      "file_extension": ".py",
      "mimetype": "text/x-python",
      "name": "python",
      "nbconvert_exporter": "python",
      "pygments_lexer": "ipython3",
      "version": "3.10.1"
    }
  },
  "nbformat": 4,
  "nbformat_minor": 0
}
